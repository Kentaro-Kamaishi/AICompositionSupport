{
 "cells": [
  {
   "cell_type": "code",
   "execution_count": 7,
   "metadata": {
    "scrolled": true
   },
   "outputs": [],
   "source": [
    "from __future__ import print_function\n",
    "from keras.callbacks import LambdaCallback\n",
    "from keras.models import Sequential\n",
    "from keras.models import load_model\n",
    "from keras.layers import Dense, Dropout\n",
    "from keras.layers import LSTM\n",
    "from keras.optimizers import RMSprop\n",
    "\n",
    "import numpy as np\n",
    "import random\n",
    "import sys"
   ]
  },
  {
   "cell_type": "markdown",
   "metadata": {},
   "source": [
    "# 準備"
   ]
  },
  {
   "cell_type": "code",
   "execution_count": 10,
   "metadata": {
    "scrolled": true
   },
   "outputs": [],
   "source": [
    "from tqdm import tqdm\n",
    "import music21 as m21\n",
    "import os\n",
    "\n",
    "path = \"../midi/元データ/MelodyTrackList.txt\" #トラック指定のファイル\n",
    "\n",
    "music_keys = ('C')\n",
    "text = []\n",
    "\n",
    "TrackList = []\n",
    "with open(path) as f:\n",
    "    TrackList = [s.strip().split(\"=\") for s in f.readlines()] #パスとトラック番号を区切ってリスト化\n"
   ]
  },
  {
   "cell_type": "markdown",
   "metadata": {},
   "source": [
    "# 音符・休符の文字列への変換"
   ]
  },
  {
   "cell_type": "code",
   "execution_count": 11,
   "metadata": {
    "collapsed": true
   },
   "outputs": [
    {
     "name": "stderr",
     "output_type": "stream",
     "text": [
      "\r",
      "  0%|                                                                                           | 0/33 [00:00<?, ?it/s]"
     ]
    },
    {
     "name": "stdout",
     "output_type": "stream",
     "text": [
      "../midi/元データ\\001.mid4\n"
     ]
    },
    {
     "name": "stderr",
     "output_type": "stream",
     "text": [
      "\r",
      "  3%|██▌                                                                                | 1/33 [00:00<00:18,  1.72it/s]"
     ]
    },
    {
     "name": "stdout",
     "output_type": "stream",
     "text": [
      "../midi/元データ\\5ive_-_Dont_Wanna_Let_You_Go.mid16\n"
     ]
    },
    {
     "name": "stderr",
     "output_type": "stream",
     "text": [
      "\r",
      "  6%|█████                                                                              | 2/33 [00:01<00:21,  1.44it/s]"
     ]
    },
    {
     "name": "stdout",
     "output_type": "stream",
     "text": [
      "../midi/元データ\\ainoaisatu.mid5\n"
     ]
    },
    {
     "name": "stderr",
     "output_type": "stream",
     "text": [
      "\r",
      "  9%|███████▌                                                                           | 3/33 [00:01<00:17,  1.71it/s]"
     ]
    },
    {
     "name": "stdout",
     "output_type": "stream",
     "text": [
      "../midi/元データ\\airsulg.mid5\n"
     ]
    },
    {
     "name": "stderr",
     "output_type": "stream",
     "text": [
      "\r",
      " 12%|██████████                                                                         | 4/33 [00:02<00:14,  2.01it/s]"
     ]
    },
    {
     "name": "stdout",
     "output_type": "stream",
     "text": [
      "../midi/元データ\\amairo.mid6\n"
     ]
    },
    {
     "name": "stderr",
     "output_type": "stream",
     "text": [
      " 18%|███████████████                                                                    | 6/33 [00:02<00:11,  2.35it/s]"
     ]
    },
    {
     "name": "stdout",
     "output_type": "stream",
     "text": [
      "../midi/元データ\\amaririsu.mid7\n",
      "../midi/元データ\\amepato.mid6\n"
     ]
    },
    {
     "name": "stderr",
     "output_type": "stream",
     "text": [
      "\r",
      " 21%|█████████████████▌                                                                 | 7/33 [00:03<00:10,  2.47it/s]"
     ]
    },
    {
     "name": "stdout",
     "output_type": "stream",
     "text": [
      "../midi/元データ\\annie_laurie.mid5\n"
     ]
    },
    {
     "name": "stderr",
     "output_type": "stream",
     "text": [
      " 27%|██████████████████████▋                                                            | 9/33 [00:03<00:07,  3.17it/s]"
     ]
    },
    {
     "name": "stdout",
     "output_type": "stream",
     "text": [
      "../midi/元データ\\aogeba.mid6\n",
      "../midi/元データ\\asibue.mid5\n"
     ]
    },
    {
     "name": "stderr",
     "output_type": "stream",
     "text": [
      "\r",
      " 30%|████████████████████████▊                                                         | 10/33 [00:04<00:08,  2.68it/s]"
     ]
    },
    {
     "name": "stdout",
     "output_type": "stream",
     "text": [
      "../midi/元データ\\avemaria.mid4\n"
     ]
    },
    {
     "name": "stderr",
     "output_type": "stream",
     "text": [
      " 36%|█████████████████████████████▊                                                    | 12/33 [00:04<00:07,  2.81it/s]"
     ]
    },
    {
     "name": "stdout",
     "output_type": "stream",
     "text": [
      "../midi/元データ\\carousel.mid6\n",
      "../midi/元データ\\clapolka.mid5\n"
     ]
    },
    {
     "name": "stderr",
     "output_type": "stream",
     "text": [
      " 42%|██████████████████████████████████▊                                               | 14/33 [00:06<00:09,  1.91it/s]"
     ]
    },
    {
     "name": "stdout",
     "output_type": "stream",
     "text": [
      "../midi/元データ\\d-akaikutu.mid1\n"
     ]
    },
    {
     "name": "stderr",
     "output_type": "stream",
     "text": [
      "\r",
      " 45%|█████████████████████████████████████▎                                            | 15/33 [00:06<00:08,  2.16it/s]"
     ]
    },
    {
     "name": "stdout",
     "output_type": "stream",
     "text": [
      "../midi/元データ\\d-arupusu.mid5\n",
      "../midi/元データ\\d-chatu.mid4\n"
     ]
    },
    {
     "name": "stderr",
     "output_type": "stream",
     "text": [
      " 52%|██████████████████████████████████████████▏                                       | 17/33 [00:07<00:06,  2.32it/s]"
     ]
    },
    {
     "name": "stdout",
     "output_type": "stream",
     "text": [
      "../midi/元データ\\d-choucho.mid3\n"
     ]
    },
    {
     "name": "stderr",
     "output_type": "stream",
     "text": [
      "\r",
      " 55%|████████████████████████████████████████████▋                                     | 18/33 [00:08<00:05,  2.66it/s]"
     ]
    },
    {
     "name": "stdout",
     "output_type": "stream",
     "text": [
      "../midi/元データ\\d-fujisan.mid4\n",
      "../midi/元データ\\d-fuyugesiki.mid4\n"
     ]
    },
    {
     "name": "stderr",
     "output_type": "stream",
     "text": [
      " 61%|█████████████████████████████████████████████████▋                                | 20/33 [00:08<00:03,  3.92it/s]"
     ]
    },
    {
     "name": "stdout",
     "output_type": "stream",
     "text": [
      "../midi/元データ\\d-genkotu.mid5\n"
     ]
    },
    {
     "name": "stderr",
     "output_type": "stream",
     "text": [
      "\r",
      " 64%|████████████████████████████████████████████████████▏                             | 21/33 [00:08<00:03,  3.64it/s]"
     ]
    },
    {
     "name": "stdout",
     "output_type": "stream",
     "text": [
      "../midi/元データ\\d-gonbe.mid5\n",
      "../midi/元データ\\d-hamabe.mid4\n"
     ]
    },
    {
     "name": "stderr",
     "output_type": "stream",
     "text": [
      " 70%|█████████████████████████████████████████████████████████▏                        | 23/33 [00:08<00:02,  4.71it/s]"
     ]
    },
    {
     "name": "stdout",
     "output_type": "stream",
     "text": [
      "../midi/元データ\\d-hamatidori.mid2\n",
      "../midi/元データ\\d-haruga.mid5\n"
     ]
    },
    {
     "name": "stderr",
     "output_type": "stream",
     "text": [
      " 76%|██████████████████████████████████████████████████████████████                    | 25/33 [00:09<00:01,  5.02it/s]"
     ]
    },
    {
     "name": "stdout",
     "output_type": "stream",
     "text": [
      "../midi/元データ\\d-harun.mid3\n",
      "../midi/元データ\\d-harunohino.mid3\n"
     ]
    },
    {
     "name": "stderr",
     "output_type": "stream",
     "text": [
      " 82%|███████████████████████████████████████████████████████████████████               | 27/33 [00:09<00:00,  6.07it/s]"
     ]
    },
    {
     "name": "stdout",
     "output_type": "stream",
     "text": [
      "../midi/元データ\\d-haruyo.mid2\n",
      "../midi/元データ\\d-hiraita.mid3\n"
     ]
    },
    {
     "name": "stderr",
     "output_type": "stream",
     "text": [
      " 88%|████████████████████████████████████████████████████████████████████████          | 29/33 [00:09<00:00,  5.58it/s]"
     ]
    },
    {
     "name": "stdout",
     "output_type": "stream",
     "text": [
      "../midi/元データ\\d-hotaru.mid4\n",
      "../midi/元データ\\d-itigatu.mid3\n"
     ]
    },
    {
     "name": "stderr",
     "output_type": "stream",
     "text": [
      "\r",
      " 91%|██████████████████████████████████████████████████████████████████████████▌       | 30/33 [00:10<00:00,  6.28it/s]"
     ]
    },
    {
     "name": "stdout",
     "output_type": "stream",
     "text": [
      "../midi/元データ\\d-itiniti.mid2\n",
      "../midi/元データ\\d-jinguru.mid5\n"
     ]
    },
    {
     "name": "stderr",
     "output_type": "stream",
     "text": [
      "100%|██████████████████████████████████████████████████████████████████████████████████| 33/33 [00:10<00:00,  3.10it/s]"
     ]
    },
    {
     "name": "stdout",
     "output_type": "stream",
     "text": [
      "../midi/元データ\\d-kaeru.mid7\n"
     ]
    },
    {
     "name": "stderr",
     "output_type": "stream",
     "text": [
      "\n"
     ]
    }
   ],
   "source": [
    "for x in tqdm(TrackList):\n",
    "    track = m21.converter.parse(x[0])\n",
    "    print(x[0]+str(len(track.parts)))\n",
    "    piece = track.parts[int(x[1])-1]\n",
    "    \n",
    "    for trans_key in music_keys:\n",
    "        k = piece.analyze('key')\n",
    "        trans = trans_key\n",
    "        \n",
    "        i = m21.interval.Interval(k.tonic, m21.pitch.Pitch(trans))\n",
    "        trans_piece = piece.transpose(i)\n",
    "        for n in trans_piece.flat.notesAndRests:\n",
    "            if not isinstance(n, m21.chord.Chord):\n",
    "                text.append(str(n.name) + '_' + str(n.duration.quarterLength) + ' ')"
   ]
  },
  {
   "cell_type": "markdown",
   "metadata": {},
   "source": [
    "# 辞書の作成"
   ]
  },
  {
   "cell_type": "code",
   "execution_count": 12,
   "metadata": {
    "scrolled": false
   },
   "outputs": [
    {
     "name": "stdout",
     "output_type": "stream",
     "text": [
      "LSTM start\n"
     ]
    }
   ],
   "source": [
    "print(\"LSTM start\")\n",
    "chars = text\n",
    "count = 0\n",
    "char_indices = {} #辞書\n",
    "indices_char = {} #逆引き辞書\n",
    "\n",
    "for word in chars:\n",
    "    if not word in char_indices:\n",
    "        char_indices[word] = count #key=word, value=count\n",
    "        count += 1\n",
    "        #print(count, word)\n",
    "\n",
    "#逆引き辞書の作成\n",
    "indices_char = dict([(value, key) for (key, value) in char_indices.items()])\n"
   ]
  },
  {
   "cell_type": "markdown",
   "metadata": {},
   "source": [
    "# 文章の作成"
   ]
  },
  {
   "cell_type": "code",
   "execution_count": 13,
   "metadata": {},
   "outputs": [
    {
     "name": "stdout",
     "output_type": "stream",
     "text": [
      "nb sequences: 6822\n"
     ]
    }
   ],
   "source": [
    "maxlen = 16\n",
    "step = 1\n",
    "sentences = []\n",
    "next_chars = []\n",
    "for i in range(0, len(text)-maxlen, step): #初項0, 末項len..., 公差step\n",
    "    sentences.append(text[i:i+maxlen])\n",
    "    next_chars.append(text[i+maxlen])\n",
    "\n",
    "print(\"nb sequences:\", len(sentences))"
   ]
  },
  {
   "cell_type": "markdown",
   "metadata": {},
   "source": [
    "# One-Hotベクトル化"
   ]
  },
  {
   "cell_type": "code",
   "execution_count": 14,
   "metadata": {},
   "outputs": [
    {
     "name": "stdout",
     "output_type": "stream",
     "text": [
      "Vectorization...\n"
     ]
    }
   ],
   "source": [
    "print(\"Vectorization...\")\n",
    "x = np.zeros((len(sentences), maxlen, len(chars)), dtype=np.bool)\n",
    "y = np.zeros((len(sentences), len(chars)), dtype=np.bool)\n",
    "\n",
    "for i, sentence in enumerate(sentences):\n",
    "    for t, char in enumerate(sentence):\n",
    "        x[i, t, char_indices[char]] = 1 #sentence番号, sentence内のindex, 辞書での文字の番号\n",
    "    y[i, char_indices[next_chars[i]]] = 1 #正解データ\n"
   ]
  },
  {
   "cell_type": "markdown",
   "metadata": {},
   "source": [
    "# モデルの作成"
   ]
  },
  {
   "cell_type": "code",
   "execution_count": 15,
   "metadata": {},
   "outputs": [
    {
     "name": "stdout",
     "output_type": "stream",
     "text": [
      "Build model...\n",
      "WARNING:tensorflow:From C:\\Users\\KenK\\anaconda3\\envs\\dl\\lib\\site-packages\\keras\\backend\\tensorflow_backend.py:422: The name tf.global_variables is deprecated. Please use tf.compat.v1.global_variables instead.\n",
      "\n",
      "Train on 5457 samples, validate on 1365 samples\n",
      "Epoch 1/100\n",
      "5457/5457 [==============================] - 7s 1ms/step - loss: 5.0837 - accuracy: 0.0709 - val_loss: 4.4818 - val_accuracy: 0.0227\n",
      "Epoch 2/100\n",
      "5457/5457 [==============================] - 5s 941us/step - loss: 4.0483 - accuracy: 0.0828 - val_loss: 4.2871 - val_accuracy: 0.0520\n",
      "Epoch 3/100\n",
      "5457/5457 [==============================] - 5s 929us/step - loss: 3.8265 - accuracy: 0.1021 - val_loss: 4.2130 - val_accuracy: 0.0374\n",
      "Epoch 4/100\n",
      "5457/5457 [==============================] - 5s 936us/step - loss: 3.7247 - accuracy: 0.1145 - val_loss: 4.0693 - val_accuracy: 0.0579\n",
      "Epoch 5/100\n",
      "5457/5457 [==============================] - 5s 938us/step - loss: 3.6912 - accuracy: 0.1329 - val_loss: 3.9952 - val_accuracy: 0.0689\n",
      "Epoch 6/100\n",
      "5457/5457 [==============================] - 5s 938us/step - loss: 3.4446 - accuracy: 0.1492 - val_loss: 3.9163 - val_accuracy: 0.1385\n",
      "Epoch 7/100\n",
      "5457/5457 [==============================] - 5s 919us/step - loss: 3.3135 - accuracy: 0.1728 - val_loss: 3.8805 - val_accuracy: 0.1421\n",
      "Epoch 8/100\n",
      "5457/5457 [==============================] - 5s 910us/step - loss: 3.1793 - accuracy: 0.2012 - val_loss: 3.9049 - val_accuracy: 0.1685\n",
      "Epoch 9/100\n",
      "5457/5457 [==============================] - 5s 916us/step - loss: 3.0545 - accuracy: 0.2252 - val_loss: 3.8237 - val_accuracy: 0.1795\n",
      "Epoch 10/100\n",
      "5457/5457 [==============================] - 5s 912us/step - loss: 2.9138 - accuracy: 0.2547 - val_loss: 3.7682 - val_accuracy: 0.2029\n",
      "Epoch 11/100\n",
      "5457/5457 [==============================] - 5s 901us/step - loss: 2.7881 - accuracy: 0.2932 - val_loss: 3.8145 - val_accuracy: 0.1626\n",
      "Epoch 12/100\n",
      "5457/5457 [==============================] - 5s 905us/step - loss: 2.6616 - accuracy: 0.3198 - val_loss: 3.7975 - val_accuracy: 0.1722\n",
      "Epoch 13/100\n",
      "5457/5457 [==============================] - 5s 911us/step - loss: 2.5484 - accuracy: 0.3474 - val_loss: 3.7805 - val_accuracy: 0.2161\n",
      "Epoch 14/100\n",
      "5457/5457 [==============================] - 6s 1ms/step - loss: 2.4389 - accuracy: 0.3650 - val_loss: 3.8441 - val_accuracy: 0.1839\n",
      "Epoch 15/100\n",
      "5457/5457 [==============================] - 6s 1ms/step - loss: 2.3377 - accuracy: 0.3885 - val_loss: 3.8605 - val_accuracy: 0.1963\n",
      "Epoch 16/100\n",
      "5457/5457 [==============================] - 6s 1ms/step - loss: 2.2324 - accuracy: 0.4185 - val_loss: 3.9680 - val_accuracy: 0.1634\n",
      "Epoch 17/100\n",
      "5457/5457 [==============================] - 6s 1ms/step - loss: 2.1416 - accuracy: 0.4385 - val_loss: 3.8689 - val_accuracy: 0.1883\n",
      "Epoch 18/100\n",
      "5457/5457 [==============================] - 5s 925us/step - loss: 2.0476 - accuracy: 0.4638 - val_loss: 3.9749 - val_accuracy: 0.2037\n",
      "Epoch 19/100\n",
      "5457/5457 [==============================] - 5s 924us/step - loss: 1.9670 - accuracy: 0.4812 - val_loss: 4.0471 - val_accuracy: 0.1766\n",
      "Epoch 20/100\n",
      "5457/5457 [==============================] - 5s 906us/step - loss: 1.8873 - accuracy: 0.5019 - val_loss: 4.0394 - val_accuracy: 0.1956\n",
      "Epoch 21/100\n",
      "5457/5457 [==============================] - 5s 921us/step - loss: 1.8084 - accuracy: 0.5248 - val_loss: 4.0895 - val_accuracy: 0.1773\n",
      "Epoch 22/100\n",
      "5457/5457 [==============================] - 5s 898us/step - loss: 1.7327 - accuracy: 0.5474 - val_loss: 4.1586 - val_accuracy: 0.1758\n",
      "Epoch 23/100\n",
      "5457/5457 [==============================] - 5s 905us/step - loss: 1.6729 - accuracy: 0.5617 - val_loss: 4.1968 - val_accuracy: 0.1531\n",
      "Epoch 24/100\n",
      "5457/5457 [==============================] - 5s 909us/step - loss: 1.6027 - accuracy: 0.5776 - val_loss: 4.2319 - val_accuracy: 0.1846\n",
      "Epoch 25/100\n",
      "5457/5457 [==============================] - 5s 913us/step - loss: 1.5471 - accuracy: 0.5979 - val_loss: 4.3944 - val_accuracy: 0.1670\n",
      "Epoch 26/100\n",
      "5457/5457 [==============================] - 5s 916us/step - loss: 1.4861 - accuracy: 0.6148 - val_loss: 4.3447 - val_accuracy: 0.1810\n",
      "Epoch 27/100\n",
      "5457/5457 [==============================] - 5s 908us/step - loss: 1.4213 - accuracy: 0.6326 - val_loss: 4.4507 - val_accuracy: 0.1692\n",
      "Epoch 28/100\n",
      "5457/5457 [==============================] - 5s 912us/step - loss: 1.3756 - accuracy: 0.6419 - val_loss: 4.4171 - val_accuracy: 0.1883\n",
      "Epoch 29/100\n",
      "5457/5457 [==============================] - 5s 908us/step - loss: 1.3260 - accuracy: 0.6566 - val_loss: 4.5716 - val_accuracy: 0.1802\n",
      "Epoch 30/100\n",
      "5457/5457 [==============================] - 5s 905us/step - loss: 1.2706 - accuracy: 0.6729 - val_loss: 4.4935 - val_accuracy: 0.1722\n",
      "Epoch 31/100\n",
      "5457/5457 [==============================] - 5s 905us/step - loss: 1.2280 - accuracy: 0.6865 - val_loss: 4.6474 - val_accuracy: 0.1832\n",
      "Epoch 32/100\n",
      "5457/5457 [==============================] - 5s 915us/step - loss: 1.1862 - accuracy: 0.6971 - val_loss: 4.6818 - val_accuracy: 0.1700\n",
      "Epoch 33/100\n",
      "5457/5457 [==============================] - 5s 905us/step - loss: 1.1504 - accuracy: 0.7024 - val_loss: 4.6622 - val_accuracy: 0.1634\n",
      "Epoch 34/100\n",
      "5457/5457 [==============================] - 5s 905us/step - loss: 1.0930 - accuracy: 0.7183 - val_loss: 4.7718 - val_accuracy: 0.1685\n",
      "Epoch 35/100\n",
      "5457/5457 [==============================] - 5s 915us/step - loss: 1.0730 - accuracy: 0.7246 - val_loss: 4.8281 - val_accuracy: 0.1744\n",
      "Epoch 36/100\n",
      "5457/5457 [==============================] - 5s 911us/step - loss: 1.0106 - accuracy: 0.7455 - val_loss: 4.8763 - val_accuracy: 0.1707\n",
      "Epoch 37/100\n",
      "5457/5457 [==============================] - 5s 907us/step - loss: 0.9893 - accuracy: 0.7500 - val_loss: 4.9019 - val_accuracy: 0.1692\n",
      "Epoch 38/100\n",
      "5457/5457 [==============================] - 5s 900us/step - loss: 0.9396 - accuracy: 0.7621 - val_loss: 5.0086 - val_accuracy: 0.1685\n",
      "Epoch 39/100\n",
      "5457/5457 [==============================] - 5s 906us/step - loss: 0.9176 - accuracy: 0.7673 - val_loss: 5.1110 - val_accuracy: 0.1612\n",
      "Epoch 40/100\n",
      "5457/5457 [==============================] - 5s 910us/step - loss: 0.8762 - accuracy: 0.7812 - val_loss: 5.0984 - val_accuracy: 0.1744\n",
      "Epoch 41/100\n",
      "5457/5457 [==============================] - 5s 908us/step - loss: 0.8439 - accuracy: 0.7883 - val_loss: 5.2865 - val_accuracy: 0.1656\n",
      "Epoch 42/100\n",
      "5457/5457 [==============================] - 5s 912us/step - loss: 0.8141 - accuracy: 0.7984 - val_loss: 5.2584 - val_accuracy: 0.1612\n",
      "Epoch 43/100\n",
      "5457/5457 [==============================] - 5s 910us/step - loss: 0.7904 - accuracy: 0.8015 - val_loss: 5.4445 - val_accuracy: 0.1707\n",
      "Epoch 44/100\n",
      "5457/5457 [==============================] - 5s 913us/step - loss: 0.7555 - accuracy: 0.8113 - val_loss: 5.3980 - val_accuracy: 0.1451\n",
      "Epoch 45/100\n",
      "5457/5457 [==============================] - 5s 906us/step - loss: 0.7454 - accuracy: 0.8127 - val_loss: 5.5059 - val_accuracy: 0.1553\n",
      "Epoch 46/100\n",
      "5457/5457 [==============================] - 5s 913us/step - loss: 0.6939 - accuracy: 0.8312 - val_loss: 5.5692 - val_accuracy: 0.1648\n",
      "Epoch 47/100\n",
      "5457/5457 [==============================] - 5s 904us/step - loss: 0.6916 - accuracy: 0.8298 - val_loss: 5.5458 - val_accuracy: 0.1729\n",
      "Epoch 48/100\n",
      "5457/5457 [==============================] - 5s 906us/step - loss: 0.6426 - accuracy: 0.8420 - val_loss: 5.6332 - val_accuracy: 0.1582\n",
      "Epoch 49/100\n",
      "5457/5457 [==============================] - 5s 908us/step - loss: 0.6201 - accuracy: 0.8464 - val_loss: 5.6202 - val_accuracy: 0.1751\n",
      "Epoch 50/100\n",
      "5457/5457 [==============================] - 5s 909us/step - loss: 0.5950 - accuracy: 0.8545 - val_loss: 5.6953 - val_accuracy: 0.1729\n",
      "Epoch 51/100\n",
      "5457/5457 [==============================] - 5s 908us/step - loss: 0.5783 - accuracy: 0.8593 - val_loss: 5.8835 - val_accuracy: 0.1612\n",
      "Epoch 52/100\n",
      "5457/5457 [==============================] - 5s 918us/step - loss: 0.5664 - accuracy: 0.8627 - val_loss: 5.9136 - val_accuracy: 0.1465\n",
      "Epoch 53/100\n",
      "5457/5457 [==============================] - 5s 901us/step - loss: 0.5401 - accuracy: 0.8695 - val_loss: 5.9803 - val_accuracy: 0.1370\n",
      "Epoch 54/100\n"
     ]
    },
    {
     "name": "stdout",
     "output_type": "stream",
     "text": [
      "5457/5457 [==============================] - 5s 900us/step - loss: 0.5166 - accuracy: 0.8763 - val_loss: 6.0735 - val_accuracy: 0.1502\n",
      "Epoch 55/100\n",
      "5457/5457 [==============================] - 5s 910us/step - loss: 0.5104 - accuracy: 0.8772 - val_loss: 5.9547 - val_accuracy: 0.1575\n",
      "Epoch 56/100\n",
      "5457/5457 [==============================] - 5s 910us/step - loss: 0.4895 - accuracy: 0.8844 - val_loss: 6.0809 - val_accuracy: 0.1612\n",
      "Epoch 57/100\n",
      "5457/5457 [==============================] - 5s 905us/step - loss: 0.4594 - accuracy: 0.8871 - val_loss: 6.2770 - val_accuracy: 0.1538\n",
      "Epoch 58/100\n",
      "5457/5457 [==============================] - 5s 908us/step - loss: 0.4540 - accuracy: 0.8900 - val_loss: 6.0560 - val_accuracy: 0.1641\n",
      "Epoch 59/100\n",
      "5457/5457 [==============================] - 5s 910us/step - loss: 0.4257 - accuracy: 0.9020 - val_loss: 6.3810 - val_accuracy: 0.1685\n",
      "Epoch 60/100\n",
      "5457/5457 [==============================] - 5s 902us/step - loss: 0.4206 - accuracy: 0.9031 - val_loss: 6.4622 - val_accuracy: 0.1531\n",
      "Epoch 61/100\n",
      "5457/5457 [==============================] - 5s 919us/step - loss: 0.3927 - accuracy: 0.9102 - val_loss: 6.6295 - val_accuracy: 0.1560\n",
      "Epoch 62/100\n",
      "5457/5457 [==============================] - 5s 910us/step - loss: 0.3997 - accuracy: 0.9054 - val_loss: 6.5112 - val_accuracy: 0.1516\n",
      "Epoch 63/100\n",
      "5457/5457 [==============================] - 5s 913us/step - loss: 0.3633 - accuracy: 0.9152 - val_loss: 6.6268 - val_accuracy: 0.1421\n",
      "Epoch 64/100\n",
      "5457/5457 [==============================] - 5s 910us/step - loss: 0.3652 - accuracy: 0.9174 - val_loss: 6.5615 - val_accuracy: 0.1429\n",
      "Epoch 65/100\n",
      "5457/5457 [==============================] - 5s 922us/step - loss: 0.3503 - accuracy: 0.9192 - val_loss: 6.8041 - val_accuracy: 0.1458\n",
      "Epoch 66/100\n",
      "5457/5457 [==============================] - 5s 913us/step - loss: 0.3266 - accuracy: 0.9245 - val_loss: 6.6825 - val_accuracy: 0.1473\n",
      "Epoch 67/100\n",
      "5457/5457 [==============================] - 5s 913us/step - loss: 0.3260 - accuracy: 0.9245 - val_loss: 6.8343 - val_accuracy: 0.1341\n",
      "Epoch 68/100\n",
      "5457/5457 [==============================] - 5s 917us/step - loss: 0.3067 - accuracy: 0.9331 - val_loss: 6.8531 - val_accuracy: 0.1495\n",
      "Epoch 69/100\n",
      "5457/5457 [==============================] - 5s 932us/step - loss: 0.3016 - accuracy: 0.9307 - val_loss: 6.7551 - val_accuracy: 0.1495\n",
      "Epoch 70/100\n",
      "5457/5457 [==============================] - 5s 918us/step - loss: 0.2873 - accuracy: 0.9338 - val_loss: 6.9046 - val_accuracy: 0.1487\n",
      "Epoch 71/100\n",
      "5457/5457 [==============================] - 5s 924us/step - loss: 0.2924 - accuracy: 0.9346 - val_loss: 7.0192 - val_accuracy: 0.1407\n",
      "Epoch 72/100\n",
      "5457/5457 [==============================] - 5s 926us/step - loss: 0.2768 - accuracy: 0.9337 - val_loss: 7.1140 - val_accuracy: 0.1304\n",
      "Epoch 73/100\n",
      "5457/5457 [==============================] - 5s 935us/step - loss: 0.2648 - accuracy: 0.9406 - val_loss: 7.1411 - val_accuracy: 0.1253\n",
      "Epoch 74/100\n",
      "5457/5457 [==============================] - 5s 928us/step - loss: 0.2654 - accuracy: 0.9362 - val_loss: 7.2116 - val_accuracy: 0.1487\n",
      "Epoch 75/100\n",
      "5457/5457 [==============================] - 5s 927us/step - loss: 0.2527 - accuracy: 0.9448 - val_loss: 7.1840 - val_accuracy: 0.1414\n",
      "Epoch 76/100\n",
      "5457/5457 [==============================] - 5s 954us/step - loss: 0.2342 - accuracy: 0.9472 - val_loss: 7.2561 - val_accuracy: 0.1553\n",
      "Epoch 77/100\n",
      "5457/5457 [==============================] - 5s 984us/step - loss: 0.2347 - accuracy: 0.9483 - val_loss: 7.3958 - val_accuracy: 0.1407\n",
      "Epoch 78/100\n",
      "5457/5457 [==============================] - 6s 1ms/step - loss: 0.2238 - accuracy: 0.9514 - val_loss: 7.3692 - val_accuracy: 0.1436\n",
      "Epoch 79/100\n",
      "5457/5457 [==============================] - 5s 936us/step - loss: 0.2250 - accuracy: 0.9478 - val_loss: 7.4500 - val_accuracy: 0.1524\n",
      "Epoch 80/100\n",
      "5457/5457 [==============================] - 6s 1ms/step - loss: 0.1970 - accuracy: 0.9542 - val_loss: 7.5277 - val_accuracy: 0.1509\n",
      "Epoch 81/100\n",
      "5457/5457 [==============================] - 5s 946us/step - loss: 0.2019 - accuracy: 0.9538 - val_loss: 7.5311 - val_accuracy: 0.1451\n",
      "Epoch 82/100\n",
      "5457/5457 [==============================] - 6s 1ms/step - loss: 0.2200 - accuracy: 0.9503 - val_loss: 7.5808 - val_accuracy: 0.1436\n",
      "Epoch 83/100\n",
      "5457/5457 [==============================] - 5s 931us/step - loss: 0.1883 - accuracy: 0.9588 - val_loss: 7.5567 - val_accuracy: 0.1399\n",
      "Epoch 84/100\n",
      "5457/5457 [==============================] - 5s 913us/step - loss: 0.1768 - accuracy: 0.9617 - val_loss: 7.8021 - val_accuracy: 0.1458\n",
      "Epoch 85/100\n",
      "5457/5457 [==============================] - 5s 900us/step - loss: 0.1890 - accuracy: 0.9571 - val_loss: 7.8364 - val_accuracy: 0.1473\n",
      "Epoch 86/100\n",
      "5457/5457 [==============================] - 5s 925us/step - loss: 0.1884 - accuracy: 0.9558 - val_loss: 7.7443 - val_accuracy: 0.1436\n",
      "Epoch 87/100\n",
      "5457/5457 [==============================] - 5s 913us/step - loss: 0.1783 - accuracy: 0.9571 - val_loss: 7.9697 - val_accuracy: 0.1348\n",
      "Epoch 88/100\n",
      "5457/5457 [==============================] - 5s 913us/step - loss: 0.1635 - accuracy: 0.9633 - val_loss: 7.9728 - val_accuracy: 0.1377\n",
      "Epoch 89/100\n",
      "5457/5457 [==============================] - 5s 924us/step - loss: 0.1639 - accuracy: 0.9626 - val_loss: 8.0072 - val_accuracy: 0.1311\n",
      "Epoch 90/100\n",
      "5457/5457 [==============================] - 5s 904us/step - loss: 0.1433 - accuracy: 0.9679 - val_loss: 8.0959 - val_accuracy: 0.1399\n",
      "Epoch 91/100\n",
      "5457/5457 [==============================] - 5s 908us/step - loss: 0.1595 - accuracy: 0.9632 - val_loss: 8.1364 - val_accuracy: 0.1297\n",
      "Epoch 92/100\n",
      "5457/5457 [==============================] - 5s 936us/step - loss: 0.1628 - accuracy: 0.9623 - val_loss: 8.1535 - val_accuracy: 0.1421\n",
      "Epoch 93/100\n",
      "5457/5457 [==============================] - 5s 912us/step - loss: 0.1254 - accuracy: 0.9727 - val_loss: 8.1651 - val_accuracy: 0.1436\n",
      "Epoch 94/100\n",
      "5457/5457 [==============================] - 5s 910us/step - loss: 0.1551 - accuracy: 0.9639 - val_loss: 8.2786 - val_accuracy: 0.1385\n",
      "Epoch 95/100\n",
      "5457/5457 [==============================] - 5s 905us/step - loss: 0.1249 - accuracy: 0.9731 - val_loss: 8.2062 - val_accuracy: 0.1473\n",
      "Epoch 96/100\n",
      "5457/5457 [==============================] - 5s 889us/step - loss: 0.1301 - accuracy: 0.9685 - val_loss: 8.4697 - val_accuracy: 0.1326\n",
      "Epoch 97/100\n",
      "5457/5457 [==============================] - 5s 904us/step - loss: 0.1366 - accuracy: 0.9672 - val_loss: 8.3400 - val_accuracy: 0.1363\n",
      "Epoch 98/100\n",
      "5457/5457 [==============================] - 5s 903us/step - loss: 0.1189 - accuracy: 0.9740 - val_loss: 8.4470 - val_accuracy: 0.1275\n",
      "Epoch 99/100\n",
      "5457/5457 [==============================] - 5s 918us/step - loss: 0.1328 - accuracy: 0.9683 - val_loss: 8.4536 - val_accuracy: 0.1516\n",
      "Epoch 100/100\n",
      "5457/5457 [==============================] - 5s 928us/step - loss: 0.1140 - accuracy: 0.9754 - val_loss: 8.5845 - val_accuracy: 0.1282\n"
     ]
    }
   ],
   "source": [
    "from keras import regularizers\n",
    "epochs = 100 #500\n",
    "print(\"Build model...\")\n",
    "model = Sequential()\n",
    "#model.add(Dropout(0.2))\n",
    "model.add(LSTM(30, input_shape=(maxlen, len(chars))))\n",
    "#model.add(Dropout(0.5))\n",
    "model.add(Dense(len(chars), activation='softmax'))\n",
    "#model.add(Dense(len(chars), activation='softmax' ,kernel_regularizer=regularizers.l2(0.002)))\n",
    "\n",
    "optimizer = RMSprop(lr=0.01)\n",
    "model.compile(loss='categorical_crossentropy', optimizer=optimizer,metrics=['accuracy'])\n",
    "stack = model.fit(x,y,batch_size=256,epochs=epochs, validation_split=0.2)\n",
    "model.save('melo.h5')"
   ]
  },
  {
   "cell_type": "markdown",
   "metadata": {},
   "source": [
    "# 学習曲線の描画"
   ]
  },
  {
   "cell_type": "code",
   "execution_count": 16,
   "metadata": {},
   "outputs": [
    {
     "data": {
      "image/png": "[encoded data removed]",
      "text/plain": [
       "<Figure size 432x288 with 1 Axes>"
      ]
     },
     "metadata": {
      "image/png": {
       "height": 263,
       "width": 458
      },
      "needs_background": "light"
     },
     "output_type": "display_data"
    },
    {
     "data": {
      "image/png": "[encoded data removed]",
      "text/plain": [
       "<Figure size 432x288 with 1 Axes>"
      ]
     },
     "metadata": {
      "image/png": {
       "height": 263,
       "width": 422
      },
      "needs_background": "light"
     },
     "output_type": "display_data"
    }
   ],
   "source": [
    "import matplotlib.pyplot as plt\n",
    "\n",
    "x = range(epochs)\n",
    "\n",
    "plt.plot(x, stack.history['accuracy'], label=\"accuracy\")\n",
    "#plt.plot(x, stack.history['val_accuracy'], label=\"val_accuracy\", color=\"orange\")\n",
    "plt.title(\"accuracy\")\n",
    "plt.legend(loc='center left', bbox_to_anchor=(1, 0.5))\n",
    "plt.show()\n",
    "\n",
    "\n",
    "plt.plot(x, stack.history['loss'], label=\"loss\")\n",
    "#plt.plot(x, stack.history['val_loss'], label=\"val_loss\", color=\"orange\")\n",
    "plt.title(\"loss\")\n",
    "plt.legend(loc='center left', bbox_to_anchor=(1, 0.5))\n",
    "plt.show()\n"
   ]
  },
  {
   "cell_type": "markdown",
   "metadata": {},
   "source": [
    "# 主旋律の生成"
   ]
  },
  {
   "cell_type": "code",
   "execution_count": 20,
   "metadata": {},
   "outputs": [],
   "source": [
    "def sample(preds, temperature=1.0):\n",
    "    preds = np.asarray(preds).astype('float64')\n",
    "    preds = np.log(preds) / temperature\n",
    "    exp_preds = np.exp(preds)\n",
    "    preds = exp_preds / np.sum(exp_preds) #softmax関数の計算\n",
    "    probas = np.random.multinomial(1, preds, 1) \n",
    "    #http://www.gentosha-academy.com/serial/okamoto-4/ にmultinomialの説明あり\n",
    "    #今回は1からkがpreds=[p1,p2,...,pk]という度数分布に従っているとき、\n",
    "    #1回(var1)試行を行ったときの度数分布が1サンプル(var3)得られる\n",
    "    return np.argmax(probas) #1になっている要素番号を返す\n"
   ]
  },
  {
   "cell_type": "code",
   "execution_count": 21,
   "metadata": {},
   "outputs": [
    {
     "name": "stdout",
     "output_type": "stream",
     "text": [
      "['A_1/3 ', 'rest_1/6 ', 'A_0.5 ', 'G_1.0 ', 'rest_0.5 ', 'G_0.5 ', 'C_0.5 ', 'D_0.5 ', 'E_2/3 ', 'rest_1/12 ', 'E_0.25 ', 'E_1/3 ', 'rest_1/6 ', 'E_0.5 ', 'G_2/3 ', 'rest_1/12 ']\n",
      "G_0.25 G_0.5 E_2/3 D_0.5 C_0.5 D_1.0 rest_0.5 G_1/3 rest_1/6 G_0.5 E_0.5 D_2/3 rest_1/12 D_1/3 C_0.5 A_0.5 G_2/3 C_2/3 D_0.75 E_0.25 C_1.5 rest_1.0 G_0.5 C_0.5 D_0.5 E_0.75 E_0.25 E_0.5 E_0.5 G_2/3 \n",
      "A_1/3 rest_1/6 A_0.5 G_1.0 rest_0.5 G_0.5 C_0.5 D_0.5 E_2/3 rest_1/12 E_0.25 E_1/3 rest_1/6 E_0.5 G_2/3 rest_1/12 G_0.25 G_0.5 E_2/3 D_0.5 C_0.5 D_1.0 rest_0.5 G_1/3 rest_1/6 G_0.5 E_0.5 D_2/3 rest_1/12 D_1/3 C_0.5 A_0.5 G_2/3 C_2/3 D_0.75 E_0.25 C_1.5 rest_1.0 G_0.5 C_0.5 D_0.5 E_0.75 E_0.25 E_0.5 E_0.5 G_2/3 \n"
     ]
    }
   ],
   "source": [
    "def make_melody(length=200):\n",
    "    #適当にスタートの文を選ぶ\n",
    "    start_index = random.randint(0, len(text)-maxlen-1)\n",
    "    \n",
    "    for diversity in [0.2]:\n",
    "        generated = ''\n",
    "        sentence = text[start_index:start_index+maxlen] #ここでユーザのメロディを与えると続きを生成\n",
    "        generated += ''.join(sentence) #sentence(list)の各要素を結合してgeneratedに追加\n",
    "        print(sentence)\n",
    "        \n",
    "        for i in range(length):\n",
    "            x_pred = np.zeros((1, maxlen, len(chars)))\n",
    "            for t, char in enumerate(sentence):\n",
    "                x_pred[0, t, char_indices[char]] = 1\n",
    "            \n",
    "            preds = model.predict(x_pred, verbose=0)[0] #verbose:詳細 0で詳細情報を表示しない\n",
    "            next_index = sample(preds, diversity)\n",
    "            next_char = indices_char[next_index]\n",
    "            \n",
    "            generated += next_char\n",
    "            sentence = sentence[1:]\n",
    "            sentence.append(next_char)\n",
    "            \n",
    "            sys.stdout.write(next_char)\n",
    "            sys.stdout.flush()\n",
    "        print()\n",
    "    return generated\n",
    "\n",
    "#model = load_model('melo.h5')\n",
    "melo_sentence = make_melody(30)\n",
    "print(melo_sentence)"
   ]
  },
  {
   "cell_type": "markdown",
   "metadata": {},
   "source": [
    "# 出力"
   ]
  },
  {
   "cell_type": "code",
   "execution_count": 23,
   "metadata": {},
   "outputs": [
    {
     "data": {
      "text/html": [
       "\n",
       "                <div id='midiPlayerDiv246491'></div>\n",
       "                <link rel=\"stylesheet\" href=\"//cuthbertLab.github.io/music21j/css/m21.css\"\n",
       "                    type=\"text/css\" />\n",
       "                <script>\n",
       "                require.config({\n",
       "                    paths: {'music21': '//cuthbertLab.github.io/music21j/src/music21'}\n",
       "                });\n",
       "                require(['music21'], function() {\n",
       "                               mp = new music21.miditools.MidiPlayer();\n",
       "                               mp.addPlayer('#midiPlayerDiv246491');\n",
       "                               mp.base64Load('data:audio/midi;base64,TVRoZAAAAAYAAQABBABNVHJrAAABaQD/AwAA4ABAAP9YBAQCGAiIAJBFWoJVgEUAgSuQRVqEAIBFAACQQ1qIAIBDAIQAkENahACAQwAAkDxahACAPAAAkD5ahACAPgAAkEBahSuAQABVkEBaggCAQAAAkEBaglWAQACBK5BAWoQAgEAAAJBDWoUrgEMAVZBDWoIAgEMAAJBDWoQAgEMAAJBAWoUrgEAAAJA+WoQAgD4AAJA8WoQAgDwAAJA+WogAgD4AhACQQ1qCVYBDAIErkENahACAQwAAkEBahACAQAAAkD5ahSuAPgBVkD5aglWAPgAAkDxahACAPAAAkEVahACARQAAkENahSuAQwAAkDxahSqQPloBgDwAhX+APgAAkEBaggCAQAAAkDxajACAPACIAJBDWoQAgEMAAJA8WoQAgDwAAJA+WoQAgD4AAJBAWoYAgEAAAJBAWoIAgEAAAJBAWoQAgEAAAJBAWoQAgEAAAJBDWoUrgEMAiAD/LwA=');\n",
       "                        });\n",
       "                </script>"
      ],
      "text/plain": [
       "<IPython.core.display.HTML object>"
      ]
     },
     "metadata": {},
     "output_type": "display_data"
    },
    {
     "data": {
      "text/plain": [
       "'./melo.mid'"
      ]
     },
     "execution_count": 23,
     "metadata": {},
     "output_type": "execute_result"
    }
   ],
   "source": [
    "#メロディをmidiに変換\n",
    "meas = m21.stream.Stream()\n",
    "meas.append(m21.meter.TimeSignature('4/4'))\n",
    "melo = melo_sentence.split()\n",
    "for m in melo:\n",
    "    pitch, dist = m.split('_')\n",
    "    tmp = dist.split('/')\n",
    "    if len(tmp) == 2:\n",
    "        fdist = float(tmp[0])/float(tmp[1])\n",
    "    else:\n",
    "        fdist = float(tmp[0])\n",
    "    \n",
    "    if pitch == \"rest\":\n",
    "        n = m21.note.Rest(quarterLength = fdist)\n",
    "    else:\n",
    "        n = m21.note.Note(pitch, quarterLength = fdist)\n",
    "    \n",
    "    meas.append(n)\n",
    "\n",
    "meas.makeMeasures(inPlace=True)\n",
    "meas.show(\"midi\", addEndTimes=True)\n",
    "meas.write(\"midi\", fp=\"./melo.mid\")"
   ]
  }
 ],
 "metadata": {
  "kernelspec": {
   "display_name": "Python 3",
   "language": "python",
   "name": "python3"
  },
  "language_info": {
   "codemirror_mode": {
    "name": "ipython",
    "version": 3
   },
   "file_extension": ".py",
   "mimetype": "text/x-python",
   "name": "python",
   "nbconvert_exporter": "python",
   "pygments_lexer": "ipython3",
   "version": "3.7.6"
  }
 },
 "nbformat": 4,
 "nbformat_minor": 4
}
