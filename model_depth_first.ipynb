{
  "cells": [
    {
      "cell_type": "markdown",
      "metadata": {
        "id": "view-in-github",
        "colab_type": "text"
      },
      "source": [
        "<a href=\"https://colab.research.google.com/github/Kentaro-Kamaishi/AICompositionSupport/blob/main/model_depth_first.ipynb\" target=\"_parent\"><img src=\"https://colab.research.google.com/assets/colab-badge.svg\" alt=\"Open In Colab\"/></a>"
      ]
    },
    {
      "cell_type": "code",
      "execution_count": null,
      "metadata": {
        "colab": {
          "base_uri": "https://localhost:8080/"
        },
        "id": "Xu83vbP0tCQl",
        "outputId": "e54bfa47-0f35-4c29-82e9-e887fd3e0092"
      },
      "outputs": [
        {
          "output_type": "stream",
          "name": "stdout",
          "text": [
            "Mounted at /content/drive\n"
          ]
        }
      ],
      "source": [
        "from google.colab import drive\n",
        "drive.mount('/content/drive')"
      ]
    },
    {
      "cell_type": "code",
      "execution_count": null,
      "metadata": {
        "colab": {
          "base_uri": "https://localhost:8080/"
        },
        "id": "OrLK00wgtaz2",
        "outputId": "91d924d5-7129-4cbb-b067-6a8112db4017"
      },
      "outputs": [
        {
          "output_type": "stream",
          "name": "stdout",
          "text": [
            "/content/drive/MyDrive/KentaroKamaishi/Music-VAE/notebooks\n"
          ]
        }
      ],
      "source": [
        "%cd '/content/drive/MyDrive/KentaroKamaishi/Music-VAE/notebooks'"
      ]
    },
    {
      "cell_type": "code",
      "execution_count": null,
      "metadata": {
        "id": "oubDb8ENjwhq"
      },
      "outputs": [],
      "source": [
        "import torch\n",
        "import torch.nn as nn\n",
        "import torch.nn.functional as F\n",
        "\n",
        "import numpy as np\n",
        "import sys\n",
        "#sys.path.insert(0,'../src/')\n",
        "sys.path.insert(0,'/content/drive/MyDrive/KentaroKamaishi/Music-VAE/src/')"
      ]
    },
    {
      "cell_type": "code",
      "execution_count": null,
      "metadata": {
        "colab": {
          "base_uri": "https://localhost:8080/"
        },
        "id": "8tax24o3xQAg",
        "outputId": "2c80161b-ea0f-4681-dcde-e473a2a8f0f6"
      },
      "outputs": [
        {
          "output_type": "stream",
          "name": "stdout",
          "text": [
            "Looking in indexes: https://pypi.org/simple, https://us-python.pkg.dev/colab-wheels/public/simple/\n",
            "Collecting pretty_midi\n",
            "  Downloading pretty_midi-0.2.9.tar.gz (5.6 MB)\n",
            "\u001b[K     |████████████████████████████████| 5.6 MB 5.9 MB/s \n",
            "\u001b[?25hRequirement already satisfied: numpy>=1.7.0 in /usr/local/lib/python3.7/dist-packages (from pretty_midi) (1.21.6)\n",
            "Collecting mido>=1.1.16\n",
            "  Downloading mido-1.2.10-py2.py3-none-any.whl (51 kB)\n",
            "\u001b[K     |████████████████████████████████| 51 kB 8.1 MB/s \n",
            "\u001b[?25hRequirement already satisfied: six in /usr/local/lib/python3.7/dist-packages (from pretty_midi) (1.15.0)\n",
            "Building wheels for collected packages: pretty-midi\n",
            "  Building wheel for pretty-midi (setup.py) ... \u001b[?25l\u001b[?25hdone\n",
            "  Created wheel for pretty-midi: filename=pretty_midi-0.2.9-py3-none-any.whl size=5591955 sha256=b86688f094b9d1017839cdc2bf6b1e6c46527ca990e80cb69ca437540f832a59\n",
            "  Stored in directory: /root/.cache/pip/wheels/ad/74/7c/a06473ca8dcb63efb98c1e67667ce39d52100f837835ea18fa\n",
            "Successfully built pretty-midi\n",
            "Installing collected packages: mido, pretty-midi\n",
            "Successfully installed mido-1.2.10 pretty-midi-0.2.9\n"
          ]
        }
      ],
      "source": [
        "!pip install pretty_midi"
      ]
    },
    {
      "cell_type": "code",
      "execution_count": null,
      "metadata": {
        "id": "kTDxW523th49"
      },
      "outputs": [],
      "source": [
        "from data.dataloader import MidiDataset\n",
        "from data.bar_transform import BarTransform\n",
        "from torch.utils.data import Dataset, dataloader\n",
        "\n",
        "from torch.utils.data.sampler import SubsetRandomSampler\n",
        "from torch.utils.data import DataLoader, random_split\n",
        "\n",
        "import matplotlib.pyplot as plt\n",
        "from midi_builder import MidiBuilder\n",
        "\n",
        "import pretty_midi as pm\n",
        "from torch import optim"
      ]
    },
    {
      "cell_type": "code",
      "execution_count": null,
      "metadata": {
        "id": "UnzL75RFyCf0"
      },
      "outputs": [],
      "source": [
        "builder = MidiBuilder()\n",
        "\n",
        "cuda = torch.cuda.is_available()\n",
        "device = torch.device('cuda' if cuda else 'cpu')\n",
        "\n",
        "params = {}\n",
        "params['NOTESPERBAR'] = 16\n",
        "\n",
        "params['totalbars'] = 8\n",
        "params['NUM_PITCHES'] = 60+1\n",
        "\n",
        "params['TOTAL_NOTES'] = params['NOTESPERBAR']*params['totalbars']\n",
        "\n",
        "params['batch_size'] = 512\n",
        "\n",
        "params['enc_h_dim'] = 256\n",
        "params['latent_dim'] = 128\n",
        "params['cond_h_dim'] = 256\n",
        "params['dec_h_dim'] = 64"
      ]
    },
    {
      "cell_type": "code",
      "execution_count": null,
      "metadata": {
        "colab": {
          "base_uri": "https://localhost:8080/"
        },
        "id": "gJHA7cQgBYPs",
        "outputId": "44778dec-af24-4228-8231-92cb98e64afa"
      },
      "outputs": [
        {
          "output_type": "stream",
          "name": "stdout",
          "text": [
            "Train size:7776, Valid size:971, Test size:971\n"
          ]
        }
      ],
      "source": [
        "my_dir = '/content/drive/MyDrive/KentaroKamaishi/Music-VAE/'\n",
        "# totalbars個ずつに区切る\n",
        "transform = BarTransform(bars=params['totalbars'], note_count=params['NUM_PITCHES'])\n",
        "midi_dataset = MidiDataset(csv_file=my_dir+'piano_rolls_small.csv', transform=transform)\n",
        "\n",
        "random_seed = 42\n",
        "\n",
        "valid_split = .1\n",
        "test_split = .1\n",
        "shuffle = True\n",
        "\n",
        "if random_seed is not None:\n",
        "    np.random.seed(random_seed)\n",
        "\n",
        "dataset_size = len(midi_dataset)\n",
        "valid_size = int(valid_split * dataset_size)\n",
        "test_size = int(test_split*dataset_size)\n",
        "train_size = dataset_size-test_size-valid_size\n",
        "\n",
        "train_dataset, valid_dataset, test_dataset = random_split(midi_dataset, [train_size, valid_size, test_size])\n",
        "\n",
        "train_loader = DataLoader(train_dataset, shuffle=shuffle, batch_size=params['batch_size'])\n",
        "valid_loader = DataLoader(valid_dataset, shuffle=shuffle, batch_size=params['batch_size'])\n",
        "test_loader = DataLoader(test_dataset, shuffle=shuffle, batch_size=params['batch_size'])\n",
        "\n",
        "print('Train size:{}, Valid size:{}, Test size:{}'.format(train_size, valid_size, test_size))"
      ]
    },
    {
      "cell_type": "code",
      "execution_count": null,
      "metadata": {
        "id": "zbCwrVCqigZB"
      },
      "outputs": [],
      "source": [
        "class MusicVAE(nn.Module):\n",
        "    def __init__(self, params, device):\n",
        "        super(MusicVAE, self).__init__()\n",
        "        self.num_pitches = params['NUM_PITCHES'] #音符1つの次元\n",
        "        enc_h_dim = params['enc_h_dim'] #隠れ層の次元\n",
        "        latent_dim = params['latent_dim']\n",
        "        cond_h_dim = params['cond_h_dim']\n",
        "        self.cond_h_dim = cond_h_dim\n",
        "        dec_h_dim = params['dec_h_dim']\n",
        "        self.bs = 0 # batch_size\n",
        "        self.dec_h_dim = dec_h_dim\n",
        "        self.subseq_len = params['NOTESPERBAR'] #1小節(単位:16分音符)\n",
        "        self.device = device\n",
        "        self.eps_i = 1\n",
        "\n",
        "        self.enc_lstm = nn.LSTM(self.num_pitches, enc_h_dim, batch_first=True, bidirectional=True)\n",
        "        self.mean = nn.Linear(enc_h_dim*2, latent_dim)\n",
        "        self.log_var = nn.Linear(enc_h_dim*2, latent_dim)\n",
        "\n",
        "        self.z_fc = nn.Sequential(\n",
        "            nn.Linear(latent_dim, dec_h_dim*4),\n",
        "            nn.Tanh()\n",
        "        )\n",
        "        self.conductor_rnn = nn.LSTM(cond_h_dim, dec_h_dim, num_layers=2, batch_first=True)\n",
        "\n",
        "        self.cond_fc = nn.Sequential(\n",
        "            nn.Linear(dec_h_dim, dec_h_dim*4),\n",
        "            nn.Tanh()\n",
        "        )\n",
        "        self.dec_lstm = nn.LSTM(dec_h_dim+self.num_pitches, dec_h_dim, num_layers=2, batch_first=True)\n",
        "        self.dec_fc = nn.Sequential(\n",
        "            nn.Linear(dec_h_dim, self.num_pitches),\n",
        "        )\n",
        "    \n",
        "    def encoder(self, x):\n",
        "        _, hc = self.enc_lstm(x) \n",
        "        #print(hc[0].shape)\n",
        "        h = hc[0].view(self.bs, -1) #最後の隠れ状態だけ使う\n",
        "        mean = self.mean(h)\n",
        "        log_var = self.log_var(h)\n",
        "        return mean, log_var\n",
        "    \n",
        "    def sample_z(self, mean, log_var):\n",
        "        sigma = torch.exp(log_var*0.5)\n",
        "        z = mean+torch.rand_like(mean)*sigma\n",
        "        return z\n",
        "    \n",
        "    \"\"\"\n",
        "    def conductor(self, z):\n",
        "        \n",
        "        c_out, _ = self.conductor_rnn(c_in, h0c0)\n",
        "        return c_out\n",
        "    \"\"\"\n",
        "    def set_eps_i(self, eps_i):\n",
        "        self.eps_i = eps_i\n",
        "    \n",
        "    def teacher_forcing(self):\n",
        "        with torch.no_grad():\n",
        "            tf = np.random.rand(1)[0] <= self.eps_i\n",
        "        return tf\n",
        "\n",
        "    def decoder(self, c, notes):\n",
        "        h0c0 = self.cond_fc(c).view(4, self.bs, -1)\n",
        "        h0c0 = torch.split(h0c0, 2, dim=0) \n",
        "        notes_p = torch.zeros((self.bs, self.subseq_len, self.num_pitches), device=self.device)\n",
        "        note_p = torch.zeros((self.bs, 1, self.num_pitches), device=self.device)\n",
        "        c = c.view(-1, 1, self.dec_h_dim)\n",
        "        \n",
        "        tf = self.teacher_forcing()\n",
        "        for i in range(self.subseq_len):\n",
        "            if tf:#self.teacher_forcing():\n",
        "                d_in = torch.cat([notes[:,i:i+1,:], c], dim=2)\n",
        "            else:\n",
        "                d_in = torch.cat([note_p, c], dim=2)\n",
        "            d_out, h0c0 = self.dec_lstm(d_in, h0c0)\n",
        "            note_p = self.dec_fc(d_out)\n",
        "            #print(note_p.shape, notes_p[:, i, :].shape)\n",
        "            notes_p[:, i, :] = note_p.view(self.bs, -1)\n",
        "            note_p = torch.softmax(note_p, dim=2)\n",
        "\n",
        "        return notes_p\n",
        "\n",
        "    def forward(self, x):\n",
        "        self.bs = x.shape[0]\n",
        "        mean, log_var = self.encoder(x)\n",
        "        z = self.sample_z(mean, log_var)\n",
        "\n",
        "        c_h0c0 = self.z_fc(z).view(4, self.bs, -1) #cond_h*4に分解 \n",
        "        c_h0c0 = torch.split(c_h0c0, 2, dim=0)\n",
        "        c_in = torch.zeros((self.bs, 1, self.cond_h_dim), device=self.device)\n",
        "        \n",
        "        y = torch.zeros(self.bs, params['TOTAL_NOTES'], self.num_pitches, device=self.device)\n",
        "        last_note = torch.zeros(self.bs, 1, self.num_pitches, device=self.device)\n",
        "        for i in range(params['totalbars']):\n",
        "            c_out, c_h0c0 = self.conductor_rnn(c_in, c_h0c0)\n",
        "\n",
        "            d_in = torch.cat([last_note, \\\n",
        "                               x[:, self.subseq_len*i:self.subseq_len*(i+1)-1, :]], dim=1)\n",
        "            notes = self.decoder(c_out, d_in)\n",
        "            y[:, self.subseq_len*i:self.subseq_len*(i+1), :] = notes\n",
        "            last_note = notes[:,-1,:]\n",
        "            last_note = last_note.view(self.bs, 1, -1)\n",
        "            \n",
        "        #print(y.shape)\n",
        "        f_recon =nn.CrossEntropyLoss(reduction='none')\n",
        "        recon = f_recon(torch.transpose(y, 1, 2), torch.transpose(x, 1, 2))#torch.mean(torch.sum(f_recon(y, x), dim=1), dim=0)\n",
        "        #recon = torch.mean(torch.sum(F.binary_cross_entropy(y, x, reduction='none'), dim=[1,2]))\n",
        "        #print(recon.shape)\n",
        "        recon = torch.mean(torch.sum(recon, dim=1))\n",
        "        kl_d = -0.5*torch.mean(torch.sum(1+log_var-mean**2-torch.exp(log_var), dim=1), dim=0)\n",
        "        #print(recon.shape, kl_d.shape)\n",
        "        loss = recon+kl_d\n",
        "\n",
        "        return y, loss, (recon, kl_d)"
      ]
    },
    {
      "cell_type": "code",
      "execution_count": null,
      "metadata": {
        "id": "948Aj4wMLjE-"
      },
      "outputs": [],
      "source": [
        "class VanillaVAE(nn.Module):\n",
        "    def __init__(self, device):\n",
        "        super(VanillaVAE, self).__init__()\n",
        "        self.device = device\n",
        "\n",
        "        self.num_pitches = params['NUM_PITCHES'] #音符1つの次元\n",
        "        enc_h_dim = params['enc_h_dim'] #隠れ層の次元\n",
        "        latent_dim = params['latent_dim']\n",
        "        dec_h_dim = params['enc_h_dim']\n",
        "        self.bs = 0 # batch_size\n",
        "        self.dec_h_dim = dec_h_dim\n",
        "        self.subseq_len = params['NOTESPERBAR'] #1小節(単位:16分音符)\n",
        "        self.total_notes = params['TOTAL_NOTES']\n",
        "        self.device = device\n",
        "        self.eps_i = 1\n",
        "\n",
        "        self.enc_lstm = nn.LSTM(self.num_pitches, enc_h_dim, batch_first=True, bidirectional=True)\n",
        "        self.mean = nn.Linear(enc_h_dim*2, latent_dim)\n",
        "        self.log_var = nn.Linear(enc_h_dim*2, latent_dim)\n",
        "\n",
        "        self.z_fc = nn.Sequential(\n",
        "            nn.Linear(latent_dim, dec_h_dim*4),\n",
        "            nn.Tanh()\n",
        "        )\n",
        "        self.dec_lstm = nn.LSTM(self.num_pitches, dec_h_dim, num_layers=2, batch_first=True)\n",
        "        self.dec_fc = nn.Sequential(\n",
        "            nn.Linear(dec_h_dim, self.num_pitches),\n",
        "            #nn.Softmax(dim=2)\n",
        "        )\n",
        "    \n",
        "    def encoder(self, x):\n",
        "        _, hc = self.enc_lstm(x) \n",
        "        #print(hc[0].shape)\n",
        "        h = hc[0].view(self.bs, -1) #最後の隠れ状態だけ使う\n",
        "        mean = self.mean(h)\n",
        "        log_var = self.log_var(h)\n",
        "        return mean, log_var\n",
        "    \n",
        "    def sample_z(self, mean, log_var):\n",
        "        sigma = torch.exp(log_var*0.5)\n",
        "        z = mean+torch.rand_like(mean)*sigma\n",
        "        return z\n",
        "\n",
        "    def set_eps_i(self, eps_i):\n",
        "        self.eps_i = eps_i\n",
        "    \n",
        "    def teacher_forcing(self):\n",
        "        with torch.no_grad():\n",
        "            tf = np.random.rand(1)[0] <= self.eps_i\n",
        "        return tf\n",
        "\n",
        "    def decoder(self, z, notes):\n",
        "        h0c0 = self.z_fc(z).view(4, self.bs, -1)\n",
        "        h0c0 = torch.split(h0c0, 2, dim=0) \n",
        "        notes_p = torch.zeros((self.bs, self.total_notes, self.num_pitches), device=self.device)\n",
        "        note_p = torch.zeros((self.bs, 1, self.num_pitches), device=self.device)\n",
        "        \n",
        "        tf = self.teacher_forcing()\n",
        "        for i in range(self.total_notes):\n",
        "            if tf:#self.teacher_forcing():\n",
        "                d_in = notes[:,i:i+1,:]\n",
        "            else:\n",
        "                d_in = note_p\n",
        "            d_out, h0c0 = self.dec_lstm(d_in, h0c0)\n",
        "            note_p = self.dec_fc(d_out)\n",
        "            notes_p[:, i, :] = note_p.view(self.bs, -1)\n",
        "            note_p = torch.softmax(note_p, dim=2)\n",
        "        return notes_p\n",
        "\n",
        "    def forward(self, x):\n",
        "        self.bs = x.shape[0]\n",
        "        mean, log_var = self.encoder(x)\n",
        "        z = self.sample_z(mean, log_var)\n",
        "        y = self.decoder(z, x)\n",
        "        \n",
        "        #print(y.shape)\n",
        "        f_recon =nn.CrossEntropyLoss(reduction='none')\n",
        "        recon = f_recon(torch.transpose(y, 1, 2), torch.transpose(x, 1, 2))#torch.mean(torch.sum(f_recon(y, x), dim=1), dim=0)\n",
        "        #recon = torch.mean(torch.sum(F.binary_cross_entropy(y, x, reduction='none'), dim=[1,2]))\n",
        "        #print(recon.shape)\n",
        "        recon = torch.mean(torch.sum(recon, dim=1))\n",
        "        kl_d = -0.5*torch.mean(torch.sum(1+log_var-mean**2-torch.exp(log_var), dim=1), dim=0)\n",
        "        #print(recon.shape, kl_d.shape)\n",
        "        loss = recon+kl_d\n",
        "\n",
        "        return y, loss, (recon, kl_d)"
      ]
    },
    {
      "cell_type": "code",
      "execution_count": null,
      "metadata": {
        "id": "7HchUKGH5q_S"
      },
      "outputs": [],
      "source": [
        "def clamp(i, max=40, dec=100):\n",
        "    m = 0.5/abs(max-dec)\n",
        "    return 1 if i<dec else 1-m*abs(i-dec)#max/(max + np.exp(i/max))\n",
        "\n",
        "def inv_sigmoid_decay(i, rate=40):\n",
        "    return rate/(rate + np.exp(i/rate))\n",
        "\n",
        "def always_one():\n",
        "    return 1"
      ]
    },
    {
      "cell_type": "code",
      "execution_count": null,
      "metadata": {
        "id": "HxMWDQ6QNMSK"
      },
      "outputs": [],
      "source": [
        "model = MusicVAE(params, device).to(device)\n",
        "params['model'] = str(model)\n",
        "optimizer = optim.Adam(model.parameters(), lr=0.001)\n",
        "ss_func = inv_sigmoid_decay"
      ]
    },
    {
      "cell_type": "markdown",
      "metadata": {
        "id": "iQnJ9yiysMMK"
      },
      "source": [
        "# 動作チェック"
      ]
    },
    {
      "cell_type": "code",
      "execution_count": null,
      "metadata": {
        "colab": {
          "base_uri": "https://localhost:8080/"
        },
        "id": "iDEjzfomOQFK",
        "outputId": "c4b5d8f7-5f87-45e0-e2d3-02e3deb0bb05"
      },
      "outputs": [
        {
          "output_type": "execute_result",
          "data": {
            "text/plain": [
              "(2, 128, 61)"
            ]
          },
          "metadata": {},
          "execution_count": 11
        }
      ],
      "source": [
        "from torch.autograd import Variable\n",
        "\n",
        "a = np.random.randint(params['NUM_PITCHES'], size=params['TOTAL_NOTES'])\n",
        "data = np.zeros((params['TOTAL_NOTES'], params['NUM_PITCHES']))\n",
        "data[np.arange(params['TOTAL_NOTES']), a] = 1 # one-hot encoding randomly\n",
        "\n",
        "a = np.random.randint(params['NUM_PITCHES'], size=params['TOTAL_NOTES'])\n",
        "data1 = np.zeros((params['TOTAL_NOTES'], params['NUM_PITCHES']))\n",
        "data1[np.arange(params['TOTAL_NOTES']), a] = 1 # one-hot encoding randomly\n",
        "d = np.zeros((2, params['TOTAL_NOTES'], params['NUM_PITCHES']))\n",
        "\n",
        "d[0] = data\n",
        "d[1] = data1\n",
        "\n",
        "d.shape"
      ]
    },
    {
      "cell_type": "code",
      "execution_count": null,
      "metadata": {
        "colab": {
          "base_uri": "https://localhost:8080/"
        },
        "id": "vpWowzkgsezP",
        "outputId": "46921062-0613-4179-9bfb-5455c3e0dab4"
      },
      "outputs": [
        {
          "output_type": "execute_result",
          "data": {
            "text/plain": [
              "(torch.Size([2, 128, 61]),\n",
              " tensor(526.1380, device='cuda:0', grad_fn=<AddBackward0>))"
            ]
          },
          "metadata": {},
          "execution_count": 12
        }
      ],
      "source": [
        "x = d\n",
        "x = Variable(torch.Tensor(x))\n",
        "\n",
        "x = x.cuda()\n",
        "outputs, loss, _ = model(x)\n",
        "outputs.shape, loss"
      ]
    },
    {
      "cell_type": "code",
      "execution_count": null,
      "metadata": {
        "colab": {
          "base_uri": "https://localhost:8080/",
          "height": 283
        },
        "id": "8PhlaOg0nKO4",
        "outputId": "eaa50cc8-8da9-4dfe-9a17-62ec3bde372c"
      },
      "outputs": [
        {
          "data": {
            "text/plain": [
              "[<matplotlib.lines.Line2D at 0x7f1ba4734390>]"
            ]
          },
          "execution_count": 15,
          "metadata": {},
          "output_type": "execute_result"
        },
        {
          "data": {
            "image/png": "[encoded data removed]",
            "text/plain": [
              "<Figure size 432x288 with 1 Axes>"
            ]
          },
          "metadata": {},
          "output_type": "display_data"
        }
      ],
      "source": [
        "x = np.arange(500)\n",
        "y = list(map(inv_sigmoid_decay, x, [125]*500))\n",
        "y = np.array(y)\n",
        "plt.plot(x, y)"
      ]
    },
    {
      "cell_type": "markdown",
      "metadata": {
        "id": "4KOaWN-H1IiK"
      },
      "source": [
        "# 訓練"
      ]
    },
    {
      "cell_type": "code",
      "execution_count": null,
      "metadata": {
        "id": "eelQlVIOS15F"
      },
      "outputs": [],
      "source": [
        "import datetime\n",
        "import os\n",
        "\n",
        "model_name = datetime.datetime.now()\n",
        "os.makedirs(str(model_name), exist_ok=True)\n",
        "os.makedirs('{}/recon'.format(model_name), exist_ok=True)\n",
        "with open('{}/param_{}.txt'.format(model_name, model_name), mode='w') as f:\n",
        "    f.write(str(params))"
      ]
    },
    {
      "cell_type": "code",
      "source": [
        "import pandas as pd\n",
        "params['path'] = model_name\n",
        "params['time'] = model_name\n",
        "params_df = pd.read_csv('model_params.csv')\n",
        "params_df = params_df.append(params, ignore_index=True)\n",
        "params_df.to_csv('model_params.csv')"
      ],
      "metadata": {
        "id": "b-c8vry_X373"
      },
      "execution_count": null,
      "outputs": []
    },
    {
      "cell_type": "code",
      "execution_count": null,
      "metadata": {
        "id": "DF84ckOVYlJK"
      },
      "outputs": [],
      "source": [
        "class EarlyStopping:\n",
        "    def __init__(self, name, patience=10):\n",
        "        self.patience = patience\n",
        "        self.counter = 0\n",
        "        self.best_score = None\n",
        "        self.early_stop = False\n",
        "        self.name = name\n",
        "    def __call__(self, loss):\n",
        "        if self.best_score is None:\n",
        "            self.best_score = loss\n",
        "        elif self.best_score < loss:\n",
        "            self.counter += 1\n",
        "            if self.counter >= self.patience:\n",
        "                self.early_stop = True\n",
        "        else:\n",
        "            self.best_score = loss\n",
        "            self.counter = 0\n",
        "            torch.save(model.state_dict(), '{}/music_vae_{}.pth'.format(self.name, self.name))"
      ]
    },
    {
      "cell_type": "code",
      "execution_count": null,
      "metadata": {
        "id": "uOKEQWdTMuJy"
      },
      "outputs": [],
      "source": [
        "ls = np.arange(100, 0, -1)\n",
        "es = EarlyStopping()\n",
        "for l in ls:\n",
        "    es(l)\n",
        "    print(es.best_score, es.counter)\n",
        "    if es.early_stop:\n",
        "        break"
      ]
    },
    {
      "cell_type": "code",
      "execution_count": null,
      "metadata": {
        "id": "BT2YxCc7ff-g"
      },
      "outputs": [],
      "source": [
        "def recon_midi(x_sample, path):\n",
        "    builder = MidiBuilder()\n",
        "    row_maxes = x_sample.max(axis=1).reshape(-1, 1)\n",
        "    midi_out = np.where(x_sample == row_maxes, 1, 0)\n",
        "    if np.max(midi_out[:,:-1])==0:\n",
        "        midi_out[:,:] = 1\n",
        "    midi = builder.midi_from_piano_roll(midi_out[:,:-1])\n",
        "    fig, ax = plt.subplots(figsize=(10, 3))\n",
        "    builder.plot_midi(midi)\n",
        "    fig.subplots_adjust(left=0, right=1, bottom=0, top=1)\n",
        "    plt.savefig(path)\n",
        "    #midi.write(path)\n",
        "    return midi"
      ]
    },
    {
      "cell_type": "code",
      "execution_count": 16,
      "metadata": {
        "colab": {
          "base_uri": "https://localhost:8080/"
        },
        "id": "TJjyDkvC1IEH",
        "outputId": "f83b59ac-36dc-49ac-b204-e02637643475"
      },
      "outputs": [
        {
          "output_type": "stream",
          "name": "stdout",
          "text": [
            "epoch:0\tloss:506.343017578125\ttest_loss:437.706298828125\trecon:437.810546875\tkl_d:0.7023195624351501\n",
            "epoch:1\tloss:373.72509765625\ttest_loss:344.7661437988281\trecon:345.083740234375\tkl_d:0.006533048581331968\n",
            "epoch:2\tloss:341.9496765136719\ttest_loss:337.8157958984375\trecon:336.0926513671875\tkl_d:0.0026124625001102686\n",
            "epoch:3\tloss:338.6444091796875\ttest_loss:336.9615478515625\trecon:343.2529296875\tkl_d:0.0015834980877116323\n",
            "epoch:4\tloss:337.87884521484375\ttest_loss:336.08148193359375\trecon:335.138671875\tkl_d:0.0011685049394145608\n",
            "epoch:5\tloss:336.96697998046875\ttest_loss:335.6476745605469\trecon:331.91595458984375\tkl_d:0.0009641158394515514\n",
            "epoch:6\tloss:336.38397216796875\ttest_loss:336.044921875\trecon:342.76531982421875\tkl_d:0.0007914715679362416\n",
            "epoch:7\tloss:335.9652404785156\ttest_loss:335.2829895019531\trecon:331.514892578125\tkl_d:0.0006573747959919274\n",
            "epoch:8\tloss:335.01416015625\ttest_loss:333.9814453125\trecon:334.0360107421875\tkl_d:0.000597759208176285\n",
            "epoch:9\tloss:332.2681884765625\ttest_loss:329.0675048828125\trecon:333.9980773925781\tkl_d:0.0005380015936680138\n",
            "epoch:10\tloss:327.173583984375\ttest_loss:320.71533203125\trecon:324.60809326171875\tkl_d:0.0005045939469709992\n",
            "epoch:11\tloss:320.3017578125\ttest_loss:317.8445129394531\trecon:328.9295654296875\tkl_d:0.0022550851572304964\n",
            "epoch:12\tloss:313.4602966308594\ttest_loss:305.7519836425781\trecon:302.5196838378906\tkl_d:0.0033605056814849377\n",
            "epoch:13\tloss:310.00152587890625\ttest_loss:303.5701599121094\trecon:303.2751770019531\tkl_d:0.003102893941104412\n",
            "epoch:14\tloss:303.614990234375\ttest_loss:298.7962646484375\trecon:305.1437683105469\tkl_d:0.0015850381460040808\n",
            "epoch:15\tloss:301.3598937988281\ttest_loss:295.73284912109375\trecon:294.5630187988281\tkl_d:0.0009714323095977306\n",
            "epoch:16\tloss:299.5523681640625\ttest_loss:293.3560791015625\trecon:288.84637451171875\tkl_d:0.0005838926881551743\n",
            "epoch:17\tloss:297.539794921875\ttest_loss:292.2444152832031\trecon:296.8015441894531\tkl_d:0.0004468178376555443\n",
            "epoch:18\tloss:295.6513366699219\ttest_loss:290.507568359375\trecon:284.42938232421875\tkl_d:0.000373132003005594\n",
            "epoch:19\tloss:297.63775634765625\ttest_loss:290.9476318359375\trecon:289.3504943847656\tkl_d:0.0004164353013038635\n",
            "epoch:20\tloss:294.799072265625\ttest_loss:288.6490478515625\trecon:284.35186767578125\tkl_d:0.00034439563751220703\n",
            "epoch:21\tloss:291.9325256347656\ttest_loss:287.4682922363281\trecon:288.86444091796875\tkl_d:0.0002680329780559987\n",
            "epoch:22\tloss:292.7738342285156\ttest_loss:290.65966796875\trecon:282.188232421875\tkl_d:0.0002198155561927706\n",
            "epoch:23\tloss:290.93890380859375\ttest_loss:292.98486328125\trecon:295.7147521972656\tkl_d:0.00022559227363672107\n",
            "epoch:24\tloss:292.2259521484375\ttest_loss:284.01885986328125\trecon:281.186767578125\tkl_d:0.0002152679517166689\n",
            "epoch:25\tloss:290.51312255859375\ttest_loss:283.49444580078125\trecon:284.4417724609375\tkl_d:0.00021902706066612154\n",
            "epoch:26\tloss:288.5798034667969\ttest_loss:281.3910217285156\trecon:281.2120666503906\tkl_d:0.00017117538664024323\n",
            "epoch:27\tloss:286.1958923339844\ttest_loss:278.9993896484375\trecon:275.7613220214844\tkl_d:0.0001678603730397299\n",
            "epoch:28\tloss:284.200439453125\ttest_loss:279.78753662109375\trecon:278.7958068847656\tkl_d:0.00017834936443250626\n",
            "epoch:29\tloss:279.4461364746094\ttest_loss:272.5937805175781\trecon:276.97332763671875\tkl_d:0.0004718471609521657\n",
            "epoch:30\tloss:277.4173278808594\ttest_loss:282.89776611328125\trecon:297.11260986328125\tkl_d:0.00039332947926595807\n",
            "epoch:31\tloss:276.322265625\ttest_loss:267.7509765625\trecon:268.60406494140625\tkl_d:0.00029746341169811785\n",
            "epoch:32\tloss:272.6937255859375\ttest_loss:271.40863037109375\trecon:265.3895568847656\tkl_d:0.00042327289702370763\n",
            "epoch:33\tloss:271.04986572265625\ttest_loss:262.9879455566406\trecon:271.3236083984375\tkl_d:0.00025242482661269605\n",
            "epoch:34\tloss:267.525390625\ttest_loss:260.5278625488281\trecon:254.02590942382812\tkl_d:0.00023112972849048674\n",
            "epoch:35\tloss:266.02813720703125\ttest_loss:259.64739990234375\trecon:257.7862854003906\tkl_d:0.00014506341540254653\n",
            "epoch:36\tloss:263.03302001953125\ttest_loss:265.51422119140625\trecon:274.4288024902344\tkl_d:0.00012352036719676107\n",
            "epoch:37\tloss:268.7284240722656\ttest_loss:259.01361083984375\trecon:263.2106018066406\tkl_d:0.00017262855544686317\n",
            "epoch:38\tloss:265.0618896484375\ttest_loss:258.1868896484375\trecon:257.2012634277344\tkl_d:0.0001240484998561442\n",
            "epoch:39\tloss:263.2886962890625\ttest_loss:257.4140625\trecon:255.51055908203125\tkl_d:0.00017947146261576563\n",
            "epoch:40\tloss:266.2243347167969\ttest_loss:254.92227172851562\trecon:252.35617065429688\tkl_d:0.00014024187112227082\n",
            "epoch:41\tloss:261.30230712890625\ttest_loss:253.38446044921875\trecon:253.3292694091797\tkl_d:0.00011568839545361698\n",
            "epoch:42\tloss:259.7430419921875\ttest_loss:252.68804931640625\trecon:257.97052001953125\tkl_d:0.0001110282537410967\n",
            "epoch:43\tloss:257.03619384765625\ttest_loss:250.54110717773438\trecon:242.79466247558594\tkl_d:9.278969082515687e-05\n",
            "epoch:44\tloss:256.26416015625\ttest_loss:250.76956176757812\trecon:249.98382568359375\tkl_d:9.155715088127181e-05\n",
            "epoch:45\tloss:255.60025024414062\ttest_loss:248.1505126953125\trecon:245.17190551757812\tkl_d:0.0001032905638567172\n",
            "epoch:46\tloss:254.1704559326172\ttest_loss:259.4770812988281\trecon:252.11978149414062\tkl_d:8.011539466679096e-05\n",
            "epoch:47\tloss:255.16580200195312\ttest_loss:246.1630859375\trecon:240.23101806640625\tkl_d:9.094714187085629e-05\n",
            "epoch:48\tloss:250.27664184570312\ttest_loss:243.60733032226562\trecon:241.78025817871094\tkl_d:8.423531835433096e-05\n",
            "epoch:49\tloss:248.23135375976562\ttest_loss:242.55360412597656\trecon:235.85174560546875\tkl_d:0.00010583083349047229\n",
            "epoch:50\tloss:247.85479736328125\ttest_loss:246.76512145996094\trecon:244.4156036376953\tkl_d:0.00034883813350461423\n",
            "epoch:51\tloss:250.35372924804688\ttest_loss:242.30654907226562\trecon:239.5018310546875\tkl_d:0.0001826831721700728\n",
            "epoch:52\tloss:255.70742797851562\ttest_loss:246.2434844970703\trecon:250.48780822753906\tkl_d:0.00023008347488939762\n",
            "epoch:53\tloss:249.95889282226562\ttest_loss:242.43968200683594\trecon:242.63836669921875\tkl_d:0.00013167470751795918\n",
            "epoch:54\tloss:244.43276977539062\ttest_loss:247.83392333984375\trecon:237.30271911621094\tkl_d:6.959290476515889e-05\n",
            "epoch:55\tloss:242.8759765625\ttest_loss:236.93899536132812\trecon:231.235107421875\tkl_d:6.173658039188012e-05\n",
            "epoch:56\tloss:244.26528930664062\ttest_loss:236.81680297851562\trecon:234.93748474121094\tkl_d:5.702599446522072e-05\n",
            "epoch:57\tloss:242.01483154296875\ttest_loss:235.71249389648438\trecon:234.7025604248047\tkl_d:5.1510553021216765e-05\n",
            "epoch:58\tloss:242.17800903320312\ttest_loss:236.11314392089844\trecon:238.18194580078125\tkl_d:0.00016607515863142908\n",
            "epoch:59\tloss:247.47451782226562\ttest_loss:239.2547149658203\trecon:245.07968139648438\tkl_d:0.0004276987165212631\n",
            "epoch:60\tloss:242.01690673828125\ttest_loss:234.70468139648438\trecon:234.4355010986328\tkl_d:0.00015888897178228945\n",
            "epoch:61\tloss:242.62979125976562\ttest_loss:233.84268188476562\trecon:232.2386016845703\tkl_d:9.13328185561113e-05\n",
            "epoch:62\tloss:240.06063842773438\ttest_loss:232.8031005859375\trecon:230.2681427001953\tkl_d:6.110664253355935e-05\n",
            "epoch:63\tloss:237.64944458007812\ttest_loss:231.69082641601562\trecon:222.56002807617188\tkl_d:4.259816705598496e-05\n",
            "epoch:64\tloss:237.00047302246094\ttest_loss:240.19107055664062\trecon:227.17295837402344\tkl_d:4.299501233617775e-05\n",
            "epoch:65\tloss:237.4952850341797\ttest_loss:231.41976928710938\trecon:226.14935302734375\tkl_d:3.8467071135528386e-05\n",
            "epoch:66\tloss:236.80226135253906\ttest_loss:230.41281127929688\trecon:226.9497833251953\tkl_d:7.563576218672097e-05\n",
            "epoch:67\tloss:237.05136108398438\ttest_loss:238.54830932617188\trecon:224.09152221679688\tkl_d:5.0408973038429394e-05\n",
            "epoch:68\tloss:239.57232666015625\ttest_loss:239.51004028320312\trecon:238.3038787841797\tkl_d:6.27760891802609e-05\n",
            "epoch:69\tloss:236.00799560546875\ttest_loss:229.7416229248047\trecon:230.7987518310547\tkl_d:7.661248673684895e-05\n",
            "epoch:70\tloss:234.969970703125\ttest_loss:227.9652099609375\trecon:224.89540100097656\tkl_d:7.240776176331565e-05\n",
            "epoch:71\tloss:234.2462615966797\ttest_loss:227.35989379882812\trecon:227.37530517578125\tkl_d:4.243227158440277e-05\n",
            "epoch:72\tloss:235.66427612304688\ttest_loss:231.0643310546875\trecon:231.4949493408203\tkl_d:5.6863544159568846e-05\n",
            "epoch:73\tloss:236.0797119140625\ttest_loss:235.4075164794922\trecon:247.46038818359375\tkl_d:7.997202919796109e-05\n",
            "epoch:74\tloss:230.86679077148438\ttest_loss:224.93487548828125\trecon:229.66976928710938\tkl_d:4.8617130232742056e-05\n",
            "epoch:75\tloss:230.5902557373047\ttest_loss:223.97604370117188\trecon:225.76100158691406\tkl_d:5.353042433853261e-05\n",
            "epoch:76\tloss:230.28741455078125\ttest_loss:231.50311279296875\trecon:248.5000762939453\tkl_d:4.500812792684883e-05\n",
            "epoch:77\tloss:230.6923828125\ttest_loss:222.28945922851562\trecon:219.8368377685547\tkl_d:5.195362609811127e-05\n",
            "epoch:78\tloss:227.68458557128906\ttest_loss:220.46644592285156\trecon:216.21502685546875\tkl_d:5.470602627610788e-05\n",
            "epoch:79\tloss:232.8704071044922\ttest_loss:224.36578369140625\trecon:227.21726989746094\tkl_d:0.00032333272974938154\n",
            "epoch:80\tloss:227.3780517578125\ttest_loss:241.38287353515625\trecon:260.66265869140625\tkl_d:0.0002339093916816637\n",
            "epoch:81\tloss:229.7958984375\ttest_loss:251.4802703857422\trecon:263.9020690917969\tkl_d:0.0002519249392207712\n",
            "epoch:82\tloss:229.28050231933594\ttest_loss:227.50970458984375\trecon:230.71377563476562\tkl_d:0.00010457277676323429\n",
            "epoch:83\tloss:222.69357299804688\ttest_loss:216.0721893310547\trecon:211.65859985351562\tkl_d:4.8824254918145016e-05\n",
            "epoch:84\tloss:225.85885620117188\ttest_loss:223.32333374023438\trecon:231.1778106689453\tkl_d:3.55612464773003e-05\n",
            "epoch:85\tloss:223.693115234375\ttest_loss:214.13479614257812\trecon:213.9779510498047\tkl_d:3.40487968060188e-05\n",
            "epoch:86\tloss:225.04495239257812\ttest_loss:222.37603759765625\trecon:215.51531982421875\tkl_d:3.619800554588437e-05\n",
            "epoch:87\tloss:220.7096405029297\ttest_loss:212.33737182617188\trecon:212.7064971923828\tkl_d:2.6857995180762373e-05\n",
            "epoch:88\tloss:218.01400756835938\ttest_loss:210.5829315185547\trecon:207.98086547851562\tkl_d:2.784088792395778e-05\n",
            "epoch:89\tloss:218.05133056640625\ttest_loss:218.08921813964844\trecon:221.1823272705078\tkl_d:0.00011278010060777888\n",
            "epoch:90\tloss:218.30001831054688\ttest_loss:218.56173706054688\trecon:214.56178283691406\tkl_d:7.583710248582065e-05\n",
            "epoch:91\tloss:218.71817016601562\ttest_loss:209.93606567382812\trecon:208.65512084960938\tkl_d:5.019340824219398e-05\n",
            "epoch:92\tloss:215.17889404296875\ttest_loss:207.80056762695312\trecon:209.40745544433594\tkl_d:3.087643926846795e-05\n",
            "epoch:93\tloss:219.0670166015625\ttest_loss:208.19284057617188\trecon:210.46302795410156\tkl_d:4.6617129555670545e-05\n",
            "epoch:94\tloss:214.7584228515625\ttest_loss:205.43995666503906\trecon:205.5026092529297\tkl_d:4.3836877011926845e-05\n",
            "epoch:95\tloss:216.66537475585938\ttest_loss:204.74188232421875\trecon:208.600341796875\tkl_d:4.05208338634111e-05\n",
            "epoch:96\tloss:216.84451293945312\ttest_loss:204.37840270996094\trecon:197.3678436279297\tkl_d:4.181609983788803e-05\n",
            "epoch:97\tloss:212.10195922851562\ttest_loss:203.1045379638672\trecon:203.5965576171875\tkl_d:3.801296043093316e-05\n",
            "epoch:98\tloss:211.326171875\ttest_loss:212.10443115234375\trecon:229.9386749267578\tkl_d:2.9778233511024155e-05\n",
            "epoch:99\tloss:213.65325927734375\ttest_loss:200.66015625\trecon:195.64862060546875\tkl_d:0.00020269960805308074\n"
          ]
        }
      ],
      "source": [
        "num_epochs = 100\n",
        "train_losses = []\n",
        "valid_losses = []\n",
        "early_stopping = EarlyStopping(model_name, patience=20)\n",
        "\n",
        "for i in range(num_epochs):\n",
        "    losses = []\n",
        "    eps_i = ss_func(i, rate=125)#clamp(i, max=num_epochs)\n",
        "    model.set_eps_i(eps_i)\n",
        "    model.train()\n",
        "    for input in train_loader:\n",
        "        model.zero_grad()\n",
        "        x = input['piano_rolls']\n",
        "        x = x.float().to(device)\n",
        "        y, loss, _ = model.forward(x)\n",
        "        #print('i')\n",
        "        loss.backward()\n",
        "        optimizer.step()\n",
        "        losses.append(loss.cpu().detach().numpy())\n",
        "    train_losses.append(np.average(losses))\n",
        "\n",
        "    with torch.no_grad():\n",
        "        model.eval()\n",
        "        losses = []\n",
        "        for i_batch, input in enumerate(valid_loader):\n",
        "            x = input['piano_rolls']\n",
        "            x = x.float().to(device)\n",
        "            y, loss, (recon, kl_d) = model.forward(x)\n",
        "            losses.append(loss.cpu().detach().numpy())\n",
        "\n",
        "            \"\"\"\n",
        "            if i%5 == 0 and i_batch == 0:\n",
        "                x_sample = x.cpu().detach().numpy()\n",
        "                y_sample = y.cpu().detach().numpy()\n",
        "                \n",
        "                for j in range(len(x_sample)):\n",
        "                    recon_midi(x_sample[j], '{}/recon_learning/epoch:{}(original)'.format(model_name, i))\n",
        "                    recon_midi(y_sample[j], '{}/recon_learning/epoch:{}(model)'.format(model_name, i))\n",
        "                    break\n",
        "            \"\"\"     \n",
        "        loss = np.average(losses)\n",
        "        valid_losses.append(loss)\n",
        "        print('epoch:{}\\tloss:{}\\ttest_loss:{}\\trecon:{}\\tkl_d:{}'.format(i, train_losses[-1], valid_losses[-1], recon, kl_d))\n",
        "    \n",
        "    early_stopping(valid_losses[-1])\n",
        "    if early_stopping.early_stop:\n",
        "        print('Early Stopping')\n",
        "        break"
      ]
    },
    {
      "cell_type": "markdown",
      "metadata": {
        "id": "VIBx6Ts_g9fA"
      },
      "source": [
        "# ロスが保存できなかった場合の応急処置"
      ]
    },
    {
      "cell_type": "code",
      "execution_count": null,
      "metadata": {
        "id": "rifFprIlbhaL"
      },
      "outputs": [],
      "source": [
        "with open('loss_0517_no cond.txt') as f:\n",
        "    content = f.read()"
      ]
    },
    {
      "cell_type": "code",
      "execution_count": null,
      "metadata": {
        "colab": {
          "base_uri": "https://localhost:8080/"
        },
        "id": "a6H72tdlbxOv",
        "outputId": "01deaf7c-37dd-47b3-e08e-6d0acf49142e"
      },
      "outputs": [
        {
          "data": {
            "text/plain": [
              "['epoch:0\\tloss:297.3074645996094\\ttest_loss:189.44261169433594\\trecon:227.5342559814453\\tkl_d:0.0018154194112867117',\n",
              " 'epoch:1\\tloss:80.328125\\ttest_loss:17.525005340576172\\trecon:12.606165885925293\\tkl_d:0.0006592165445908904',\n",
              " 'epoch:2\\tloss:8.220298767089844\\ttest_loss:3.7698323726654053\\trecon:1.478340744972229\\tkl_d:0.00046122889034450054',\n",
              " 'epoch:3\\tloss:2.268169403076172\\ttest_loss:1.7329292297363281\\trecon:0.45546603202819824\\tkl_d:0.00018497489509172738',\n",
              " 'epoch:4\\tloss:1.0920311212539673\\ttest_loss:1.9514245986938477\\trecon:17.6158390045166\\tkl_d:0.0002829215954989195',\n",
              " 'epoch:5\\tloss:0.6542097330093384\\ttest_loss:0.7398308515548706\\trecon:0.5155143737792969\\tkl_d:0.00014885177370160818',\n",
              " 'epoch:6\\tloss:0.44151073694229126\\ttest_loss:0.5307603478431702\\trecon:0.23584207892417908\\tkl_d:0.00010852922423509881',\n",
              " 'epoch:7\\tloss:0.3264042139053345\\ttest_loss:0.38536491990089417\\trecon:0.15857744216918945\\tkl_d:9.383667929796502e-05',\n",
              " 'epoch:8\\tloss:0.24165746569633484\\ttest_loss:0.2957124412059784\\trecon:0.10249708592891693\\tkl_d:9.344382851850241e-05',\n",
              " 'epoch:9\\tloss:0.18800143897533417\\ttest_loss:0.2599245309829712\\trecon:0.5497605800628662\\tkl_d:9.991635306505486e-05',\n",
              " 'epoch:10\\tloss:0.1512054055929184\\ttest_loss:0.19353336095809937\\trecon:0.0951315313577652\\tkl_d:8.15662497188896e-05',\n",
              " 'epoch:11\\tloss:0.12371596693992615\\ttest_loss:0.1505812704563141\\trecon:0.049907077103853226\\tkl_d:7.51587504055351e-05',\n",
              " 'epoch:12\\tloss:0.10132237523794174\\ttest_loss:0.12341209501028061\\trecon:0.06585291773080826\\tkl_d:7.55814035073854e-05',\n",
              " 'epoch:13\\tloss:0.08404999226331711\\ttest_loss:0.10931165516376495\\trecon:0.20146892964839935\\tkl_d:7.89300975156948e-05',\n",
              " 'epoch:14\\tloss:0.07115897536277771\\ttest_loss:0.08377355337142944\\trecon:0.054094891995191574\\tkl_d:7.657300739083439e-05',\n",
              " 'epoch:15\\tloss:0.060620490461587906\\ttest_loss:0.07039740681648254\\trecon:0.02274290658533573\\tkl_d:7.260387792484835e-05',\n",
              " 'epoch:16\\tloss:0.052399590611457825\\ttest_loss:0.06010253354907036\\trecon:0.023584919050335884\\tkl_d:6.956946162972599e-05',\n",
              " 'epoch:17\\tloss:0.045738354325294495\\ttest_loss:0.05280173197388649\\trecon:0.03818478435277939\\tkl_d:7.260658458108082e-05',\n",
              " 'epoch:18\\tloss:0.039902083575725555\\ttest_loss:0.04635469615459442\\trecon:0.039666760712862015\\tkl_d:7.01357057550922e-05',\n",
              " 'epoch:19\\tloss:0.0352790504693985\\ttest_loss:0.04149670898914337\\trecon:0.04626495763659477\\tkl_d:7.056919275783002e-05',\n",
              " 'epoch:20\\tloss:0.031434621661901474\\ttest_loss:0.038498759269714355\\trecon:0.06960190832614899\\tkl_d:6.890838994877413e-05',\n",
              " 'epoch:21\\tloss:0.027958957478404045\\ttest_loss:0.03175094351172447\\trecon:0.017526263371109962\\tkl_d:6.804141594329849e-05',\n",
              " 'epoch:22\\tloss:0.025117330253124237\\ttest_loss:0.029394933953881264\\trecon:0.025540078058838844\\tkl_d:6.743182166246697e-05',\n",
              " 'epoch:23\\tloss:0.022627906873822212\\ttest_loss:0.026103174313902855\\trecon:0.021601064130663872\\tkl_d:6.8737703259103e-05',\n",
              " 'epoch:24\\tloss:0.020394232124090195\\ttest_loss:0.023608174175024033\\trecon:0.013420162722468376\\tkl_d:6.710128218401223e-05']"
            ]
          },
          "execution_count": 18,
          "metadata": {},
          "output_type": "execute_result"
        }
      ],
      "source": [
        "content = content.split('\\n')#\"replace('Early Stopping\\n', '').split('\\n')[:-1]\n",
        "content"
      ]
    },
    {
      "cell_type": "code",
      "execution_count": null,
      "metadata": {
        "id": "IU2WtyGJZpo2"
      },
      "outputs": [],
      "source": [
        "import re\n",
        "test = 'aloss:1.2 test_loss:5.5 zz'\n",
        "pattern = '.*loss:([\\d\\.]+).*test_loss:([\\d\\.]+).*'\n",
        "rep = re.compile(pattern)"
      ]
    },
    {
      "cell_type": "code",
      "execution_count": null,
      "metadata": {
        "colab": {
          "base_uri": "https://localhost:8080/",
          "height": 36
        },
        "id": "lUSgOftrxQvo",
        "outputId": "a001fd31-0e68-492f-f07b-0c02d253aef7"
      },
      "outputs": [
        {
          "data": {
            "application/vnd.google.colaboratory.intrinsic+json": {
              "type": "string"
            },
            "text/plain": [
              "'127.13897705078125'"
            ]
          },
          "execution_count": 21,
          "metadata": {},
          "output_type": "execute_result"
        }
      ],
      "source": [
        "test = '\\t\\tepoch:344\\tloss:117.62822723388672\\ttest_loss:127.13897705078125\\trecon:87.85936737060547\\tkl_d:5.445697297545848e-07'\n",
        "rep.match(test).group(2)"
      ]
    },
    {
      "cell_type": "code",
      "execution_count": null,
      "metadata": {
        "id": "6q_p03z4f0A_"
      },
      "outputs": [],
      "source": [
        "train_losses = []\n",
        "valid_losses = []\n",
        "\n",
        "for line in content:\n",
        "    result = rep.match(line)\n",
        "    train_losses.append(float(result.group(1)))\n",
        "    valid_losses.append(float(result.group(2)))"
      ]
    },
    {
      "cell_type": "markdown",
      "metadata": {
        "id": "-d1wc0-hhG_g"
      },
      "source": [
        "# ロス・モデルの保存"
      ]
    },
    {
      "cell_type": "code",
      "execution_count": 17,
      "metadata": {
        "id": "_EVpTGbQFDPc"
      },
      "outputs": [],
      "source": [
        "np.save('{}/train_losses_{}.npy'.format(model_name, model_name), np.array(train_losses))\n",
        "np.save('{}/valid_losses_{}.npy'.format(model_name, model_name), np.array(valid_losses))"
      ]
    },
    {
      "cell_type": "code",
      "execution_count": null,
      "metadata": {
        "id": "lK793MLMP6Sk"
      },
      "outputs": [],
      "source": [
        "with open('param_{}.txt'.format(model_name), mode='w') as f:\n",
        "    f.write(str(params))"
      ]
    },
    {
      "cell_type": "code",
      "execution_count": null,
      "metadata": {
        "id": "kCxAp0uiBT3v"
      },
      "outputs": [],
      "source": [
        "test_losses = np.load('train_losses_{}.npy'.format('0511'))\n",
        "train_losses = np.load('test_losses_{}.npy'.format('0511'))"
      ]
    },
    {
      "cell_type": "code",
      "execution_count": null,
      "metadata": {
        "colab": {
          "base_uri": "https://localhost:8080/",
          "height": 501
        },
        "id": "E911970bg8PX",
        "outputId": "a6799833-7045-48ab-dc85-5f9500b1a57c"
      },
      "outputs": [
        {
          "data": {
            "text/plain": [
              "<matplotlib.legend.Legend at 0x7f5da77c0150>"
            ]
          },
          "execution_count": 27,
          "metadata": {},
          "output_type": "execute_result"
        },
        {
          "data": {
            "image/png": "[encoded data removed]",
            "text/plain": [
              "<Figure size 864x576 with 1 Axes>"
            ]
          },
          "metadata": {},
          "output_type": "display_data"
        }
      ],
      "source": [
        "import matplotlib.pyplot as plt\n",
        "\n",
        "lim = 300\n",
        "loss_h = np.load('test_losses_0511.npy')[:lim]\n",
        "loss_2h = np.load('test_losses_0517.npy')[:lim]\n",
        "loss_inv_sig = np.load('test_losses_0516_invsig.npy')[:lim]\n",
        "loss_clamp = np.load('test_losses_0516_clamp.npy')[:lim]\n",
        "\n",
        "plt.figure(figsize=(12,8))\n",
        "plt.xlabel('epoch')\n",
        "plt.ylabel('loss')\n",
        "plt.plot(loss_h, label='original')\n",
        "plt.plot(loss_2h, label='latent*2')\n",
        "plt.plot(loss_inv_sig, label='scheduled samling (linear)')\n",
        "plt.plot(loss_clamp, label='scheduled sampling (curve)')\n",
        "plt.ylim(100, 500)\n",
        "plt.legend(fontsize=18)"
      ]
    },
    {
      "cell_type": "code",
      "execution_count": null,
      "metadata": {
        "id": "5_oSEPR9E9jV"
      },
      "outputs": [],
      "source": [
        "torch.save(model.state_dict(), '{}/music_vae_{}_studied2.pth'.format(model_name, model_name))"
      ]
    },
    {
      "cell_type": "code",
      "execution_count": null,
      "metadata": {
        "id": "_833qe8YMKHl"
      },
      "outputs": [],
      "source": [
        "model_name = '2022-05-21 09:08:08.257377'"
      ]
    },
    {
      "cell_type": "code",
      "execution_count": null,
      "metadata": {
        "id": "6SWj6JsOYt04"
      },
      "outputs": [],
      "source": [
        "model = MusicVAE(params, device).to(device)\n",
        "params['model'] = str(model)\n",
        "model.load_state_dict(torch.load('{}/music_vae_{}_studied2.pth'.format(model_name, model_name)))\n",
        "optimizer = optim.Adam(model.parameters(), lr=0.001)\n",
        "ss_func = always_one"
      ]
    },
    {
      "cell_type": "code",
      "execution_count": null,
      "metadata": {
        "colab": {
          "base_uri": "https://localhost:8080/"
        },
        "id": "LpSglXqPb8BK",
        "outputId": "129ccb3d-e526-4d9a-f79c-7ae60937753f"
      },
      "outputs": [
        {
          "data": {
            "text/plain": [
              "OrderedDict([('enc_lstm.weight_ih_l0',\n",
              "              tensor([[-0.2320, -0.1112, -0.2007,  ..., -0.0254,  0.0309, -0.2392],\n",
              "                      [-0.1667, -0.1537, -0.1197,  ...,  0.0102,  0.0081, -0.2659],\n",
              "                      [-0.1842, -0.0791, -0.1567,  ...,  0.0294,  0.0087, -0.4060],\n",
              "                      ...,\n",
              "                      [-0.2096, -0.1285, -0.1731,  ..., -0.0276,  0.0239, -0.1977],\n",
              "                      [-0.1993, -0.1662, -0.1167,  ..., -0.0179,  0.0301, -0.3010],\n",
              "                      [-0.1536, -0.1178, -0.1863,  ...,  0.0230, -0.0381, -0.4595]],\n",
              "                     device='cuda:0')),\n",
              "             ('enc_lstm.weight_hh_l0',\n",
              "              tensor([[ 0.0063,  0.0145,  0.0160,  ...,  0.0492, -0.0165, -0.0089],\n",
              "                      [-0.0054,  0.0476, -0.0246,  ..., -0.0042, -0.0515,  0.0268],\n",
              "                      [ 0.0234,  0.0147, -0.0391,  ...,  0.0100, -0.0325,  0.0090],\n",
              "                      ...,\n",
              "                      [-0.0093, -0.0095, -0.0557,  ...,  0.0085, -0.0072,  0.0482],\n",
              "                      [ 0.0414,  0.0528, -0.0045,  ..., -0.0175, -0.0404, -0.0069],\n",
              "                      [ 0.0399,  0.0521,  0.0031,  ...,  0.0182, -0.0241,  0.0429]],\n",
              "                     device='cuda:0')),\n",
              "             ('enc_lstm.bias_ih_l0',\n",
              "              tensor([-0.5596, -0.3722, -0.7524,  ..., -0.3528, -0.6643, -0.8352],\n",
              "                     device='cuda:0')),\n",
              "             ('enc_lstm.bias_hh_l0',\n",
              "              tensor([-0.6163, -0.4292, -0.6850,  ..., -0.3590, -0.6047, -0.8332],\n",
              "                     device='cuda:0')),\n",
              "             ('enc_lstm.weight_ih_l0_reverse',\n",
              "              tensor([[-0.1016, -0.1057, -0.1239,  ..., -0.0278, -0.0283, -0.1631],\n",
              "                      [-0.1316, -0.1532, -0.0325,  ..., -0.0075, -0.0333, -0.1098],\n",
              "                      [-0.0591, -0.0342, -0.1525,  ..., -0.0373, -0.0316, -0.2911],\n",
              "                      ...,\n",
              "                      [-0.1192, -0.1102, -0.1031,  ..., -0.0108,  0.0440, -0.1942],\n",
              "                      [-0.0932, -0.1258, -0.1230,  ...,  0.0353,  0.0028, -0.2708],\n",
              "                      [-0.1999, -0.1900, -0.1786,  ..., -0.0431, -0.0079, -0.2487]],\n",
              "                     device='cuda:0')),\n",
              "             ('enc_lstm.weight_hh_l0_reverse',\n",
              "              tensor([[-0.0191,  0.0421, -0.0402,  ..., -0.0066, -0.0093, -0.0438],\n",
              "                      [ 0.0383,  0.0482, -0.0140,  ...,  0.0108, -0.0307, -0.0249],\n",
              "                      [-0.0205,  0.0259,  0.0211,  ...,  0.0109, -0.0610,  0.0059],\n",
              "                      ...,\n",
              "                      [-0.0104,  0.0466,  0.0280,  ...,  0.0018,  0.0307, -0.0328],\n",
              "                      [ 0.0124,  0.0497,  0.0153,  ...,  0.0282, -0.0295,  0.0180],\n",
              "                      [-0.0159, -0.0009,  0.0305,  ..., -0.0180, -0.0352,  0.0234]],\n",
              "                     device='cuda:0')),\n",
              "             ('enc_lstm.bias_ih_l0_reverse',\n",
              "              tensor([-0.3234, -0.2940, -0.6708,  ..., -0.2341, -0.5841, -0.3855],\n",
              "                     device='cuda:0')),\n",
              "             ('enc_lstm.bias_hh_l0_reverse',\n",
              "              tensor([-0.3589, -0.2476, -0.7098,  ..., -0.2649, -0.5287, -0.3330],\n",
              "                     device='cuda:0')),\n",
              "             ('mean.weight',\n",
              "              tensor([[-2.0154e-03,  6.8998e-03, -1.6800e-02,  ...,  8.7615e-03,\n",
              "                        2.3100e-03, -3.5657e-03],\n",
              "                      [ 2.9630e-03,  1.9988e-03, -2.5775e-03,  ...,  4.2557e-03,\n",
              "                       -5.5240e-03,  9.7141e-03],\n",
              "                      [ 1.2292e-02, -4.4897e-03, -3.3494e-03,  ...,  9.9114e-03,\n",
              "                        9.6387e-03, -2.8682e-03],\n",
              "                      ...,\n",
              "                      [ 3.1022e-03, -6.1924e-04,  1.3881e-02,  ..., -8.1442e-03,\n",
              "                        4.6763e-03,  9.5529e-03],\n",
              "                      [-9.5576e-04,  4.0009e-03, -1.1530e-02,  ...,  9.8485e-05,\n",
              "                       -9.2537e-03,  3.0372e-03],\n",
              "                      [ 8.3149e-03, -1.2651e-03,  6.7745e-03,  ..., -6.2239e-03,\n",
              "                       -5.9605e-03, -8.0151e-03]], device='cuda:0')),\n",
              "             ('mean.bias',\n",
              "              tensor([ 7.8565e-04,  7.6969e-04, -4.3597e-04,  9.4430e-04,  4.5514e-04,\n",
              "                      -4.7436e-04,  1.6331e-03,  7.0581e-04, -1.0146e-04, -9.7166e-04,\n",
              "                       1.7264e-04,  6.0819e-05,  5.4919e-04,  2.0421e-04, -8.1588e-04,\n",
              "                      -5.1951e-05,  1.4175e-04,  1.0518e-03,  3.8511e-04,  6.1615e-04,\n",
              "                      -2.5398e-04, -1.3118e-04,  3.9425e-04,  5.9467e-04,  8.1688e-05,\n",
              "                      -4.4462e-05, -2.5204e-04,  2.4364e-04,  1.3067e-03, -3.0313e-04,\n",
              "                       5.5961e-04,  1.1498e-04,  2.4961e-04, -4.2044e-05, -3.4198e-04,\n",
              "                       1.2210e-04, -5.6948e-04, -4.9802e-05,  1.4925e-03, -4.1270e-04,\n",
              "                       3.1007e-04,  5.2040e-04,  9.6351e-04,  4.8763e-04,  3.8647e-04,\n",
              "                       4.3160e-04,  9.0241e-05,  1.0325e-03,  2.7359e-04,  1.9950e-04,\n",
              "                       7.9032e-04,  2.3196e-04,  7.9813e-04, -5.2767e-04,  3.8568e-04,\n",
              "                      -7.5885e-05,  4.4234e-04,  5.8896e-04,  5.1545e-05,  1.1528e-03,\n",
              "                       5.3295e-04,  6.7604e-04,  9.3069e-04,  8.6425e-04], device='cuda:0')),\n",
              "             ('log_var.weight',\n",
              "              tensor([[-0.0004,  0.0036,  0.0151,  ..., -0.0066, -0.0166, -0.0107],\n",
              "                      [-0.0065,  0.0099,  0.0252,  ..., -0.0032, -0.0064, -0.0143],\n",
              "                      [-0.0044, -0.0120, -0.0077,  ..., -0.0053, -0.0003,  0.0047],\n",
              "                      ...,\n",
              "                      [-0.0063,  0.0024, -0.0094,  ...,  0.0077, -0.0085, -0.0210],\n",
              "                      [ 0.0049,  0.0016,  0.0092,  ...,  0.0016, -0.0171, -0.0155],\n",
              "                      [-0.0072,  0.0032, -0.0245,  ...,  0.0087, -0.0005, -0.0131]],\n",
              "                     device='cuda:0')),\n",
              "             ('log_var.bias',\n",
              "              tensor([ 9.4201e-04,  3.9281e-04, -3.0937e-04,  4.4820e-04,  8.4788e-04,\n",
              "                      -4.0765e-04,  1.0837e-03,  7.4269e-04, -4.6592e-04, -3.8241e-04,\n",
              "                       6.4676e-04, -7.5075e-05,  7.1644e-05,  3.7379e-05, -3.6856e-04,\n",
              "                      -8.6805e-05, -3.7687e-04,  1.1115e-03,  2.4250e-04,  5.7465e-04,\n",
              "                      -4.4334e-04,  2.7649e-05, -3.4706e-05,  5.1166e-04, -1.5111e-04,\n",
              "                       1.6988e-04, -2.4119e-04,  1.9624e-04,  2.6097e-04, -2.8858e-04,\n",
              "                       1.3609e-04, -5.9387e-04, -1.4137e-05,  1.4046e-05, -9.7598e-04,\n",
              "                       4.1532e-04,  1.6449e-04,  1.1296e-04,  1.1003e-03,  2.2963e-04,\n",
              "                       3.9870e-04,  3.7522e-04,  5.5316e-04,  5.2022e-04,  1.5458e-04,\n",
              "                      -6.5192e-05, -1.1114e-04,  4.5599e-04,  2.4705e-04, -9.3903e-05,\n",
              "                       7.5256e-04,  1.6627e-04,  1.4851e-04, -6.4880e-04,  4.7627e-04,\n",
              "                      -1.0847e-03,  7.2117e-04,  3.5815e-04, -1.0196e-04,  7.0962e-04,\n",
              "                       2.0440e-04,  6.0758e-04,  3.8329e-04,  3.7640e-04], device='cuda:0')),\n",
              "             ('z_fc.0.weight',\n",
              "              tensor([[-0.2180, -0.0196, -0.1916,  ..., -0.1789,  0.0112, -0.1604],\n",
              "                      [ 0.0077, -0.1325, -0.1484,  ..., -0.1351,  0.0326, -0.0716],\n",
              "                      [-0.0578, -0.2862, -0.0421,  ..., -0.1178,  0.0130, -0.1966],\n",
              "                      ...,\n",
              "                      [-0.0384, -0.0427, -0.0133,  ..., -0.0823, -0.0064,  0.1041],\n",
              "                      [ 0.0673, -0.1245, -0.0305,  ...,  0.0148,  0.0148, -0.1209],\n",
              "                      [ 0.0050,  0.0761,  0.1441,  ...,  0.0604,  0.0556, -0.0142]],\n",
              "                     device='cuda:0')),\n",
              "             ('z_fc.0.bias',\n",
              "              tensor([-0.1435, -0.1148, -0.1287,  0.1562, -0.0049,  0.1395,  0.0793,  0.0992,\n",
              "                       0.2313, -0.2159,  0.1791, -0.1462, -0.0216, -0.0590,  0.1784,  0.1454,\n",
              "                       0.2136,  0.1652,  0.1036,  0.0131, -0.0555, -0.0019, -0.0429,  0.1177,\n",
              "                      -0.0355,  0.0690, -0.0729,  0.1042, -0.0122,  0.1176, -0.0013, -0.1101,\n",
              "                       0.1706,  0.1039,  0.0764,  0.0818, -0.0921, -0.0616, -0.0397,  0.1101,\n",
              "                       0.0006, -0.2192, -0.1043, -0.0613, -0.0278,  0.1491, -0.1468,  0.1217,\n",
              "                      -0.1092,  0.1222,  0.0838,  0.1364, -0.1171,  0.1852, -0.0032, -0.2547,\n",
              "                       0.0154, -0.0153, -0.0548, -0.1899, -0.0978, -0.0982, -0.0278,  0.1312,\n",
              "                      -0.0763, -0.1024, -0.1894,  0.1726, -0.0957,  0.0775,  0.1700,  0.1887,\n",
              "                       0.0726, -0.0950,  0.0475, -0.0375, -0.0966, -0.1525,  0.2327, -0.0661,\n",
              "                       0.1668,  0.2178,  0.1751, -0.0087, -0.0794,  0.0564,  0.1334, -0.0927,\n",
              "                      -0.1344,  0.1487, -0.0835, -0.0462,  0.0229, -0.0302, -0.0817, -0.1645,\n",
              "                       0.1223,  0.1284,  0.0733,  0.0794,  0.0398,  0.0467, -0.0474,  0.2170,\n",
              "                      -0.1093,  0.0252,  0.0612, -0.0391,  0.0338,  0.1591, -0.1129,  0.0873,\n",
              "                      -0.1248,  0.0836, -0.0047,  0.0320, -0.0089,  0.0671,  0.0015, -0.1261,\n",
              "                       0.0499,  0.0325, -0.0673, -0.0378, -0.1614, -0.0174, -0.1669,  0.1317,\n",
              "                      -0.0205, -0.1240, -0.0663,  0.1725, -0.1153,  0.0992,  0.0608,  0.0662,\n",
              "                       0.1531, -0.0551,  0.1108, -0.1911,  0.0305, -0.1944,  0.1855,  0.1261,\n",
              "                       0.0594,  0.1425,  0.1735,  0.1618, -0.0313,  0.0400,  0.0209,  0.0399,\n",
              "                      -0.2350,  0.0101, -0.1332,  0.0025, -0.1134, -0.0583, -0.0072,  0.0289,\n",
              "                       0.1985,  0.0869, -0.0152,  0.2087, -0.0696, -0.0857, -0.0313,  0.0603,\n",
              "                       0.0328, -0.0149, -0.1150, -0.0525,  0.0457,  0.0913, -0.1057,  0.0600,\n",
              "                      -0.1515,  0.0856, -0.0040, -0.0212,  0.0137,  0.2097, -0.1486, -0.1581,\n",
              "                      -0.0392,  0.2968, -0.0749, -0.2023, -0.0181,  0.0984, -0.0143,  0.0737,\n",
              "                      -0.0185,  0.0485,  0.0118,  0.1044, -0.0411,  0.0905,  0.1392,  0.0990,\n",
              "                       0.1721, -0.1944,  0.1682,  0.0180, -0.1009, -0.1762,  0.1725,  0.0335,\n",
              "                       0.0436,  0.0254,  0.0968,  0.1164, -0.0692,  0.0929,  0.0773,  0.0399,\n",
              "                      -0.0558,  0.1081, -0.2027,  0.0670, -0.0984,  0.0090, -0.0300, -0.1938,\n",
              "                       0.0650,  0.0983,  0.0699,  0.0111, -0.0924,  0.0387, -0.1088, -0.0124,\n",
              "                       0.0392, -0.0098, -0.0752, -0.0514, -0.0691,  0.0576,  0.0169,  0.0742,\n",
              "                      -0.0093,  0.1953, -0.0076, -0.0522,  0.0593,  0.1527, -0.0974, -0.0978,\n",
              "                       0.0722,  0.0006, -0.1708, -0.1007,  0.0372,  0.0727, -0.0048,  0.1037],\n",
              "                     device='cuda:0')),\n",
              "             ('conductor_rnn.weight_ih_l0',\n",
              "              tensor([[ 0.0925,  0.0663, -0.0076,  ...,  0.0599,  0.0389,  0.0031],\n",
              "                      [ 0.0772,  0.0078, -0.0016,  ..., -0.1044, -0.0100,  0.0907],\n",
              "                      [ 0.0894,  0.1175, -0.1039,  ...,  0.0962,  0.0315, -0.0609],\n",
              "                      ...,\n",
              "                      [ 0.0155,  0.0537, -0.0999,  ...,  0.0985,  0.1113,  0.0096],\n",
              "                      [-0.0976,  0.0218, -0.0838,  ..., -0.0810, -0.0638,  0.1139],\n",
              "                      [ 0.0292,  0.0467,  0.0206,  ..., -0.0819, -0.0531, -0.0623]],\n",
              "                     device='cuda:0')),\n",
              "             ('conductor_rnn.weight_hh_l0',\n",
              "              tensor([[ 0.1628,  0.0166, -0.0652,  ...,  0.2046,  0.0013,  0.1399],\n",
              "                      [ 0.0955, -0.0492, -0.1302,  ..., -0.2217, -0.0092,  0.2047],\n",
              "                      [-0.0838, -0.0766, -0.3110,  ...,  0.0703, -0.1146,  0.1024],\n",
              "                      ...,\n",
              "                      [ 0.0958,  0.3375,  0.0404,  ..., -0.0706, -0.0880, -0.0511],\n",
              "                      [-0.0108,  0.0880,  0.1002,  ...,  0.0117,  0.1228,  0.0351],\n",
              "                      [-0.1267,  0.0140, -0.2540,  ...,  0.0800, -0.2196,  0.2692]],\n",
              "                     device='cuda:0')),\n",
              "             ('conductor_rnn.bias_ih_l0',\n",
              "              tensor([-3.1775e-01,  3.0045e-01, -4.8456e-02, -1.1181e-01,  5.5804e-02,\n",
              "                       6.0995e-02, -2.2264e-01, -1.7253e-01, -1.5284e-01, -1.6609e-01,\n",
              "                       1.6274e-01,  3.5583e-01, -1.6414e-01, -1.0863e-01,  7.2650e-02,\n",
              "                       1.5566e-01,  6.4663e-02,  3.0479e-03,  1.0494e-01, -1.7617e-01,\n",
              "                       6.4685e-02,  1.0985e-01, -1.5750e-02,  1.8832e-01,  2.0610e-01,\n",
              "                      -1.1376e-01, -2.3355e-02,  7.5285e-02, -2.1755e-01,  2.4642e-01,\n",
              "                       7.1575e-05,  1.8580e-01, -1.6418e-01,  2.3302e-01, -2.7863e-01,\n",
              "                      -1.7754e-02,  7.7616e-02,  1.6525e-01, -2.7689e-01,  3.1673e-01,\n",
              "                      -9.1128e-03, -3.2911e-02, -1.0381e-01, -1.3559e-01, -1.5493e-02,\n",
              "                      -2.4348e-01, -1.2704e-01, -2.6638e-01, -5.6373e-02, -1.0451e-01,\n",
              "                      -5.4871e-02, -2.2942e-01,  4.7789e-02, -1.6389e-01,  4.8099e-01,\n",
              "                      -1.2605e-01, -2.3571e-01, -8.8450e-02, -3.1921e-01,  7.3274e-01,\n",
              "                      -2.6476e-03, -1.4072e-01,  1.1479e-02, -1.7523e-01, -4.8499e-02,\n",
              "                      -2.1556e-01,  5.5371e-02,  3.5069e-02, -1.6066e-01, -1.0966e-02,\n",
              "                      -2.4846e-01, -7.1191e-02, -1.8055e-01, -3.3148e-05, -3.2921e-02,\n",
              "                       3.3050e-01, -1.6302e-01, -1.4187e-01, -3.9299e-02,  1.4094e-01,\n",
              "                      -3.3575e-02, -1.4787e-01,  2.0125e-01, -1.1862e-01,  1.3632e-02,\n",
              "                      -2.2742e-01,  5.6653e-03, -1.8296e-01,  1.7130e-01, -6.6788e-02,\n",
              "                       3.4981e-02, -3.5035e-02, -1.1699e-01,  2.0715e-01, -1.8436e-02,\n",
              "                       1.5643e-01,  5.9258e-03, -1.5287e-01, -1.3794e-02, -2.3699e-01,\n",
              "                       1.1788e-02, -8.6869e-02, -3.1251e-02, -2.2245e-01, -7.6336e-02,\n",
              "                      -1.4637e-01, -1.5226e-01, -3.5946e-02, -1.0048e-01, -7.2384e-02,\n",
              "                      -2.3680e-02,  3.0354e-02, -2.3023e-02, -1.7957e-01, -1.9692e-02,\n",
              "                      -2.0491e-01, -1.1314e-01, -1.1155e-01, -4.5853e-01, -3.5182e-02,\n",
              "                      -5.5680e-02, -9.7609e-02, -1.7271e-01, -9.0022e-01, -1.7198e-01,\n",
              "                      -1.1523e-01, -4.9101e-02, -1.1218e-01, -1.5010e-01, -1.6337e-01,\n",
              "                       3.3134e-02,  1.3951e-01, -5.0825e-03,  1.3656e-01, -1.2249e-01,\n",
              "                       7.7778e-02, -1.1939e-01, -7.5208e-02,  1.2217e-01, -2.8228e-01,\n",
              "                       1.6998e-01, -1.0179e-01, -1.0250e-01, -2.1613e-01,  4.0317e-02,\n",
              "                      -8.7226e-02, -1.0061e-01,  4.3796e-02, -5.5795e-02,  2.5718e-02,\n",
              "                      -1.9341e-01, -8.2976e-02,  8.0231e-02,  1.4598e-02, -2.8643e-03,\n",
              "                       2.5490e-02, -2.3293e-02,  1.8120e-01, -6.2368e-02,  2.2756e-01,\n",
              "                       5.7961e-02,  1.5440e-02,  5.1792e-03,  1.0869e-01, -9.6613e-02,\n",
              "                       1.9612e-01, -7.2933e-03,  5.9392e-03,  8.1367e-02, -1.1820e-01,\n",
              "                      -8.9905e-02, -2.7876e-02, -1.4594e-01,  1.2640e-01, -2.8220e-02,\n",
              "                       5.3479e-03, -2.0037e-02,  4.5820e-02, -5.0538e-02, -1.7374e-02,\n",
              "                      -6.5142e-02, -1.3557e-01, -1.7196e-01, -1.0239e-01, -5.8488e-02,\n",
              "                       1.5011e-02, -6.5239e-02, -1.1052e-02,  8.3078e-02, -2.1622e-02,\n",
              "                       1.2561e-01, -1.5056e-01, -1.5263e-01,  3.6648e-01, -4.2841e-02,\n",
              "                      -4.8893e-02,  2.3960e-01, -5.8813e-02, -1.6784e-01, -2.2641e-02,\n",
              "                       1.9686e-02, -2.0487e-01,  1.3677e-01,  2.1376e-01, -3.5409e-02,\n",
              "                      -3.2316e-01,  1.9760e-01,  1.2751e-01,  9.4083e-03, -5.2370e-02,\n",
              "                      -7.2269e-02, -8.1172e-02, -3.9557e-02, -1.0471e-01,  4.1119e-02,\n",
              "                       1.2873e-01,  1.6607e-01, -1.5929e-01, -8.1061e-02, -4.1218e-02,\n",
              "                      -5.5753e-02,  2.0750e-01, -5.5610e-02,  2.8262e-01, -1.3066e-01,\n",
              "                      -5.5255e-02, -1.4421e-01, -1.7595e-01,  1.1617e-01,  7.2143e-02,\n",
              "                      -1.0603e-04,  1.0962e-01, -1.7972e-01, -1.6918e-02, -5.3043e-02,\n",
              "                      -1.1185e-01,  2.3952e-02, -2.1902e-01, -5.8407e-02, -5.7093e-02,\n",
              "                       7.8298e-02, -6.7723e-02, -5.3689e-02, -2.9803e-01, -1.5146e-01,\n",
              "                      -7.1791e-02,  3.5710e-01,  6.7621e-02, -1.2553e-01, -5.0708e-02,\n",
              "                      -2.4989e-01,  8.4196e-01, -1.2363e-01, -1.6618e-01, -8.6155e-02,\n",
              "                      -3.1506e-02], device='cuda:0')),\n",
              "             ('conductor_rnn.bias_hh_l0',\n",
              "              tensor([-1.7983e-01,  2.9462e-01, -4.9339e-02, -1.5479e-01,  2.3010e-01,\n",
              "                      -1.1162e-01, -9.8286e-02, -7.9856e-02, -5.5315e-02, -1.1280e-02,\n",
              "                      -4.7136e-02,  2.5535e-01, -5.7189e-02, -9.7854e-02,  2.1212e-01,\n",
              "                       1.5555e-01, -8.6815e-02,  4.4055e-02,  1.2885e-01, -1.2501e-01,\n",
              "                      -6.2926e-02,  4.1844e-02,  1.0165e-01,  2.9475e-01,  2.7326e-01,\n",
              "                      -3.6021e-02,  5.1233e-02, -1.1361e-02, -1.8510e-01,  2.9987e-01,\n",
              "                      -1.6559e-01,  2.9052e-01, -6.1742e-02,  9.7133e-02, -1.8598e-01,\n",
              "                      -1.2677e-01,  1.4171e-02,  1.7556e-01, -2.1445e-01,  3.0709e-01,\n",
              "                      -1.5676e-01, -1.3630e-01, -6.7811e-02, -1.2341e-01,  8.3159e-03,\n",
              "                      -1.3162e-01,  3.2351e-02, -2.3807e-01, -5.5971e-02, -2.2484e-01,\n",
              "                      -2.2915e-01, -1.6912e-01,  6.7258e-02, -9.6041e-02,  3.5438e-01,\n",
              "                       1.0500e-01, -2.1405e-01, -5.0796e-02, -1.6324e-01,  6.8977e-01,\n",
              "                      -4.3039e-02, -4.0986e-02,  2.4293e-02, -2.5757e-01, -1.3147e-02,\n",
              "                      -5.3815e-02, -1.6225e-01, -1.6019e-01, -1.5213e-01, -1.2185e-01,\n",
              "                      -2.7697e-01,  2.7887e-02, -3.5467e-01, -1.6777e-01,  9.8128e-02,\n",
              "                       3.0881e-01, -6.5520e-02, -7.7804e-02,  7.3627e-02,  8.8266e-02,\n",
              "                      -1.1791e-01, -5.4373e-02,  1.5153e-01, -6.4868e-02, -5.3827e-02,\n",
              "                      -1.7513e-01, -1.1827e-01, -1.4541e-01,  6.1743e-02, -8.3488e-02,\n",
              "                       8.1851e-02, -7.0940e-02, -1.5168e-01,  1.0221e-01, -2.0241e-01,\n",
              "                       1.2561e-01, -1.7116e-01, -2.1179e-01,  1.0501e-02, -8.2939e-02,\n",
              "                       1.5851e-01,  4.4358e-02,  1.2584e-02, -3.3147e-01, -1.7509e-01,\n",
              "                       7.5639e-03, -7.9965e-02,  8.5534e-03,  6.8408e-02,  2.2409e-02,\n",
              "                      -1.9879e-01,  7.4039e-02, -5.6285e-02, -8.8557e-02, -5.4758e-04,\n",
              "                      -1.8738e-01, -1.4878e-01,  1.0333e-01, -2.5488e-01, -3.2736e-02,\n",
              "                      -4.4241e-02, -1.3395e-02, -2.1810e-01, -8.6946e-01, -1.1360e-01,\n",
              "                      -2.4694e-02, -6.9248e-02, -2.6431e-03, -1.1410e-01, -3.5523e-02,\n",
              "                       1.0827e-01,  1.0322e-01,  3.9707e-02, -4.3532e-02,  3.3247e-02,\n",
              "                      -7.6668e-02, -6.3259e-02, -1.6482e-01,  2.1351e-01, -2.3071e-01,\n",
              "                       5.7040e-02, -4.0655e-02, -5.1818e-02, -2.3785e-01,  1.1256e-01,\n",
              "                      -1.3513e-01, -9.5373e-02,  4.3582e-02, -3.3318e-02,  4.8935e-02,\n",
              "                      -1.5898e-01, -1.2567e-01,  2.8194e-01,  8.6398e-02, -3.0327e-02,\n",
              "                       2.1816e-02, -9.3268e-02,  2.3425e-01,  1.3121e-01,  3.3890e-01,\n",
              "                       4.2280e-02, -8.1886e-02,  8.9710e-02,  1.2950e-01, -1.7266e-01,\n",
              "                      -4.7371e-02, -1.2412e-01, -5.2032e-02,  1.1853e-01,  7.9744e-02,\n",
              "                      -1.2465e-01,  8.6213e-03,  1.7960e-02,  2.2871e-03, -1.0123e-01,\n",
              "                       1.1747e-01,  6.5989e-02, -1.0813e-02,  7.2652e-02,  7.4541e-02,\n",
              "                       7.1230e-05, -5.2624e-02, -1.7150e-01, -1.4594e-01,  4.0286e-02,\n",
              "                      -3.0842e-02, -3.4985e-02,  1.5275e-01,  1.7291e-02,  2.1179e-02,\n",
              "                       1.8295e-01, -4.4047e-02, -1.3889e-01,  2.9336e-01,  2.1570e-03,\n",
              "                      -1.9588e-01,  2.5880e-01, -3.6214e-02, -1.0412e-01, -1.1976e-01,\n",
              "                       1.0083e-02, -1.4168e-01,  6.1777e-03,  3.1133e-01, -1.4450e-01,\n",
              "                      -2.2141e-01,  7.4825e-02,  1.7330e-01, -2.2666e-02,  4.2213e-02,\n",
              "                       2.8520e-03, -2.1775e-01,  9.1594e-04, -1.4348e-01,  1.6612e-01,\n",
              "                       1.7994e-01,  5.0848e-02, -1.8366e-01,  1.2120e-01, -9.6317e-02,\n",
              "                       3.3041e-03,  1.7230e-01, -8.2369e-02,  3.3777e-01, -1.0462e-01,\n",
              "                      -2.0085e-02, -2.9613e-01, -1.7364e-01,  8.8136e-02,  1.0168e-01,\n",
              "                      -7.7475e-02,  2.0908e-01, -3.1246e-01, -8.4309e-02, -2.2752e-01,\n",
              "                      -1.8821e-01, -1.4203e-02, -2.4484e-01, -3.3298e-03, -1.6387e-01,\n",
              "                       1.1148e-02, -1.4999e-01, -1.6433e-01, -2.3003e-01, -5.7982e-02,\n",
              "                      -1.2387e-01,  3.4770e-01, -4.2436e-02, -5.2478e-02, -1.7139e-01,\n",
              "                      -3.2732e-01,  8.5201e-01, -3.4436e-02, -6.2026e-02, -1.7310e-02,\n",
              "                      -1.5977e-02], device='cuda:0')),\n",
              "             ('conductor_rnn.weight_ih_l1',\n",
              "              tensor([[-0.0157,  0.0157, -0.0415,  ...,  0.0744, -0.0266,  0.0362],\n",
              "                      [-0.0295, -0.1640,  0.0309,  ...,  0.2191,  0.1803,  0.0431],\n",
              "                      [ 0.0912,  0.2515,  0.0347,  ..., -0.1601, -0.0726,  0.1988],\n",
              "                      ...,\n",
              "                      [-0.0555,  0.0764, -0.0809,  ...,  0.0987,  0.2684,  0.2875],\n",
              "                      [-0.0277, -0.0183, -0.1697,  ..., -0.0072, -0.0674,  0.0721],\n",
              "                      [-0.0158,  0.0564,  0.0397,  ...,  0.0899,  0.0596, -0.2027]],\n",
              "                     device='cuda:0')),\n",
              "             ('conductor_rnn.weight_hh_l1',\n",
              "              tensor([[-0.0222,  0.0811, -0.1123,  ...,  0.0540,  0.0986,  0.0053],\n",
              "                      [ 0.1377,  0.0796,  0.0287,  ...,  0.0193,  0.0295, -0.0239],\n",
              "                      [ 0.0219, -0.0864,  0.0425,  ..., -0.1588,  0.1670,  0.0237],\n",
              "                      ...,\n",
              "                      [-0.0930, -0.0528, -0.2965,  ...,  0.2740,  0.0688, -0.1464],\n",
              "                      [-0.1272,  0.1528,  0.0322,  ...,  0.0388,  0.1399, -0.2305],\n",
              "                      [-0.0972,  0.0867, -0.2252,  ...,  0.0125,  0.0144,  0.0585]],\n",
              "                     device='cuda:0')),\n",
              "             ('conductor_rnn.bias_ih_l1',\n",
              "              tensor([-4.4151e-02, -1.9217e-01,  6.0347e-02, -4.2747e-02, -2.0246e-02,\n",
              "                      -9.1416e-02,  8.9129e-02, -1.7101e-01,  1.5064e-01, -4.2337e-02,\n",
              "                      -2.7436e-02, -1.0116e-01, -5.4935e-02, -4.7972e-02,  1.7681e-01,\n",
              "                      -1.7046e-01,  1.4654e-01, -1.1210e-01, -4.8789e-02, -8.7630e-03,\n",
              "                       7.9727e-02,  1.9579e-01, -1.9272e-01, -2.0569e-01, -1.5500e-01,\n",
              "                       3.2520e-04,  5.1992e-02, -1.3217e-01,  1.1141e-01, -1.3475e-01,\n",
              "                       5.9155e-02,  8.4755e-02, -3.9265e-02,  1.2598e-01, -5.9597e-02,\n",
              "                       9.8030e-02,  1.0429e-01,  8.2535e-02,  8.6493e-02,  1.2458e-01,\n",
              "                      -5.6183e-03, -4.5758e-04, -1.5830e-02, -2.5874e-01, -2.2451e-01,\n",
              "                      -6.3569e-02, -2.2878e-01,  4.2653e-02,  4.7726e-02, -1.4966e-01,\n",
              "                       6.0299e-02, -1.9421e-01, -1.4249e-01, -1.1781e-01, -1.5618e-01,\n",
              "                       5.4261e-02, -1.1504e-01,  1.7229e-01, -2.0246e-01, -1.4944e-02,\n",
              "                      -4.9839e-02, -2.7878e-02, -4.5243e-02, -1.7162e-02, -2.9742e-02,\n",
              "                      -1.7992e-01, -5.7330e-02, -7.2175e-02, -1.9408e-01, -1.7693e-02,\n",
              "                      -1.7904e-02, -1.4757e-01,  5.0763e-02,  5.5202e-02,  1.1461e-01,\n",
              "                      -9.2328e-02, -1.8885e-02, -1.4976e-01,  1.5836e-01,  2.2407e-02,\n",
              "                       8.3878e-02, -1.3290e-01,  2.8896e-02, -1.2176e-01, -4.3955e-02,\n",
              "                       1.6236e-01,  4.0362e-02, -2.8317e-01, -1.9708e-01, -1.4809e-01,\n",
              "                      -1.6230e-02, -2.3710e-01, -1.0371e-01, -1.9935e-01, -2.5590e-01,\n",
              "                       5.8092e-03, -2.7297e-01, -3.3249e-01, -2.7487e-01, -1.3225e-02,\n",
              "                       6.3456e-02, -1.5209e-01,  1.8396e-02,  1.7377e-01, -5.0878e-02,\n",
              "                      -3.5849e-02, -8.1035e-02, -6.0842e-02, -1.2037e-01, -1.5238e-01,\n",
              "                      -4.6093e-02,  1.3238e-01,  6.2481e-02, -5.2323e-02, -1.5927e-01,\n",
              "                      -2.3229e-01,  5.3198e-02, -1.1259e-01, -2.0661e-01, -2.7327e-01,\n",
              "                       8.1860e-02,  1.0628e-01, -1.6433e-01, -1.3618e-02, -1.2378e-01,\n",
              "                      -1.5173e-01, -1.8884e-01,  1.0027e-01,  1.0943e-01, -9.8491e-02,\n",
              "                       1.3246e-01,  4.6681e-02,  1.0133e-01, -4.2533e-02, -1.9307e-02,\n",
              "                      -4.5168e-02,  1.9606e-01,  9.7103e-02,  1.6255e-01,  1.3009e-01,\n",
              "                       7.8645e-02, -1.4018e-01,  1.1556e-01, -4.4568e-02,  1.2201e-02,\n",
              "                      -8.2331e-02,  1.2371e-01,  6.4028e-02, -1.3842e-01,  1.6908e-01,\n",
              "                       3.2818e-02,  9.9728e-02, -1.3969e-01,  3.3742e-02, -1.4949e-01,\n",
              "                      -3.0589e-02,  6.7443e-03,  5.6006e-02,  4.8894e-02, -1.6196e-01,\n",
              "                      -2.1215e-02,  7.3740e-02, -2.4716e-02,  9.2987e-02, -9.4340e-03,\n",
              "                      -7.8467e-02,  3.4499e-03,  1.5476e-01, -1.2626e-01,  1.7506e-01,\n",
              "                       1.1394e-01, -8.8103e-02,  9.8791e-02,  1.2966e-01,  5.8776e-02,\n",
              "                       1.8242e-01, -1.5068e-01,  1.9306e-02,  1.2667e-02, -5.8013e-02,\n",
              "                      -8.5790e-02,  9.0764e-02,  1.3876e-01,  1.2291e-03, -5.3226e-02,\n",
              "                       1.8961e-01, -3.5313e-03,  3.7572e-02,  1.7100e-02,  3.0745e-02,\n",
              "                      -9.3260e-02,  1.4126e-01, -1.7092e-01, -1.3036e-01, -2.0328e-01,\n",
              "                      -8.4653e-02, -1.5527e-01, -5.3385e-02, -8.5684e-02, -1.2861e-01,\n",
              "                       2.4069e-02, -1.2654e-01, -3.8397e-02, -6.8249e-02, -1.8553e-01,\n",
              "                       1.2118e-02, -1.1837e-01, -1.3472e-01, -1.1352e-01, -5.7040e-02,\n",
              "                       4.9441e-02, -2.2735e-01, -1.2771e-01, -1.2269e-01, -8.1511e-02,\n",
              "                      -7.8042e-02, -1.5747e-01,  2.7616e-02, -1.8270e-01, -1.1363e-01,\n",
              "                      -9.2830e-02, -1.3688e-02, -1.2726e-01, -1.9243e-01, -2.5516e-01,\n",
              "                      -4.5731e-03, -7.4160e-02, -1.1130e-01, -2.1298e-01,  1.1896e-02,\n",
              "                      -3.8337e-02, -1.1291e-01,  2.1930e-02,  3.3166e-02, -8.4941e-02,\n",
              "                      -4.0335e-02, -2.7102e-01, -1.4620e-02, -1.4546e-01, -9.0390e-02,\n",
              "                      -1.3318e-01, -1.8980e-01,  8.3407e-02, -1.7713e-01, -6.1881e-02,\n",
              "                      -1.1471e-01, -1.2113e-01,  1.9532e-02, -9.7720e-02, -2.1193e-01,\n",
              "                      -5.2617e-02, -1.9226e-01, -1.4508e-01, -1.8962e-01, -1.5789e-01,\n",
              "                       4.6228e-02], device='cuda:0')),\n",
              "             ('conductor_rnn.bias_hh_l1',\n",
              "              tensor([-7.9292e-02, -4.6339e-02, -1.5342e-01, -1.3315e-01,  1.6444e-02,\n",
              "                      -1.8481e-01, -6.0500e-02,  1.7714e-02,  1.0049e-01, -2.3461e-02,\n",
              "                       7.0820e-02,  1.2818e-01, -3.1194e-02,  2.2521e-02,  2.3383e-03,\n",
              "                       5.8290e-05, -2.9350e-02,  2.2036e-02, -8.2012e-02, -1.3043e-01,\n",
              "                      -1.8508e-03,  1.8107e-01, -8.2850e-02, -1.6886e-01, -9.4437e-02,\n",
              "                      -2.9392e-02,  1.0717e-01, -1.1676e-02,  8.5838e-02, -1.3375e-01,\n",
              "                      -7.8909e-02,  1.0117e-01, -1.2119e-01,  1.9607e-02, -9.3104e-02,\n",
              "                      -6.2631e-02,  1.7311e-02, -1.0968e-01,  1.1850e-01,  1.7963e-01,\n",
              "                       1.0580e-01,  1.2141e-01, -1.0705e-01, -1.3256e-01, -1.5275e-01,\n",
              "                      -1.7220e-01, -1.7578e-01,  1.0918e-01, -1.0581e-02, -6.4589e-02,\n",
              "                       4.2702e-02, -3.4185e-02,  5.1605e-02,  8.6975e-03, -5.2647e-02,\n",
              "                      -1.8773e-02, -7.7542e-02,  1.8276e-01,  2.2408e-02, -1.5405e-01,\n",
              "                      -1.8815e-01, -1.1418e-01, -1.1150e-01,  7.4510e-02, -8.3913e-02,\n",
              "                      -1.2008e-01, -2.3735e-01, -9.1739e-02, -1.9066e-01, -1.6859e-01,\n",
              "                       3.3274e-02, -1.2037e-01,  1.3886e-01, -1.2727e-01,  7.0738e-02,\n",
              "                      -1.6593e-01, -1.7615e-02,  4.2016e-02,  7.2751e-02,  2.7844e-02,\n",
              "                       1.3612e-01, -1.3179e-01, -2.8922e-02, -9.4102e-02, -4.3492e-02,\n",
              "                      -1.8087e-02, -1.4727e-01, -5.3488e-02, -6.9730e-02, -8.8164e-02,\n",
              "                       6.9082e-02, -4.8614e-02, -6.4962e-02, -2.7457e-01, -2.7341e-01,\n",
              "                       4.9963e-02, -2.2661e-01, -2.7853e-01, -1.1010e-01, -7.9123e-02,\n",
              "                      -5.9833e-03, -1.4600e-01, -4.2714e-02,  1.6172e-01, -2.0519e-02,\n",
              "                      -1.5018e-01, -6.2754e-02,  3.8007e-03, -9.2710e-02,  2.3471e-02,\n",
              "                      -6.4501e-02,  1.4975e-01,  2.7868e-02, -1.1135e-01, -3.1252e-01,\n",
              "                      -1.3604e-01,  7.1021e-02, -2.7776e-02, -1.0570e-01, -2.0298e-01,\n",
              "                      -1.8687e-02,  6.8548e-02, -1.2112e-01,  9.2837e-02, -1.3309e-01,\n",
              "                      -1.1715e-01, -1.3155e-01,  8.6279e-02, -2.1936e-02, -9.0803e-02,\n",
              "                       2.9050e-02,  7.8393e-02,  1.0982e-01,  4.0433e-02,  2.2027e-01,\n",
              "                       1.2088e-01,  1.4190e-01,  5.2283e-02,  2.0055e-01,  1.4902e-02,\n",
              "                      -6.3735e-03, -7.0870e-02,  2.1497e-01,  7.2999e-02,  1.6784e-01,\n",
              "                      -1.8665e-02,  1.8508e-01,  5.9549e-02, -1.2884e-02,  1.0389e-01,\n",
              "                      -3.6759e-02,  7.7153e-02,  9.9955e-02,  5.1405e-02, -2.0369e-02,\n",
              "                       9.9349e-03, -1.2381e-01, -4.6427e-02, -1.0546e-01, -5.4827e-02,\n",
              "                      -2.7450e-02,  5.3862e-02, -1.9929e-02,  1.5855e-01, -1.3399e-01,\n",
              "                      -5.9081e-03, -1.6752e-01,  1.0059e-01, -1.1493e-01,  9.2424e-02,\n",
              "                       3.5138e-03, -4.3092e-02, -3.1190e-03, -4.3333e-02, -6.0337e-02,\n",
              "                       1.0631e-01,  3.7658e-02, -1.0437e-01,  1.2904e-01,  4.4103e-02,\n",
              "                       8.6501e-02,  6.0767e-02, -2.3302e-02,  4.8352e-02, -1.1355e-01,\n",
              "                       3.6320e-02,  3.4713e-02,  9.4955e-02, -1.4050e-01,  3.8762e-02,\n",
              "                      -9.6185e-02,  8.1512e-02, -2.2512e-01, -1.6557e-01, -1.8897e-01,\n",
              "                      -5.4771e-02, -1.9830e-01, -1.5520e-01, -5.2084e-02, -3.2118e-02,\n",
              "                      -1.1066e-01, -1.0047e-01,  2.9423e-02, -7.5184e-02, -2.1254e-01,\n",
              "                      -1.2275e-01, -1.4240e-02, -4.3679e-02, -2.1169e-01, -1.6881e-02,\n",
              "                       3.0008e-02, -4.8641e-02, -2.0989e-02, -8.0319e-02, -1.5246e-01,\n",
              "                      -7.1780e-02, -1.9127e-01,  6.6610e-02, -5.5720e-02, -1.2407e-01,\n",
              "                      -1.9022e-01, -1.6610e-01, -1.4068e-02, -1.5805e-01, -6.8764e-02,\n",
              "                       8.0887e-02, -2.0969e-02, -9.8833e-02, -1.9598e-01, -1.5034e-01,\n",
              "                      -1.4466e-01,  2.8739e-02,  2.8079e-02,  7.2196e-02, -2.1000e-02,\n",
              "                      -2.8039e-01, -1.3307e-01, -1.4301e-01, -1.5574e-01, -1.7700e-01,\n",
              "                      -1.7530e-01, -6.2056e-02, -7.4863e-03, -6.2381e-02, -2.2484e-02,\n",
              "                      -9.8650e-02, -7.5681e-02,  5.8032e-02, -1.7142e-01, -1.2503e-01,\n",
              "                      -4.8847e-03, -6.3780e-02, -7.9261e-02, -6.5012e-02, -1.2372e-01,\n",
              "                       1.3134e-02], device='cuda:0')),\n",
              "             ('cond_fc.0.weight',\n",
              "              tensor([[-0.0048,  0.1315, -0.0078,  ...,  0.0779, -0.0827,  0.0557],\n",
              "                      [-0.0272, -0.0802,  0.0225,  ...,  0.1225,  0.1338, -0.0047],\n",
              "                      [-0.2973,  0.1094, -0.1212,  ...,  0.1135,  0.1890, -0.0699],\n",
              "                      ...,\n",
              "                      [ 0.2075, -0.0171,  0.0934,  ...,  0.0495, -0.0677,  0.0239],\n",
              "                      [-0.2008,  0.0407, -0.2190,  ..., -0.4910,  0.2893, -0.2259],\n",
              "                      [-0.1470, -0.0216, -0.2428,  ..., -0.0311,  0.1707, -0.1462]],\n",
              "                     device='cuda:0')),\n",
              "             ('cond_fc.0.bias',\n",
              "              tensor([ 0.1757, -0.0493, -0.1463, -0.0072, -0.0483,  0.0391,  0.1399,  0.2636,\n",
              "                       0.0467,  0.2050,  0.2546, -0.3045, -0.0086,  0.1130, -0.3398, -0.0517,\n",
              "                      -0.1028,  0.2493,  0.2243,  0.1702,  0.0225,  0.0638,  0.2038,  0.2914,\n",
              "                       0.1023,  0.2519,  0.1822, -0.0735,  0.2257, -0.3489, -0.1142, -0.2495,\n",
              "                      -0.2568, -0.3108,  0.0190, -0.2005, -0.1040,  0.1884,  0.1059,  0.1861,\n",
              "                      -0.1059,  0.0506, -0.2996,  0.0883,  0.2655,  0.0989,  0.3425, -0.0109,\n",
              "                       0.2255, -0.0355,  0.1572, -0.1330, -0.1617,  0.1968,  0.0516,  0.2301,\n",
              "                       0.1253,  0.1149,  0.3161,  0.1613, -0.1179,  0.0843, -0.2537, -0.1401,\n",
              "                       0.0979, -0.1070, -0.0790, -0.0787, -0.0657,  0.0350,  0.0777,  0.2385,\n",
              "                       0.0368,  0.2092,  0.3017, -0.2278,  0.0212,  0.1691, -0.4157, -0.0176,\n",
              "                      -0.0831,  0.1989,  0.0927,  0.0498,  0.0559,  0.0331,  0.2707,  0.3127,\n",
              "                       0.2646,  0.3054,  0.1627, -0.1338,  0.0959, -0.3016, -0.1241, -0.1265,\n",
              "                      -0.2613, -0.2707, -0.1382, -0.2144, -0.0687,  0.1835,  0.1643,  0.1479,\n",
              "                       0.0276,  0.0583, -0.3655, -0.0300,  0.3275,  0.1550,  0.3113,  0.0298,\n",
              "                       0.3170,  0.1370, -0.0070, -0.1011, -0.1523,  0.2883, -0.0585,  0.2267,\n",
              "                       0.0916,  0.3140,  0.2395,  0.0758, -0.2046,  0.1971, -0.2371, -0.2637,\n",
              "                       0.0468, -0.0772, -0.1190,  0.0791, -0.1574,  0.0508,  0.2029,  0.2695,\n",
              "                       0.1709,  0.1224,  0.1189, -0.3791, -0.1359,  0.0807, -0.2335,  0.0711,\n",
              "                      -0.0476,  0.1241,  0.0492,  0.1660,  0.0351, -0.1192,  0.3653,  0.2731,\n",
              "                       0.1965,  0.2056,  0.2213, -0.0583,  0.1413, -0.3025, -0.1857, -0.1232,\n",
              "                      -0.2755, -0.1724, -0.1048, -0.2097, -0.1775,  0.1053,  0.1544,  0.0902,\n",
              "                      -0.0194,  0.1043, -0.2662, -0.0351,  0.2289,  0.2194,  0.3500,  0.0621,\n",
              "                       0.2942, -0.0050,  0.1290, -0.1656, -0.1531,  0.2177, -0.0459,  0.1499,\n",
              "                       0.1640,  0.2278,  0.3737,  0.0704, -0.1115,  0.0375, -0.2791, -0.1415,\n",
              "                       0.0911, -0.1476, -0.0560, -0.1057, -0.1151, -0.0492,  0.1576,  0.2802,\n",
              "                       0.1886,  0.1590,  0.1622, -0.3877, -0.1149,  0.1228, -0.2522,  0.0777,\n",
              "                      -0.0570,  0.1567,  0.1452,  0.0839,  0.0564, -0.0269,  0.3527,  0.1597,\n",
              "                       0.2373,  0.2321,  0.1676, -0.0967,  0.2240, -0.2663, -0.0513, -0.2895,\n",
              "                      -0.3124, -0.1880,  0.0626, -0.1927, -0.1267,  0.0480,  0.0475,  0.2253,\n",
              "                      -0.0847,  0.1488, -0.2348,  0.0579,  0.1322,  0.2291,  0.2968, -0.0059,\n",
              "                       0.2607,  0.0883,  0.0190, -0.0907, -0.1013,  0.1873, -0.0751,  0.2786,\n",
              "                       0.0550,  0.2554,  0.2137,  0.1481, -0.2008,  0.0979, -0.1223, -0.1675],\n",
              "                     device='cuda:0')),\n",
              "             ('dec_lstm.weight_ih_l0',\n",
              "              tensor([[-0.4157, -0.0092, -0.3843,  ..., -0.0992, -0.1480,  0.2493],\n",
              "                      [ 0.3344, -0.1386,  0.0040,  ...,  0.0962, -0.1874,  0.1518],\n",
              "                      [-0.0133, -0.1682,  0.4054,  ...,  0.2893, -0.3026,  0.2676],\n",
              "                      ...,\n",
              "                      [-0.5046, -0.1701,  0.1049,  ...,  0.0215, -0.0350, -0.0595],\n",
              "                      [-0.5106,  0.4390, -0.6768,  ..., -0.0781, -0.1526,  0.0123],\n",
              "                      [-0.4201, -0.8818,  0.6001,  ..., -0.0134,  0.0482, -0.0307]],\n",
              "                     device='cuda:0')),\n",
              "             ('dec_lstm.weight_hh_l0',\n",
              "              tensor([[-0.3036, -0.1210, -0.2297,  ...,  0.0113, -0.4655,  0.2611],\n",
              "                      [ 0.1768, -0.3871, -0.2301,  ...,  0.0071,  0.0964,  0.2285],\n",
              "                      [ 0.0641, -0.2031, -0.0359,  ..., -0.1534, -0.1797,  0.0546],\n",
              "                      ...,\n",
              "                      [-0.2042, -0.0125,  0.0966,  ...,  0.0643, -0.2253, -0.1725],\n",
              "                      [ 0.0482, -0.1162, -0.1009,  ..., -0.0969, -0.2428,  0.0931],\n",
              "                      [ 0.1939, -0.1045,  0.1678,  ...,  0.1051,  0.2011,  0.0021]],\n",
              "                     device='cuda:0')),\n",
              "             ('dec_lstm.bias_ih_l0',\n",
              "              tensor([ 0.2457,  0.1104,  0.2603,  0.1795,  0.1024,  0.2048,  0.1489,  0.1001,\n",
              "                       0.1284, -0.0248,  0.1317, -0.0110,  0.0558,  0.0847, -0.0418,  0.2356,\n",
              "                       0.0468,  0.2477,  0.1422,  0.3384,  0.1162,  0.0097,  0.0699, -0.0306,\n",
              "                       0.0716,  0.0198,  0.2478,  0.0552, -0.1476,  0.2502,  0.0321,  0.1610,\n",
              "                       0.3822,  0.0966, -0.1101,  0.0895,  0.0700, -0.0812,  0.1281,  0.0664,\n",
              "                       0.2270,  0.3713,  0.2341,  0.1480,  0.1379,  0.2322, -0.0500, -0.0209,\n",
              "                       0.0442,  0.1309,  0.1049,  0.2257,  0.2964,  0.3591,  0.2050,  0.2309,\n",
              "                       0.2542,  0.2926,  0.1925,  0.0018, -0.0434,  0.1896, -0.1334,  0.0046,\n",
              "                      -0.0572,  0.2275,  0.1087,  0.0738,  0.0902,  0.0342, -0.1749,  0.2004,\n",
              "                       0.1668,  0.3137, -0.0402,  0.0924,  0.1149,  0.0304,  0.2340,  0.1924,\n",
              "                       0.0700,  0.1054,  0.1329, -0.0351,  0.1297,  0.0104, -0.0350,  0.1518,\n",
              "                       0.1067, -0.0198, -0.0329,  0.1575,  0.1829, -0.0689,  0.0292, -0.0723,\n",
              "                       0.1558,  0.0892,  0.0847,  0.1708,  0.1175,  0.0450,  0.0427,  0.0344,\n",
              "                       0.1284, -0.0904, -0.1059,  0.0090,  0.0214,  0.0243, -0.0450,  0.1761,\n",
              "                      -0.0302, -0.0233,  0.0542,  0.0880,  0.0247, -0.0827,  0.0431, -0.0128,\n",
              "                       0.1433, -0.0360, -0.0100,  0.1290, -0.0182,  0.0616, -0.0075,  0.1086,\n",
              "                       0.0394, -0.1353, -0.1386,  0.0974, -0.0892,  0.0625, -0.0803, -0.0823,\n",
              "                      -0.0237, -0.2075, -0.0286, -0.0720, -0.1163, -0.0924,  0.0202, -0.1619,\n",
              "                      -0.0673,  0.0823,  0.1146,  0.0058,  0.0693, -0.0644, -0.1037,  0.1132,\n",
              "                       0.0795, -0.2510,  0.0563,  0.0550,  0.1379,  0.0475,  0.0656,  0.2780,\n",
              "                       0.0810,  0.1605,  0.0238, -0.1477, -0.0828, -0.0549, -0.1299, -0.0444,\n",
              "                      -0.0264, -0.0213,  0.0701,  0.1678,  0.0782, -0.0630, -0.1122, -0.0416,\n",
              "                       0.0974, -0.0777,  0.0066,  0.0660,  0.0718, -0.0950,  0.0191, -0.0553,\n",
              "                      -0.0161, -0.0754,  0.0382,  0.0306, -0.0942, -0.0302,  0.0074,  0.1066,\n",
              "                       0.2736,  0.1006,  0.0700,  0.0668,  0.0913,  0.1053,  0.0364,  0.0985,\n",
              "                       0.1199, -0.0894,  0.3315,  0.1476,  0.0134,  0.0608,  0.0364, -0.0270,\n",
              "                       0.3061,  0.0870,  0.2089, -0.0742, -0.0069,  0.2809,  0.1175, -0.1065,\n",
              "                      -0.0116,  0.0436, -0.0626,  0.0394, -0.0707,  0.2261,  0.0427, -0.0121,\n",
              "                      -0.0057, -0.0440, -0.0123,  0.0955,  0.1801,  0.3369,  0.0985, -0.0434,\n",
              "                       0.0295, -0.0691,  0.1418, -0.0158,  0.2124,  0.1857, -0.1206, -0.0123,\n",
              "                       0.2451,  0.2544,  0.3312,  0.2825, -0.0744,  0.1190, -0.0051, -0.0319,\n",
              "                       0.0207, -0.0442, -0.0701,  0.0328, -0.0316, -0.1131, -0.0556,  0.0338],\n",
              "                     device='cuda:0')),\n",
              "             ('dec_lstm.bias_hh_l0',\n",
              "              tensor([ 1.4037e-01,  8.5155e-02,  2.7968e-01,  1.1842e-01,  1.1532e-01,\n",
              "                       2.0377e-01,  6.8698e-02, -5.7027e-02,  8.5799e-02,  9.7817e-02,\n",
              "                       2.1391e-01,  8.7619e-03,  2.8608e-01,  5.4337e-02,  7.5183e-02,\n",
              "                       1.8223e-01,  5.4545e-02,  2.2293e-01,  9.4677e-02,  2.4364e-01,\n",
              "                       2.1267e-01, -1.0755e-02,  2.7991e-01, -8.6327e-02, -5.9164e-02,\n",
              "                      -7.4911e-02,  1.7836e-01,  1.8993e-02, -1.2446e-01,  2.2021e-01,\n",
              "                       8.4131e-02,  1.6886e-01,  3.2095e-01,  7.8090e-02,  9.0089e-02,\n",
              "                       7.7663e-02,  2.3961e-01,  1.9190e-02,  2.5530e-01,  1.6995e-01,\n",
              "                       3.1907e-01,  2.0868e-01,  2.7334e-01,  7.5373e-02,  1.3682e-01,\n",
              "                       4.0550e-02,  1.3079e-01,  1.1930e-01,  7.7539e-02,  5.2340e-02,\n",
              "                       1.8068e-01,  3.0152e-01,  1.9156e-01,  1.2004e-01,  3.2309e-01,\n",
              "                       2.2623e-01,  1.2015e-01,  1.3893e-01,  2.8739e-01, -1.0715e-01,\n",
              "                      -9.9300e-02,  2.1154e-01,  3.4579e-02, -2.0801e-02,  9.3830e-03,\n",
              "                       2.0621e-02,  1.1222e-01, -1.0731e-01,  4.8101e-03, -5.0319e-02,\n",
              "                      -7.2142e-02,  1.2959e-01,  1.2736e-01,  9.9411e-02, -1.7086e-01,\n",
              "                       1.4521e-01,  8.7467e-02,  1.8632e-01,  1.7148e-01,  3.7747e-02,\n",
              "                       2.5234e-02,  2.1949e-01, -6.2458e-02,  1.6147e-01, -7.5893e-02,\n",
              "                       4.6875e-02, -1.6013e-01,  1.9619e-01,  5.4070e-02, -1.0254e-01,\n",
              "                      -4.9912e-02,  7.2092e-02,  1.8544e-01,  8.5048e-02,  8.8986e-02,\n",
              "                       3.7429e-02,  1.3015e-01,  9.5184e-02,  1.0152e-01,  1.6411e-01,\n",
              "                       7.4069e-02,  8.2526e-02,  2.3874e-02,  1.2816e-01, -7.5453e-02,\n",
              "                      -7.7451e-03,  3.6832e-02,  2.1503e-01,  1.4186e-01, -1.5848e-02,\n",
              "                      -3.0934e-02,  1.3551e-01,  6.7700e-02, -3.3629e-02, -1.1525e-01,\n",
              "                      -6.5542e-03,  8.0043e-02, -1.3277e-01,  1.6324e-01, -5.5891e-02,\n",
              "                      -9.4920e-05,  4.0666e-03,  1.4599e-02,  2.1295e-01,  9.8518e-02,\n",
              "                       3.3795e-02,  5.2880e-02,  4.5679e-02,  4.8273e-02, -1.4925e-01,\n",
              "                      -9.8945e-03, -1.8739e-02, -6.6816e-02,  1.7234e-01, -4.8083e-02,\n",
              "                      -9.0583e-02,  1.5592e-01, -5.1351e-02,  5.5935e-02, -1.6417e-01,\n",
              "                      -7.4823e-03, -1.1598e-01,  5.7331e-02, -3.6136e-02, -6.6512e-02,\n",
              "                      -2.2540e-02,  1.2430e-01,  1.2352e-01,  1.2575e-01, -8.4195e-03,\n",
              "                      -6.0581e-02, -9.9897e-02,  9.5110e-02, -2.3536e-01,  1.0988e-01,\n",
              "                      -8.0549e-02,  5.3870e-02, -1.3379e-01,  1.1180e-01,  1.9184e-01,\n",
              "                       1.2178e-01,  1.0160e-01,  3.7593e-02,  7.1559e-02,  1.5614e-02,\n",
              "                       4.6346e-02, -2.2928e-02,  1.7452e-01, -5.0381e-02,  1.9545e-03,\n",
              "                      -2.0526e-02,  5.3564e-02,  7.6130e-02,  6.7092e-02, -7.3749e-02,\n",
              "                      -8.4801e-02, -9.5258e-02,  9.9669e-02, -1.2620e-01, -1.0092e-01,\n",
              "                       1.0775e-01, -9.0368e-02,  1.4811e-01, -1.1658e-01, -3.0509e-02,\n",
              "                      -1.2275e-01, -1.6160e-01, -4.5230e-02,  4.9908e-02, -1.9664e-01,\n",
              "                       2.7965e-02,  1.2694e-01,  2.9820e-01,  1.1196e-01, -1.2393e-01,\n",
              "                       2.0825e-01, -4.3124e-02,  2.4908e-02,  1.4366e-01, -3.6427e-02,\n",
              "                      -8.4179e-02,  1.1511e-01,  1.8205e-01, -4.2887e-02,  6.6556e-02,\n",
              "                      -9.2021e-02,  2.8409e-02,  6.6930e-02,  2.7256e-01,  4.4136e-02,\n",
              "                       1.5767e-01, -4.2756e-02,  3.2866e-02,  3.0057e-01,  2.8820e-01,\n",
              "                       7.8635e-02,  2.4757e-02,  1.3395e-01,  1.2595e-02,  7.0076e-02,\n",
              "                       7.6065e-03,  2.0565e-01, -8.6807e-04, -3.6173e-02,  1.3732e-02,\n",
              "                      -6.8861e-03,  8.7378e-02,  1.4164e-01,  2.2406e-01,  1.7043e-01,\n",
              "                       3.2008e-02, -3.9920e-02,  6.1387e-02,  1.2704e-01,  2.5906e-01,\n",
              "                      -3.0837e-02,  8.2646e-02,  3.7313e-01, -4.3773e-02, -6.5985e-02,\n",
              "                       2.0933e-01,  9.1325e-02,  4.4850e-01,  3.7444e-01,  1.0228e-01,\n",
              "                       1.2178e-01, -7.4703e-02,  6.9942e-02,  1.1024e-01,  1.5571e-01,\n",
              "                      -6.7069e-03,  2.5204e-01, -8.6231e-02,  1.5047e-02,  9.2428e-02,\n",
              "                       6.7301e-02], device='cuda:0')),\n",
              "             ('dec_lstm.weight_ih_l1',\n",
              "              tensor([[-0.5169, -0.1931,  0.2038,  ..., -0.2931, -0.1733, -0.1688],\n",
              "                      [-0.3460, -0.0230, -0.0352,  ..., -0.1762, -0.2826,  0.0741],\n",
              "                      [-0.7527, -0.3557, -0.3325,  ..., -0.2981, -0.5957, -0.4732],\n",
              "                      ...,\n",
              "                      [-1.0545, -0.2806,  0.2511,  ...,  0.1322, -0.5431, -0.2648],\n",
              "                      [-0.3800, -0.4684,  0.0494,  ..., -0.1036, -0.5751,  0.2074],\n",
              "                      [-1.2893,  0.1526,  0.1166,  ..., -0.4913, -0.1140, -0.2855]],\n",
              "                     device='cuda:0')),\n",
              "             ('dec_lstm.weight_hh_l1',\n",
              "              tensor([[ 0.8255,  0.1734, -0.1382,  ...,  0.0121, -0.3919,  0.1266],\n",
              "                      [ 0.4606, -0.2343, -0.1839,  ...,  0.4150,  0.2051,  0.2507],\n",
              "                      [ 0.2619,  0.1371, -0.2101,  ...,  0.0418,  0.3615,  0.2020],\n",
              "                      ...,\n",
              "                      [ 0.2908,  0.5269, -0.7625,  ..., -0.3524,  0.2234, -0.2817],\n",
              "                      [ 0.6252, -0.1275, -0.0800,  ..., -0.0476, -0.2988, -0.4519],\n",
              "                      [ 0.7884,  0.3494, -0.0629,  ..., -0.3192, -0.0667,  0.4317]],\n",
              "                     device='cuda:0')),\n",
              "             ('dec_lstm.bias_ih_l1',\n",
              "              tensor([ 0.0122,  0.2712,  0.2541,  0.2017,  0.2349,  0.3356,  0.1458,  0.1656,\n",
              "                       0.1023,  0.3252,  0.0306,  0.0317,  0.0830,  0.0067,  0.0937,  0.0573,\n",
              "                       0.1146,  0.0084,  0.1059,  0.0933,  0.3049,  0.1144,  0.1597,  0.3338,\n",
              "                       0.0989,  0.1156,  0.1526,  0.3598,  0.2487,  0.3198, -0.0818,  0.1960,\n",
              "                       0.0722,  0.0787, -0.0758,  0.1023,  0.0068, -0.1072,  0.2125,  0.0604,\n",
              "                       0.1125,  0.1520,  0.1189,  0.0128, -0.0308,  0.0835,  0.0342, -0.0420,\n",
              "                       0.0664,  0.0668,  0.0227,  0.1805,  0.0550, -0.0638,  0.1077, -0.0513,\n",
              "                       0.2423,  0.0146,  0.0640, -0.1638,  0.1505, -0.0196,  0.0294,  0.1061,\n",
              "                       0.1426, -0.0530,  0.0478,  0.1236, -0.0987, -0.0073, -0.0971,  0.0812,\n",
              "                       0.0171,  0.0774,  0.1812, -0.0222, -0.1489,  0.0885,  0.0135, -0.0709,\n",
              "                       0.0743,  0.0935, -0.0441,  0.0078, -0.0004,  0.0901,  0.0689, -0.0755,\n",
              "                       0.0114,  0.0359, -0.0295,  0.1090, -0.0336, -0.0569,  0.0606,  0.0251,\n",
              "                       0.0334,  0.1237,  0.0619,  0.1013,  0.0261, -0.1210,  0.0974, -0.0038,\n",
              "                       0.0996,  0.1415, -0.0592, -0.0768, -0.0712, -0.0489,  0.0657, -0.0629,\n",
              "                      -0.0416, -0.0140, -0.0061,  0.2114,  0.0989,  0.0733,  0.1620,  0.1798,\n",
              "                       0.2224, -0.2121,  0.0588,  0.1181,  0.0739,  0.1485,  0.0647,  0.0782,\n",
              "                       0.0524,  0.0576, -0.1238,  0.0993, -0.0462, -0.0105, -0.0948,  0.0900,\n",
              "                       0.1339,  0.0182,  0.0134,  0.1042, -0.0029, -0.0856, -0.0542,  0.0744,\n",
              "                      -0.1066,  0.0659, -0.1137,  0.0190, -0.0290,  0.0997, -0.1378, -0.0820,\n",
              "                       0.0955,  0.0875,  0.0816, -0.0881, -0.0634, -0.0445, -0.0079, -0.1371,\n",
              "                       0.0651, -0.1890, -0.0708,  0.0316, -0.1378,  0.0716,  0.1738, -0.1031,\n",
              "                      -0.0830, -0.0378,  0.0185,  0.1162,  0.0128, -0.0813, -0.0850,  0.1641,\n",
              "                      -0.1202, -0.1229,  0.0233, -0.0203, -0.0049, -0.0247, -0.0436, -0.1329,\n",
              "                      -0.0082, -0.0659,  0.0309,  0.1028, -0.1353,  0.0619, -0.0548, -0.0048,\n",
              "                       0.0785,  0.3245,  0.1001,  0.0773,  0.2341,  0.0794, -0.0076,  0.1982,\n",
              "                       0.1419,  0.1657,  0.0942, -0.0278,  0.1422,  0.3264,  0.1189,  0.1445,\n",
              "                       0.0793,  0.1074,  0.1355,  0.3376,  0.1876,  0.2742,  0.2291,  0.3205,\n",
              "                       0.2387,  0.0027, -0.0763,  0.2202,  0.1694,  0.0582,  0.2917,  0.2444,\n",
              "                       0.3724, -0.0705,  0.3555,  0.1549,  0.0290, -0.0575,  0.1831,  0.2699,\n",
              "                       0.2106,  0.2107, -0.0020, -0.0052,  0.0532,  0.1823,  0.1612,  0.0393,\n",
              "                       0.0833,  0.2049,  0.1936,  0.3373,  0.0964,  0.1354,  0.0906,  0.1034,\n",
              "                       0.1159,  0.1394,  0.2673,  0.1500,  0.1980,  0.2800,  0.2510,  0.2343],\n",
              "                     device='cuda:0')),\n",
              "             ('dec_lstm.bias_hh_l1',\n",
              "              tensor([ 1.7569e-01,  4.2785e-01,  2.3375e-01,  9.1342e-02,  1.0400e-01,\n",
              "                       1.1729e-01, -3.2715e-02,  2.3300e-01, -3.7409e-02,  1.7403e-01,\n",
              "                       1.1906e-01,  1.1782e-01,  7.1189e-02,  1.6345e-01,  1.4102e-01,\n",
              "                       9.7831e-02,  1.6390e-02,  1.3885e-01,  1.5591e-01, -6.4637e-02,\n",
              "                       3.5029e-01, -5.7086e-02,  2.3909e-01,  1.8612e-01,  5.5150e-02,\n",
              "                       2.7986e-01,  1.6098e-01,  3.1239e-01,  1.8717e-01,  2.4092e-01,\n",
              "                      -1.9338e-04,  2.5437e-01,  1.4236e-01,  1.4407e-02, -7.8299e-02,\n",
              "                       8.8008e-02,  8.9127e-02,  4.2343e-02,  1.6772e-01,  1.6182e-01,\n",
              "                       1.8748e-01, -3.1968e-02, -7.5458e-02,  1.0854e-01, -1.2185e-01,\n",
              "                       2.2267e-01,  5.4004e-02, -1.5820e-02, -5.6612e-02,  2.3275e-01,\n",
              "                       3.5610e-02,  1.0346e-01,  3.2115e-02,  1.3633e-01, -1.1684e-02,\n",
              "                      -4.5661e-02,  4.5695e-02,  5.5189e-02,  1.5084e-01, -9.6609e-03,\n",
              "                       1.5602e-02, -8.2283e-02,  2.4068e-02, -6.4301e-02,  1.9955e-02,\n",
              "                       8.7802e-02, -7.3420e-02,  9.9110e-02, -5.2315e-02,  1.7389e-01,\n",
              "                       3.2895e-02, -9.2475e-03,  9.2760e-02,  1.7874e-01,  1.0490e-01,\n",
              "                       7.7248e-02, -8.4408e-02,  9.2586e-02,  7.0762e-02, -7.4163e-02,\n",
              "                      -3.5422e-02,  5.0628e-03, -4.8727e-03, -9.0858e-02, -2.2304e-01,\n",
              "                       8.0377e-03,  1.6373e-02,  3.4749e-02,  3.2528e-02, -2.5102e-03,\n",
              "                      -9.4702e-02,  1.5600e-01,  1.2723e-02,  2.9687e-02,  1.6210e-01,\n",
              "                       2.1862e-01,  6.7208e-02,  8.2854e-02,  1.6732e-02,  1.3046e-01,\n",
              "                      -3.5529e-02, -1.8105e-01,  2.9340e-02,  7.8427e-02, -5.8203e-02,\n",
              "                       1.6446e-01, -1.2912e-02, -8.6947e-02, -1.8649e-02,  1.2430e-01,\n",
              "                      -9.0330e-03,  4.3014e-02,  6.2144e-02, -4.3691e-04,  1.5814e-01,\n",
              "                       2.3197e-01,  3.7693e-02, -5.3320e-02, -7.0432e-02,  5.5022e-02,\n",
              "                       7.8707e-03, -1.2464e-01,  1.6923e-01,  1.3221e-01, -1.3446e-02,\n",
              "                       9.9436e-02, -6.1114e-04,  1.7285e-02,  2.1084e-02,  1.2024e-01,\n",
              "                       2.2517e-02, -3.0596e-02, -1.5457e-02, -5.0213e-02, -4.0476e-02,\n",
              "                      -7.7587e-03,  9.8107e-02,  8.9947e-02,  8.3773e-02, -6.2284e-03,\n",
              "                       8.2273e-02,  1.3654e-01,  3.1159e-03, -6.6895e-02, -1.1154e-01,\n",
              "                       1.1366e-01,  6.8378e-02, -5.2118e-02, -1.3628e-02,  5.8465e-02,\n",
              "                      -5.4730e-02,  5.3841e-03, -1.1577e-01,  4.9788e-02,  4.6542e-02,\n",
              "                      -1.5666e-01, -8.7592e-02,  1.8444e-01, -2.9316e-02, -1.1924e-01,\n",
              "                      -7.7059e-02, -2.2354e-02, -1.6866e-02, -1.0958e-01, -1.4507e-01,\n",
              "                      -1.0873e-01,  1.8151e-01, -1.1724e-01, -9.0943e-02, -1.1504e-01,\n",
              "                       8.8404e-02, -4.9250e-02, -5.7635e-02,  4.4111e-05, -1.2410e-01,\n",
              "                       6.7490e-02,  3.5235e-02,  6.7374e-02,  6.9251e-02,  8.5818e-02,\n",
              "                       1.3040e-01, -6.5540e-03,  1.7247e-01, -1.2486e-01,  1.6150e-01,\n",
              "                      -6.4533e-02,  3.6211e-02, -4.8504e-02, -1.5056e-01, -9.7732e-02,\n",
              "                      -9.1952e-02,  1.4820e-01,  1.5554e-01,  3.8858e-01,  1.3136e-02,\n",
              "                       5.8680e-02,  6.2443e-02,  2.0180e-01,  1.6854e-01,  1.1050e-01,\n",
              "                       1.3937e-01,  9.5917e-02,  1.4124e-01,  3.6778e-02,  1.0114e-01,\n",
              "                       3.8510e-01,  1.5150e-01,  7.4817e-02,  2.2018e-01,  2.3659e-01,\n",
              "                       2.1408e-01,  3.1445e-01,  3.3475e-01,  2.6015e-01,  2.8699e-01,\n",
              "                       2.3982e-01,  6.2948e-02,  6.0937e-02, -7.2193e-02,  3.0406e-01,\n",
              "                       1.5506e-01,  8.2758e-02,  9.8960e-02,  2.1152e-01,  3.2153e-01,\n",
              "                       4.1854e-02,  1.1598e-01,  1.8258e-01, -1.9496e-03,  1.0112e-01,\n",
              "                       2.3582e-01,  8.8683e-02,  2.5975e-01,  1.9633e-01,  2.0725e-01,\n",
              "                       9.4590e-02, -1.1651e-02,  1.0738e-01,  6.7613e-02, -2.2308e-02,\n",
              "                       1.5531e-01,  1.5667e-01,  2.5312e-01,  2.7019e-01,  2.7226e-01,\n",
              "                       2.4081e-01,  2.9997e-02,  9.9301e-02,  1.6675e-01,  9.9254e-02,\n",
              "                       3.4212e-01,  9.7227e-02,  8.7471e-02,  1.7492e-01,  1.1758e-01,\n",
              "                       1.5568e-01], device='cuda:0')),\n",
              "             ('dec_fc.0.weight',\n",
              "              tensor([[-0.6509,  0.2560,  0.0582,  ..., -0.4045, -0.4492, -0.0608],\n",
              "                      [ 0.6809, -0.1963,  0.2216,  ...,  0.1103, -0.2696, -0.2782],\n",
              "                      [-0.0650,  0.0940, -0.1557,  ...,  0.0893,  0.2644, -0.1733],\n",
              "                      ...,\n",
              "                      [ 0.6137, -0.3478,  0.2983,  ...,  0.0247, -0.0068,  0.4572],\n",
              "                      [ 0.1381, -0.3456,  0.2938,  ...,  0.0091,  0.7762,  0.3068],\n",
              "                      [ 0.3223,  0.4887, -0.4803,  ..., -0.1134, -0.1972,  0.2793]],\n",
              "                     device='cuda:0')),\n",
              "             ('dec_fc.0.bias',\n",
              "              tensor([-0.0658, -0.2845, -0.0869, -0.2298,  0.0445, -0.0809, -0.1041,  0.0627,\n",
              "                      -0.0395,  0.0662, -0.0695,  0.0046,  0.2138,  0.0954,  0.1920, -0.2659,\n",
              "                       0.0512,  0.1015, -0.0009,  0.1128, -0.0159,  0.1506,  0.1371,  0.0931,\n",
              "                       0.0351,  0.0111,  0.1843,  0.1081,  0.0685,  0.0790,  0.1739, -0.0167,\n",
              "                       0.0072, -0.0085,  0.2057,  0.1090,  0.2451, -0.0790,  0.0714,  0.1342,\n",
              "                      -0.0586,  0.0444,  0.1483, -0.0188, -0.0164, -0.2494,  0.0847, -0.4202,\n",
              "                      -0.1961, -0.2253, -0.2911, -0.1933, -0.3853,  0.0772, -0.1560, -0.4756,\n",
              "                      -0.2637, -0.2942, -0.1236, -0.4892,  0.4236], device='cuda:0'))])"
            ]
          },
          "execution_count": 17,
          "metadata": {},
          "output_type": "execute_result"
        }
      ],
      "source": [
        "model.state_dict()"
      ]
    },
    {
      "cell_type": "markdown",
      "metadata": {
        "id": "BIevgTTuJiKS"
      },
      "source": [
        "# モデルの評価"
      ]
    },
    {
      "cell_type": "code",
      "execution_count": null,
      "metadata": {
        "id": "-eRkp9AJJlzP"
      },
      "outputs": [],
      "source": [
        "def calc_accuracy(x, x_p):\n",
        "    idx = np.argmax(x, axis=-1)\n",
        "    idx_p = np.argmax(x_p, axis=-1)\n",
        "    return np.mean(idx==idx_p)"
      ]
    },
    {
      "cell_type": "code",
      "execution_count": null,
      "metadata": {
        "id": "bQmF3erlAyrU"
      },
      "outputs": [],
      "source": [
        "model.set_eps_i(eps_i)"
      ]
    },
    {
      "cell_type": "code",
      "execution_count": null,
      "metadata": {
        "colab": {
          "base_uri": "https://localhost:8080/"
        },
        "id": "Np4_Mr38CZDf",
        "outputId": "cd74df71-80fa-4be1-eb19-8d8aa657dc0b"
      },
      "outputs": [
        {
          "name": "stdout",
          "output_type": "stream",
          "text": [
            "tensor(132.5350, device='cuda:0')\n",
            "tensor(130.6560, device='cuda:0')\n",
            "tensor(143.5839, device='cuda:0')\n",
            "tensor(141.9084, device='cuda:0')\n",
            "tensor(137.3270, device='cuda:0')\n",
            "tensor(125.3053, device='cuda:0')\n",
            "tensor(153.7928, device='cuda:0')\n",
            "tensor(125.8628, device='cuda:0')\n",
            "tensor(159.9374, device='cuda:0')\n",
            "tensor(136.6640, device='cuda:0')\n",
            "tensor(138.7681, device='cuda:0')\n",
            "tensor(141.7003, device='cuda:0')\n",
            "tensor(152.7504, device='cuda:0')\n",
            "tensor(132.8567, device='cuda:0')\n",
            "tensor(128.8349, device='cuda:0')\n",
            "tensor(119.6302, device='cuda:0')\n"
          ]
        }
      ],
      "source": [
        "model.zero_grad()\n",
        "best_acc = 0\n",
        "with torch.no_grad():\n",
        "    model.eval()\n",
        "    for x in valid_loader:\n",
        "        x = x['piano_rolls']\n",
        "        x = x.float().to(device)\n",
        "        y, loss, _ = model.forward(x)\n",
        "        print(loss)\n",
        "\n",
        "        x_sample = x.cpu().detach().numpy()\n",
        "        y_sample = y.cpu().detach().numpy()\n",
        "\n",
        "        acc = calc_accuracy(x_sample, y_sample)\n",
        "        if acc > best_acc:\n",
        "            best_acc = acc\n",
        "            x_best = x_sample\n",
        "            y_best = y_sample"
      ]
    },
    {
      "cell_type": "code",
      "execution_count": null,
      "metadata": {
        "colab": {
          "base_uri": "https://localhost:8080/"
        },
        "id": "z2w6klykoXYW",
        "outputId": "0a18e688-c055-4d96-8a77-5a9d8b4df122"
      },
      "outputs": [
        {
          "data": {
            "text/plain": [
              "0.39417613636363635"
            ]
          },
          "execution_count": 33,
          "metadata": {},
          "output_type": "execute_result"
        }
      ],
      "source": [
        "calc_accuracy(x_sample, y_sample)"
      ]
    },
    {
      "cell_type": "code",
      "execution_count": null,
      "metadata": {
        "colab": {
          "base_uri": "https://localhost:8080/",
          "height": 1000
        },
        "id": "s-rxWny0V_Ay",
        "outputId": "dd003488-23d6-466c-f893-0c6db67f183c"
      },
      "outputs": [
        {
          "name": "stderr",
          "output_type": "stream",
          "text": [
            "/usr/local/lib/python3.7/dist-packages/librosa/display.py:1336: UserWarning: Frequency axis exceeds Nyquist. Did you remember to set all spectrogram parameters in specshow?\n",
            "  \"Frequency axis exceeds Nyquist. \"\n"
          ]
        },
        {
          "name": "stdout",
          "output_type": "stream",
          "text": [
            "1\n",
            "2\n",
            "3\n",
            "4\n",
            "5\n"
          ]
        },
        {
          "data": {
            "image/png": "[encoded data removed]",
            "text/plain": [
              "<Figure size 720x216 with 1 Axes>"
            ]
          },
          "metadata": {},
          "output_type": "display_data"
        },
        {
          "data": {
            "image/png": "[encoded data removed]",
            "text/plain": [
              "<Figure size 720x216 with 1 Axes>"
            ]
          },
          "metadata": {},
          "output_type": "display_data"
        },
        {
          "data": {
            "image/png": "[encoded data removed]",
            "text/plain": [
              "<Figure size 720x216 with 1 Axes>"
            ]
          },
          "metadata": {},
          "output_type": "display_data"
        },
        {
          "data": {
            "image/png": "[encoded data removed]",
            "text/plain": [
              "<Figure size 720x216 with 1 Axes>"
            ]
          },
          "metadata": {},
          "output_type": "display_data"
        },
        {
          "data": {
            "image/png": "[encoded data removed]",
            "text/plain": [
              "<Figure size 720x216 with 1 Axes>"
            ]
          },
          "metadata": {},
          "output_type": "display_data"
        },
        {
          "data": {
            "image/png": "[encoded data removed]",
            "text/plain": [
              "<Figure size 720x216 with 1 Axes>"
            ]
          },
          "metadata": {},
          "output_type": "display_data"
        },
        {
          "data": {
            "image/png": "[encoded data removed]",
            "text/plain": [
              "<Figure size 720x216 with 1 Axes>"
            ]
          },
          "metadata": {},
          "output_type": "display_data"
        },
        {
          "data": {
            "image/png": "[encoded data removed]",
            "text/plain": [
              "<Figure size 720x216 with 1 Axes>"
            ]
          },
          "metadata": {},
          "output_type": "display_data"
        },
        {
          "data": {
            "image/png": "[encoded data removed]",
            "text/plain": [
              "<Figure size 720x216 with 1 Axes>"
            ]
          },
          "metadata": {},
          "output_type": "display_data"
        },
        {
          "data": {
            "image/png": "[encoded data removed]",
            "text/plain": [
              "<Figure size 720x216 with 1 Axes>"
            ]
          },
          "metadata": {},
          "output_type": "display_data"
        }
      ],
      "source": [
        "cnt = 0\n",
        "while cnt<5:\n",
        "    midi1 = recon_midi(x_best[cnt], 'recon/recon({})(original_{}).png'.format(cnt, model_name))\n",
        "    midi1.write('recon/recon({})(original).mid'.format(cnt))\n",
        "    midi2 = recon_midi(y_best[cnt], 'recon/recon({})(model_{}).png'.format(cnt, model_name))\n",
        "    midi2.write('recon/recon({})(model).mid'.format(cnt))\n",
        "    cnt += 1\n",
        "    print(cnt)"
      ]
    },
    {
      "cell_type": "code",
      "execution_count": null,
      "metadata": {
        "colab": {
          "base_uri": "https://localhost:8080/",
          "height": 305
        },
        "id": "F5ne75Nu5xZA",
        "outputId": "5edd919c-2a12-4205-de79-76e57e24a846"
      },
      "outputs": [
        {
          "name": "stderr",
          "output_type": "stream",
          "text": [
            "/usr/local/lib/python3.7/dist-packages/librosa/display.py:1336: UserWarning: Frequency axis exceeds Nyquist. Did you remember to set all spectrogram parameters in specshow?\n",
            "  \"Frequency axis exceeds Nyquist. \"\n"
          ]
        },
        {
          "data": {
            "application/vnd.google.colaboratory.intrinsic+json": {
              "type": "string"
            },
            "text/plain": [
              "'\\nbuilder = MidiBuilder()\\nmidi = builder.midi_from_piano_roll(x_sample[:,:-1])\\nplt.figure(figsize=(10,3))\\nbuilder.plot_midi(midi)\\n'"
            ]
          },
          "execution_count": 110,
          "metadata": {},
          "output_type": "execute_result"
        },
        {
          "data": {
            "image/png": "[encoded data removed]",
            "text/plain": [
              "<Figure size 720x216 with 1 Axes>"
            ]
          },
          "metadata": {},
          "output_type": "display_data"
        }
      ],
      "source": [
        "for _x in test_loader:\n",
        "    x = _x['piano_rolls'][0].to(device)\n",
        "    break\n",
        "x_sample = x.cpu().detach().numpy()\n",
        "\n",
        "recon_midi(x_sample, 'test_t')\n",
        "# TODO: オール0を除外\n",
        "\"\"\"\n",
        "builder = MidiBuilder()\n",
        "midi = builder.midi_from_piano_roll(x_sample[:,:-1])\n",
        "plt.figure(figsize=(10,3))\n",
        "builder.plot_midi(midi)\n",
        "\"\"\""
      ]
    },
    {
      "cell_type": "markdown",
      "metadata": {
        "id": "lkjOhSFjn8IW"
      },
      "source": [
        "# 潜在空間の可視化"
      ]
    },
    {
      "cell_type": "code",
      "execution_count": null,
      "metadata": {
        "colab": {
          "base_uri": "https://localhost:8080/",
          "height": 337
        },
        "id": "o20zPL8Wl4hG",
        "outputId": "3888a700-8121-4b9e-f77a-7eea8536c247"
      },
      "outputs": [
        {
          "ename": "AttributeError",
          "evalue": "ignored",
          "output_type": "error",
          "traceback": [
            "\u001b[0;31m---------------------------------------------------------------------------\u001b[0m",
            "\u001b[0;31mAttributeError\u001b[0m                            Traceback (most recent call last)",
            "\u001b[0;32m<ipython-input-24-385d4b7ef402>\u001b[0m in \u001b[0;36m<module>\u001b[0;34m()\u001b[0m\n\u001b[1;32m      5\u001b[0m     \u001b[0my\u001b[0m \u001b[0;34m=\u001b[0m \u001b[0mmodel\u001b[0m\u001b[0;34m.\u001b[0m\u001b[0mforward\u001b[0m\u001b[0;34m(\u001b[0m\u001b[0mx\u001b[0m\u001b[0;34m)\u001b[0m\u001b[0;34m\u001b[0m\u001b[0;34m\u001b[0m\u001b[0m\n\u001b[1;32m      6\u001b[0m \u001b[0;34m\u001b[0m\u001b[0m\n\u001b[0;32m----> 7\u001b[0;31m     \u001b[0mmodel\u001b[0m\u001b[0;34m.\u001b[0m\u001b[0mz\u001b[0m\u001b[0;34m\u001b[0m\u001b[0;34m\u001b[0m\u001b[0m\n\u001b[0m",
            "\u001b[0;32m/usr/local/lib/python3.7/dist-packages/torch/nn/modules/module.py\u001b[0m in \u001b[0;36m__getattr__\u001b[0;34m(self, name)\u001b[0m\n\u001b[1;32m   1184\u001b[0m                 \u001b[0;32mreturn\u001b[0m \u001b[0mmodules\u001b[0m\u001b[0;34m[\u001b[0m\u001b[0mname\u001b[0m\u001b[0;34m]\u001b[0m\u001b[0;34m\u001b[0m\u001b[0;34m\u001b[0m\u001b[0m\n\u001b[1;32m   1185\u001b[0m         raise AttributeError(\"'{}' object has no attribute '{}'\".format(\n\u001b[0;32m-> 1186\u001b[0;31m             type(self).__name__, name))\n\u001b[0m\u001b[1;32m   1187\u001b[0m \u001b[0;34m\u001b[0m\u001b[0m\n\u001b[1;32m   1188\u001b[0m     \u001b[0;32mdef\u001b[0m \u001b[0m__setattr__\u001b[0m\u001b[0;34m(\u001b[0m\u001b[0mself\u001b[0m\u001b[0;34m,\u001b[0m \u001b[0mname\u001b[0m\u001b[0;34m:\u001b[0m \u001b[0mstr\u001b[0m\u001b[0;34m,\u001b[0m \u001b[0mvalue\u001b[0m\u001b[0;34m:\u001b[0m \u001b[0mUnion\u001b[0m\u001b[0;34m[\u001b[0m\u001b[0mTensor\u001b[0m\u001b[0;34m,\u001b[0m \u001b[0;34m'Module'\u001b[0m\u001b[0;34m]\u001b[0m\u001b[0;34m)\u001b[0m \u001b[0;34m->\u001b[0m \u001b[0;32mNone\u001b[0m\u001b[0;34m:\u001b[0m\u001b[0;34m\u001b[0m\u001b[0;34m\u001b[0m\u001b[0m\n",
            "\u001b[0;31mAttributeError\u001b[0m: 'MusicVAE' object has no attribute 'z'"
          ]
        }
      ],
      "source": [
        "model.eval()\n",
        "zs = []\n",
        "for x in valid_loader:\n",
        "    x = x['piano_rolls'].float().to(device)\n",
        "    y = model.forward(x)\n",
        "\n",
        "    model.z"
      ]
    }
  ],
  "metadata": {
    "accelerator": "GPU",
    "colab": {
      "background_execution": "on",
      "collapsed_sections": [],
      "name": "model.ipynb",
      "provenance": [],
      "authorship_tag": "ABX9TyMvrgII6Vi+jyjOtSWsYXbD",
      "include_colab_link": true
    },
    "kernelspec": {
      "display_name": "Python 3",
      "name": "python3"
    },
    "language_info": {
      "name": "python"
    }
  },
  "nbformat": 4,
  "nbformat_minor": 0
}