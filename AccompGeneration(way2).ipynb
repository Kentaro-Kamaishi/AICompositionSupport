{
 "cells": [
  {
   "cell_type": "markdown",
   "metadata": {},
   "source": [
    "# ライブラリの読み込み"
   ]
  },
  {
   "cell_type": "code",
   "execution_count": null,
   "metadata": {},
   "outputs": [],
   "source": [
    "from __future__ import print_function\n",
    "from keras.callbacks import LambdaCallback\n",
    "from keras.models import Sequential\n",
    "from keras.models import load_model\n",
    "from keras.layers import Dense\n",
    "from keras.layers import LSTM\n",
    "from keras.optimizers import RMSprop, Adadelta, Adam\n",
    "\n",
    "import numpy as np\n",
    "import random\n",
    "import sys"
   ]
  },
  {
   "cell_type": "markdown",
   "metadata": {},
   "source": [
    "# 準備"
   ]
  },
  {
   "cell_type": "code",
   "execution_count": null,
   "metadata": {
    "scrolled": true
   },
   "outputs": [],
   "source": [
    "from tqdm import tqdm\n",
    "import music21 as m21\n",
    "import os\n",
    "\n",
    "BasePath = \"../midi/元データ\"\n",
    "MelodyPath = BasePath + \"/MelodyTrackList.txt\" #主旋律\n",
    "ChordPath = BasePath + \"/ChordTrackList.txt\" #コード\n",
    "CMelodyPath = BasePath + \"/CMelodyTrackList.txt\" #対旋律\n",
    "\n",
    "music_keys = ('C')\n",
    "\n",
    "TrackList = {}\n",
    "with open(ChordPath) as f:\n",
    "    for line in f.readlines():\n",
    "        s = line.strip().split(\"=\")\n",
    "        TrackList[s[0]] = {\"chord\":s[1].split(\",\")}\n",
    "    \n",
    "with open(CMelodyPath) as f:\n",
    "    for line in f.readlines():\n",
    "        s = line.strip().split(\"=\")\n",
    "        TrackList[s[0]][\"cmelody\"] = s[1].split(\",\")\n",
    "\n",
    "#今回はChordTrackListに対してMelodyTrackListの要素数が少ないので、簡略的にこうしている\n",
    "#同じだった場合は、CMelodyと同様に書く\n",
    "for song in TrackList.keys(): \n",
    "    TrackList[song][\"melody\"] = [\"1\"]\n",
    "\n",
    "print(TrackList)"
   ]
  },
  {
   "cell_type": "markdown",
   "metadata": {},
   "source": [
    "# 音符・休符の文字列への変換"
   ]
  },
  {
   "cell_type": "code",
   "execution_count": null,
   "metadata": {},
   "outputs": [],
   "source": [
    "#トラックの結合\n",
    "def concatenateTracks(path, trackNums):\n",
    "    track = m21.converter.parse(path)\n",
    "    p = m21.stream.Part(id=\"part\")\n",
    "    for i in trackNums:\n",
    "        piece = track.parts[int(i)-1]\n",
    "        s = piece.measures(0,None)\n",
    "        p.insert(0,s)\n",
    "        \n",
    "    return p"
   ]
  },
  {
   "cell_type": "code",
   "execution_count": null,
   "metadata": {},
   "outputs": [],
   "source": [
    "#曲が始まってからの時間でそのときの主旋律の音名を調べる辞書を作成\n",
    "TimingToPitch = {}\n",
    "for path in TrackList.keys():\n",
    "    track = m21.converter.parse(path)\n",
    "    piece = track.parts[0] #今回は主旋律=1トラック目の曲しかない\n",
    "    k = piece.analyze('key')\n",
    "    trans = 'C'\n",
    "    i = m21.interval.Interval(k.tonic, m21.pitch.Pitch(trans))\n",
    "    trans_piece = piece.transpose(i)\n",
    "\n",
    "    TimingToPitch[path] = np.zeros(int(track.quarterLength))\n",
    "    for n in trans_piece.flat.notes:\n",
    "        TimingToPitch[path][int(n.offset)] = n.pitch.midi % 12\n"
   ]
  },
  {
   "cell_type": "code",
   "execution_count": null,
   "metadata": {
    "scrolled": true
   },
   "outputs": [],
   "source": [
    "def TrackToStrList(path, trackNums):\n",
    "    track = m21.converter.parse(path)\n",
    "    piece = concatenateTracks(path, trackNums) #コードなので結合\n",
    "    \n",
    "    for trans_key in music_keys:\n",
    "        k = piece.analyze('key')\n",
    "        trans = trans_key\n",
    "        \n",
    "        i = m21.interval.Interval(k.tonic, m21.pitch.Pitch(trans))\n",
    "        trans_piece = piece.transpose(i)\n",
    "        preOffset = 0\n",
    "        TrackStr = []\n",
    "        for n in trans_piece.flat.notes:\n",
    "            notes = []\n",
    "            if isinstance(n, m21.note.Note):\n",
    "                notes = [n]\n",
    "            elif isinstance(n, m21.chord.Chord):\n",
    "                notes = [x for x in n]\n",
    "            \n",
    "            restLen = n.offset - preOffset\n",
    "            for note in notes:\n",
    "                TrackStr.append(str(note.pitch.midi % 12 -TimingToPitch[path][int(note.offset)]) + '_' + str(n.duration.quarterLength) + '_' + str(restLen) + ' ')\n",
    "                restLen = 0\n",
    "            preOffset = n.offset\n",
    "    return TrackStr"
   ]
  },
  {
   "cell_type": "code",
   "execution_count": null,
   "metadata": {},
   "outputs": [],
   "source": [
    "# コードトラックをつなげる\n",
    "chars = []\n",
    "for track in TrackList.keys():\n",
    "    chars.extend(TrackToStrList(track, TrackList[track]['chord']))"
   ]
  },
  {
   "cell_type": "markdown",
   "metadata": {},
   "source": [
    "# 辞書の作成"
   ]
  },
  {
   "cell_type": "code",
   "execution_count": null,
   "metadata": {},
   "outputs": [],
   "source": [
    "count = 0\n",
    "char_indices = {} #辞書\n",
    "indices_char = {} #逆引き辞書\n",
    "\n",
    "for word in chars:\n",
    "    if not word in char_indices:\n",
    "        char_indices[word] = count #key=word, value=count\n",
    "        count += 1\n",
    "        print(count, word)\n",
    "\n",
    "#逆引き辞書の作成\n",
    "indices_char = dict([(value, key) for (key, value) in char_indices.items()])"
   ]
  },
  {
   "cell_type": "markdown",
   "metadata": {},
   "source": [
    "# 文章の作成"
   ]
  },
  {
   "cell_type": "code",
   "execution_count": null,
   "metadata": {},
   "outputs": [],
   "source": [
    "maxlen = 10\n",
    "step = 1\n",
    "sentences = []\n",
    "next_chars = []\n",
    "text = chars\n",
    "\n",
    "for i in range(0, len(text)-maxlen, step): #初項0, 末項len..., 公差step\n",
    "    sentences.append(text[i:i+maxlen])\n",
    "    next_chars.append(text[i+maxlen])\n",
    "print(\"nb sequences:\", len(sentences))"
   ]
  },
  {
   "cell_type": "markdown",
   "metadata": {},
   "source": [
    "# One-Hotベクトル化"
   ]
  },
  {
   "cell_type": "code",
   "execution_count": null,
   "metadata": {},
   "outputs": [],
   "source": [
    "print(\"Vectorization...\")\n",
    "input_data = np.zeros((len(sentences), maxlen, len(chars)), dtype=np.bool)\n",
    "output_data = np.zeros((len(sentences), len(chars)), dtype=np.bool)\n",
    "\n",
    "for i, sentence in enumerate(sentences):\n",
    "    for t, char in enumerate(sentence):\n",
    "        input_data[i, t, char_indices[char]] = 1 #sentence番号, sentence内のindex, 辞書での項目番号\n",
    "    output_data[i, char_indices[next_chars[i]]] = 1 #正解データ"
   ]
  },
  {
   "cell_type": "markdown",
   "metadata": {},
   "source": [
    "# モデルの作成・学習"
   ]
  },
  {
   "cell_type": "code",
   "execution_count": null,
   "metadata": {},
   "outputs": [],
   "source": [
    "epochs = 200\n",
    "print(\"Build model...\")\n",
    "model = Sequential()\n",
    "model.add(LSTM(64, input_shape=(maxlen,len(chars))))\n",
    "model.add(Dense(len(chars), activation='softmax'))\n",
    "\n",
    "optimizer = RMSprop(lr=0.001)\n",
    "model.compile(loss='categorical_crossentropy', optimizer=optimizer, metrics=['accuracy'])\n",
    "stack = model.fit(input_data,output_data,batch_size=64,epochs=epochs,validation_split=0.2)\n",
    "model.save(\"acway1.h5\")"
   ]
  },
  {
   "cell_type": "markdown",
   "metadata": {},
   "source": [
    "# 学習曲線の描画"
   ]
  },
  {
   "cell_type": "code",
   "execution_count": null,
   "metadata": {},
   "outputs": [],
   "source": [
    "import matplotlib.pyplot as plt\n",
    "\n",
    "x = range(epochs)\n",
    "\n",
    "plt.plot(x, stack.history['accuracy'], label=\"accuracy\")\n",
    "#plt.plot(x, stack.history['val_accuracy'], label=\"val_accuracy\", color=\"orange\")\n",
    "plt.title(\"accuracy\")\n",
    "plt.legend(loc='center left', bbox_to_anchor=(1, 0.5))\n",
    "plt.show()\n",
    "\n",
    "plt.plot(x, stack.history['loss'], label=\"loss\")\n",
    "#plt.plot(x, stack.history['val_loss'], label=\"val_loss\", color=\"orange\")\n",
    "plt.title(\"loss\")\n",
    "plt.legend(loc='center left', bbox_to_anchor=(1, 0.5))\n",
    "plt.show()\n",
    "\n",
    "print(stack.history.keys())"
   ]
  },
  {
   "cell_type": "markdown",
   "metadata": {},
   "source": [
    "# 伴奏の生成"
   ]
  },
  {
   "cell_type": "code",
   "execution_count": null,
   "metadata": {},
   "outputs": [],
   "source": [
    "def sample(preds, temperature=1.0):\n",
    "    preds = np.asarray(preds).astype('float64')\n",
    "    preds = np.log(preds) / temperature\n",
    "    exp_preds = np.exp(preds)\n",
    "    preds = exp_preds / np.sum(exp_preds) #softmax関数の計算\n",
    "    probas = np.random.multinomial(1, preds, 1) \n",
    "    #http://www.gentosha-academy.com/serial/okamoto-4/ にmultinomialの説明あり\n",
    "    #今回は1からkがpreds=[p1,p2,...,pk]という度数分布に従っているとき、\n",
    "    #1回(var1)試行を行ったときの度数分布が1サンプル(var3)得られる\n",
    "    return np.argmax(probas) #1になっている要素番号を返す"
   ]
  },
  {
   "cell_type": "code",
   "execution_count": null,
   "metadata": {},
   "outputs": [],
   "source": [
    "def make_melody(length=200):\n",
    "    #適当にスタートの文を選ぶ\n",
    "    start_index = random.randint(0, len(text)-maxlen-1)\n",
    "    \n",
    "    for diversity in [0.5]:\n",
    "        generated = ''\n",
    "        sentence = text[start_index:start_index+maxlen] #ここでユーザの伴奏を与えると続きを生成\n",
    "                   \n",
    "        generated += ''.join(sentence) #sentence(list)の各要素を結合してgeneratedに追加\n",
    "        print(sentence)\n",
    "        \n",
    "        for i in range(length):\n",
    "            input_pred = np.zeros((1, maxlen, len(chars)))\n",
    "            for t, char in enumerate(sentence):\n",
    "                input_pred[0, t, char_indices[char]] = 1\n",
    "            \n",
    "            preds = model.predict(input_pred, verbose=0)[0] #verbose:詳細 0で詳細情報を表示しない\n",
    "            next_index = sample(preds, diversity)\n",
    "            next_char = indices_char[next_index]\n",
    "            \n",
    "            generated += next_char\n",
    "            sentence = sentence[1:]\n",
    "            sentence.append(next_char)\n",
    "            \n",
    "            sys.stdout.write(next_char)\n",
    "            sys.stdout.flush()\n",
    "        print()\n",
    "    return generated\n",
    "\n",
    "#model = load_model('acway1.h5')\n",
    "melo_sentence = make_melody(100)\n",
    "print(melo_sentence)"
   ]
  },
  {
   "cell_type": "markdown",
   "metadata": {},
   "source": [
    "# 出力"
   ]
  },
  {
   "cell_type": "code",
   "execution_count": null,
   "metadata": {},
   "outputs": [],
   "source": [
    "#文字列をmidiに変換\n",
    "meas = m21.stream.Stream()\n",
    "meas.append(m21.meter.TimeSignature('4/4'))\n",
    "melo = melo_sentence.split()\n",
    "offset = 0\n",
    "for m in melo:\n",
    "    pitch, length, _offset = m.split('_')\n",
    "    \n",
    "    tmp = length.split('/')\n",
    "    if len(tmp) == 2:\n",
    "        length = float(tmp[0])/float(tmp[1])\n",
    "    else:\n",
    "        length = float(tmp[0])\n",
    "    \n",
    "    offset += float(_offset)\n",
    "    n = m21.note.Note(TimingToPitch['../midi/元データ\\\\aogeba.mid'][int(offset)]+int(float(pitch))+60, quarterLength=length)\n",
    "    #ユーザの与えた主旋律が仰げば尊しだと仮定\n",
    "    meas.insert(offset,n)\n",
    "\n",
    "meas.makeMeasures()\n",
    "meas.show(\"midi\")\n",
    "meas.write(fmt=\"midi\", fp=\"./way2.mid\")"
   ]
  }
 ],
 "metadata": {
  "kernelspec": {
   "display_name": "Python 3",
   "language": "python",
   "name": "python3"
  },
  "language_info": {
   "codemirror_mode": {
    "name": "ipython",
    "version": 3
   },
   "file_extension": ".py",
   "mimetype": "text/x-python",
   "name": "python",
   "nbconvert_exporter": "python",
   "pygments_lexer": "ipython3",
   "version": "3.7.6"
  }
 },
 "nbformat": 4,
 "nbformat_minor": 4
}
